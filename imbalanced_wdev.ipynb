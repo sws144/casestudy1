{
 "cells": [
  {
   "cell_type": "markdown",
   "id": "1563aa72",
   "metadata": {},
   "source": [
    "# Imbalanced"
   ]
  },
  {
   "cell_type": "code",
   "execution_count": 149,
   "id": "b04558a2",
   "metadata": {
    "ExecuteTime": {
     "end_time": "2022-08-14T02:24:56.227519Z",
     "start_time": "2022-08-14T02:24:56.215547Z"
    }
   },
   "outputs": [],
   "source": [
    "import numpy as np\n",
    "import pandas as pd\n",
    "import matplotlib.pyplot as plt\n",
    "from lightgbm import LGBMRegressor\n",
    "from sklearn.model_selection import train_test_split"
   ]
  },
  {
   "cell_type": "code",
   "execution_count": 150,
   "id": "a60ee598",
   "metadata": {
    "ExecuteTime": {
     "end_time": "2022-08-14T02:24:56.338502Z",
     "start_time": "2022-08-14T02:24:56.231504Z"
    }
   },
   "outputs": [],
   "source": [
    "df = pd.read_excel(\"data/imbalanced_dataset_wdev.xlsx\")"
   ]
  },
  {
   "cell_type": "code",
   "execution_count": 151,
   "id": "cfb792c0",
   "metadata": {
    "ExecuteTime": {
     "end_time": "2022-08-14T02:24:56.370093Z",
     "start_time": "2022-08-14T02:24:56.346503Z"
    },
    "scrolled": true
   },
   "outputs": [
    {
     "data": {
      "text/html": [
       "<div>\n",
       "<style scoped>\n",
       "    .dataframe tbody tr th:only-of-type {\n",
       "        vertical-align: middle;\n",
       "    }\n",
       "\n",
       "    .dataframe tbody tr th {\n",
       "        vertical-align: top;\n",
       "    }\n",
       "\n",
       "    .dataframe thead th {\n",
       "        text-align: right;\n",
       "    }\n",
       "</style>\n",
       "<table border=\"1\" class=\"dataframe\">\n",
       "  <thead>\n",
       "    <tr style=\"text-align: right;\">\n",
       "      <th></th>\n",
       "      <th>Record</th>\n",
       "      <th>Loss</th>\n",
       "      <th>Dev</th>\n",
       "      <th>AY</th>\n",
       "      <th>EvalYr</th>\n",
       "    </tr>\n",
       "  </thead>\n",
       "  <tbody>\n",
       "    <tr>\n",
       "      <th>0</th>\n",
       "      <td>1</td>\n",
       "      <td>0.000</td>\n",
       "      <td>1</td>\n",
       "      <td>2000</td>\n",
       "      <td>2001</td>\n",
       "    </tr>\n",
       "    <tr>\n",
       "      <th>1</th>\n",
       "      <td>1</td>\n",
       "      <td>3.500</td>\n",
       "      <td>2</td>\n",
       "      <td>2000</td>\n",
       "      <td>2002</td>\n",
       "    </tr>\n",
       "    <tr>\n",
       "      <th>2</th>\n",
       "      <td>1</td>\n",
       "      <td>4.375</td>\n",
       "      <td>3</td>\n",
       "      <td>2000</td>\n",
       "      <td>2003</td>\n",
       "    </tr>\n",
       "    <tr>\n",
       "      <th>3</th>\n",
       "      <td>1</td>\n",
       "      <td>4.550</td>\n",
       "      <td>4</td>\n",
       "      <td>2000</td>\n",
       "      <td>2004</td>\n",
       "    </tr>\n",
       "    <tr>\n",
       "      <th>4</th>\n",
       "      <td>1</td>\n",
       "      <td>4.900</td>\n",
       "      <td>5</td>\n",
       "      <td>2000</td>\n",
       "      <td>2005</td>\n",
       "    </tr>\n",
       "    <tr>\n",
       "      <th>...</th>\n",
       "      <td>...</td>\n",
       "      <td>...</td>\n",
       "      <td>...</td>\n",
       "      <td>...</td>\n",
       "      <td>...</td>\n",
       "    </tr>\n",
       "    <tr>\n",
       "      <th>727</th>\n",
       "      <td>122</td>\n",
       "      <td>1.000</td>\n",
       "      <td>2</td>\n",
       "      <td>2001</td>\n",
       "      <td>2003</td>\n",
       "    </tr>\n",
       "    <tr>\n",
       "      <th>728</th>\n",
       "      <td>122</td>\n",
       "      <td>1.250</td>\n",
       "      <td>3</td>\n",
       "      <td>2001</td>\n",
       "      <td>2004</td>\n",
       "    </tr>\n",
       "    <tr>\n",
       "      <th>729</th>\n",
       "      <td>122</td>\n",
       "      <td>1.300</td>\n",
       "      <td>4</td>\n",
       "      <td>2001</td>\n",
       "      <td>2005</td>\n",
       "    </tr>\n",
       "    <tr>\n",
       "      <th>730</th>\n",
       "      <td>122</td>\n",
       "      <td>1.400</td>\n",
       "      <td>5</td>\n",
       "      <td>2001</td>\n",
       "      <td>2006</td>\n",
       "    </tr>\n",
       "    <tr>\n",
       "      <th>731</th>\n",
       "      <td>122</td>\n",
       "      <td>1.500</td>\n",
       "      <td>6</td>\n",
       "      <td>2001</td>\n",
       "      <td>2007</td>\n",
       "    </tr>\n",
       "  </tbody>\n",
       "</table>\n",
       "<p>732 rows × 5 columns</p>\n",
       "</div>"
      ],
      "text/plain": [
       "     Record   Loss  Dev    AY  EvalYr\n",
       "0         1  0.000    1  2000    2001\n",
       "1         1  3.500    2  2000    2002\n",
       "2         1  4.375    3  2000    2003\n",
       "3         1  4.550    4  2000    2004\n",
       "4         1  4.900    5  2000    2005\n",
       "..      ...    ...  ...   ...     ...\n",
       "727     122  1.000    2  2001    2003\n",
       "728     122  1.250    3  2001    2004\n",
       "729     122  1.300    4  2001    2005\n",
       "730     122  1.400    5  2001    2006\n",
       "731     122  1.500    6  2001    2007\n",
       "\n",
       "[732 rows x 5 columns]"
      ]
     },
     "execution_count": 151,
     "metadata": {},
     "output_type": "execute_result"
    }
   ],
   "source": [
    "df"
   ]
  },
  {
   "cell_type": "markdown",
   "id": "60f7bcfe",
   "metadata": {},
   "source": [
    "## Dummy Data"
   ]
  },
  {
   "cell_type": "code",
   "execution_count": 152,
   "id": "6efba108",
   "metadata": {
    "ExecuteTime": {
     "end_time": "2022-08-14T02:24:56.734189Z",
     "start_time": "2022-08-14T02:24:56.378091Z"
    }
   },
   "outputs": [
    {
     "data": {
      "image/png": "[encoded data removed]",
      "text/plain": [
       "<Figure size 432x288 with 1 Axes>"
      ]
     },
     "metadata": {
      "needs_background": "light"
     },
     "output_type": "display_data"
    }
   ],
   "source": [
    "# Create an LGBM model\n",
    "params = {\n",
    "    'objective': 'regression',\n",
    "    'linear_tree': True,\n",
    "}\n",
    "model = LGBMRegressor(**params)\n",
    "\n",
    "# Create time serie timestamp indices\n",
    "ts = np.linspace(0, 10, 100)\n",
    "X = pd.DataFrame({'ts': ts})\n",
    "\n",
    "# Generate signal to predict using a simple linear system\n",
    "y = ts * 6.66\n",
    "\n",
    "# Train LGBM model\n",
    "model.fit(X, y)\n",
    "\n",
    "# Create prediction inputs. Start with timestamp indices\n",
    "# Shift the initial time range by 0.05 to force interpolation and augment if to force extrapolation\n",
    "x_preds = pd.DataFrame({'ts': list(ts + 0.05) + [11, 12, 13, 14, 15]})\n",
    "preds = model.predict(x_preds)\n",
    "# Plot results.\n",
    "# LGBM with linear tree can extrapolate\n",
    "plt.plot(x_preds, x_preds['ts'] * 6.66, label='true values')\n",
    "plt.plot(x_preds, preds, label='LGBM predicted values')\n",
    "plt.legend()\n",
    "# plt.savefig('lgbm_linear.png')\n",
    "plt.show()"
   ]
  },
  {
   "cell_type": "markdown",
   "id": "73dc6ed5",
   "metadata": {},
   "source": [
    "## Real Data"
   ]
  },
  {
   "cell_type": "code",
   "execution_count": 153,
   "id": "cea6c139",
   "metadata": {
    "ExecuteTime": {
     "end_time": "2022-08-14T02:24:56.750157Z",
     "start_time": "2022-08-14T02:24:56.736127Z"
    }
   },
   "outputs": [],
   "source": [
    "# Create an LGBM model\n",
    "params = {\n",
    "    'objective': 'regression',\n",
    "    'linear_tree': True, #for forecasting\n",
    "#     'lambda_l1 ': 0.2, \n",
    "}\n",
    "model2 = LGBMRegressor(**params)"
   ]
  },
  {
   "cell_type": "code",
   "execution_count": 154,
   "id": "cab08650",
   "metadata": {
    "ExecuteTime": {
     "end_time": "2022-08-14T02:24:56.766141Z",
     "start_time": "2022-08-14T02:24:56.755128Z"
    }
   },
   "outputs": [],
   "source": [
    "X = df[['Dev']]"
   ]
  },
  {
   "cell_type": "code",
   "execution_count": 155,
   "id": "e7de7571",
   "metadata": {
    "ExecuteTime": {
     "end_time": "2022-08-14T02:24:56.798128Z",
     "start_time": "2022-08-14T02:24:56.776170Z"
    }
   },
   "outputs": [
    {
     "data": {
      "text/html": [
       "<div>\n",
       "<style scoped>\n",
       "    .dataframe tbody tr th:only-of-type {\n",
       "        vertical-align: middle;\n",
       "    }\n",
       "\n",
       "    .dataframe tbody tr th {\n",
       "        vertical-align: top;\n",
       "    }\n",
       "\n",
       "    .dataframe thead th {\n",
       "        text-align: right;\n",
       "    }\n",
       "</style>\n",
       "<table border=\"1\" class=\"dataframe\">\n",
       "  <thead>\n",
       "    <tr style=\"text-align: right;\">\n",
       "      <th></th>\n",
       "      <th>Dev</th>\n",
       "    </tr>\n",
       "  </thead>\n",
       "  <tbody>\n",
       "    <tr>\n",
       "      <th>0</th>\n",
       "      <td>1</td>\n",
       "    </tr>\n",
       "    <tr>\n",
       "      <th>1</th>\n",
       "      <td>2</td>\n",
       "    </tr>\n",
       "    <tr>\n",
       "      <th>2</th>\n",
       "      <td>3</td>\n",
       "    </tr>\n",
       "    <tr>\n",
       "      <th>3</th>\n",
       "      <td>4</td>\n",
       "    </tr>\n",
       "    <tr>\n",
       "      <th>4</th>\n",
       "      <td>5</td>\n",
       "    </tr>\n",
       "    <tr>\n",
       "      <th>...</th>\n",
       "      <td>...</td>\n",
       "    </tr>\n",
       "    <tr>\n",
       "      <th>727</th>\n",
       "      <td>2</td>\n",
       "    </tr>\n",
       "    <tr>\n",
       "      <th>728</th>\n",
       "      <td>3</td>\n",
       "    </tr>\n",
       "    <tr>\n",
       "      <th>729</th>\n",
       "      <td>4</td>\n",
       "    </tr>\n",
       "    <tr>\n",
       "      <th>730</th>\n",
       "      <td>5</td>\n",
       "    </tr>\n",
       "    <tr>\n",
       "      <th>731</th>\n",
       "      <td>6</td>\n",
       "    </tr>\n",
       "  </tbody>\n",
       "</table>\n",
       "<p>732 rows × 1 columns</p>\n",
       "</div>"
      ],
      "text/plain": [
       "     Dev\n",
       "0      1\n",
       "1      2\n",
       "2      3\n",
       "3      4\n",
       "4      5\n",
       "..   ...\n",
       "727    2\n",
       "728    3\n",
       "729    4\n",
       "730    5\n",
       "731    6\n",
       "\n",
       "[732 rows x 1 columns]"
      ]
     },
     "execution_count": 155,
     "metadata": {},
     "output_type": "execute_result"
    }
   ],
   "source": [
    "X"
   ]
  },
  {
   "cell_type": "code",
   "execution_count": 156,
   "id": "b5cb0f2c",
   "metadata": {
    "ExecuteTime": {
     "end_time": "2022-08-14T02:24:56.813141Z",
     "start_time": "2022-08-14T02:24:56.805130Z"
    }
   },
   "outputs": [],
   "source": [
    "y = df['Loss']"
   ]
  },
  {
   "cell_type": "code",
   "execution_count": 157,
   "id": "f37da4d5",
   "metadata": {
    "ExecuteTime": {
     "end_time": "2022-08-14T02:24:57.017358Z",
     "start_time": "2022-08-14T02:24:56.821128Z"
    }
   },
   "outputs": [
    {
     "data": {
      "text/plain": [
       "<AxesSubplot:>"
      ]
     },
     "execution_count": 157,
     "metadata": {},
     "output_type": "execute_result"
    },
    {
     "data": {
      "image/png": "[encoded data removed]",
      "text/plain": [
       "<Figure size 432x288 with 1 Axes>"
      ]
     },
     "metadata": {
      "needs_background": "light"
     },
     "output_type": "display_data"
    }
   ],
   "source": [
    "y.hist()"
   ]
  },
  {
   "cell_type": "code",
   "execution_count": 158,
   "id": "6d019eab",
   "metadata": {
    "ExecuteTime": {
     "end_time": "2022-08-14T02:24:57.049388Z",
     "start_time": "2022-08-14T02:24:57.022359Z"
    }
   },
   "outputs": [
    {
     "data": {
      "text/html": [
       "<div>\n",
       "<style scoped>\n",
       "    .dataframe tbody tr th:only-of-type {\n",
       "        vertical-align: middle;\n",
       "    }\n",
       "\n",
       "    .dataframe tbody tr th {\n",
       "        vertical-align: top;\n",
       "    }\n",
       "\n",
       "    .dataframe thead th {\n",
       "        text-align: right;\n",
       "    }\n",
       "</style>\n",
       "<table border=\"1\" class=\"dataframe\">\n",
       "  <thead>\n",
       "    <tr style=\"text-align: right;\">\n",
       "      <th></th>\n",
       "      <th>Record</th>\n",
       "      <th>Loss</th>\n",
       "      <th>AY</th>\n",
       "      <th>EvalYr</th>\n",
       "    </tr>\n",
       "    <tr>\n",
       "      <th>Dev</th>\n",
       "      <th></th>\n",
       "      <th></th>\n",
       "      <th></th>\n",
       "      <th></th>\n",
       "    </tr>\n",
       "  </thead>\n",
       "  <tbody>\n",
       "    <tr>\n",
       "      <th>1</th>\n",
       "      <td>61.5</td>\n",
       "      <td>0.000000</td>\n",
       "      <td>2000.540984</td>\n",
       "      <td>2001.540984</td>\n",
       "    </tr>\n",
       "    <tr>\n",
       "      <th>2</th>\n",
       "      <td>61.5</td>\n",
       "      <td>0.086066</td>\n",
       "      <td>2000.540984</td>\n",
       "      <td>2002.540984</td>\n",
       "    </tr>\n",
       "    <tr>\n",
       "      <th>3</th>\n",
       "      <td>61.5</td>\n",
       "      <td>0.107582</td>\n",
       "      <td>2000.540984</td>\n",
       "      <td>2003.540984</td>\n",
       "    </tr>\n",
       "    <tr>\n",
       "      <th>4</th>\n",
       "      <td>61.5</td>\n",
       "      <td>0.111885</td>\n",
       "      <td>2000.540984</td>\n",
       "      <td>2004.540984</td>\n",
       "    </tr>\n",
       "    <tr>\n",
       "      <th>5</th>\n",
       "      <td>61.5</td>\n",
       "      <td>0.120492</td>\n",
       "      <td>2000.540984</td>\n",
       "      <td>2005.540984</td>\n",
       "    </tr>\n",
       "    <tr>\n",
       "      <th>6</th>\n",
       "      <td>61.5</td>\n",
       "      <td>0.129098</td>\n",
       "      <td>2000.540984</td>\n",
       "      <td>2006.540984</td>\n",
       "    </tr>\n",
       "  </tbody>\n",
       "</table>\n",
       "</div>"
      ],
      "text/plain": [
       "     Record      Loss           AY       EvalYr\n",
       "Dev                                            \n",
       "1      61.5  0.000000  2000.540984  2001.540984\n",
       "2      61.5  0.086066  2000.540984  2002.540984\n",
       "3      61.5  0.107582  2000.540984  2003.540984\n",
       "4      61.5  0.111885  2000.540984  2004.540984\n",
       "5      61.5  0.120492  2000.540984  2005.540984\n",
       "6      61.5  0.129098  2000.540984  2006.540984"
      ]
     },
     "execution_count": 158,
     "metadata": {},
     "output_type": "execute_result"
    }
   ],
   "source": [
    "df.groupby('Dev').mean()"
   ]
  },
  {
   "cell_type": "code",
   "execution_count": 159,
   "id": "6d515295",
   "metadata": {
    "ExecuteTime": {
     "end_time": "2022-08-14T02:24:57.128329Z",
     "start_time": "2022-08-14T02:24:57.055356Z"
    }
   },
   "outputs": [
    {
     "data": {
      "text/html": [
       "<style>#sk-container-id-7 {color: black;background-color: white;}#sk-container-id-7 pre{padding: 0;}#sk-container-id-7 div.sk-toggleable {background-color: white;}#sk-container-id-7 label.sk-toggleable__label {cursor: pointer;display: block;width: 100%;margin-bottom: 0;padding: 0.3em;box-sizing: border-box;text-align: center;}#sk-container-id-7 label.sk-toggleable__label-arrow:before {content: \"▸\";float: left;margin-right: 0.25em;color: #696969;}#sk-container-id-7 label.sk-toggleable__label-arrow:hover:before {color: black;}#sk-container-id-7 div.sk-estimator:hover label.sk-toggleable__label-arrow:before {color: black;}#sk-container-id-7 div.sk-toggleable__content {max-height: 0;max-width: 0;overflow: hidden;text-align: left;background-color: #f0f8ff;}#sk-container-id-7 div.sk-toggleable__content pre {margin: 0.2em;color: black;border-radius: 0.25em;background-color: #f0f8ff;}#sk-container-id-7 input.sk-toggleable__control:checked~div.sk-toggleable__content {max-height: 200px;max-width: 100%;overflow: auto;}#sk-container-id-7 input.sk-toggleable__control:checked~label.sk-toggleable__label-arrow:before {content: \"▾\";}#sk-container-id-7 div.sk-estimator input.sk-toggleable__control:checked~label.sk-toggleable__label {background-color: #d4ebff;}#sk-container-id-7 div.sk-label input.sk-toggleable__control:checked~label.sk-toggleable__label {background-color: #d4ebff;}#sk-container-id-7 input.sk-hidden--visually {border: 0;clip: rect(1px 1px 1px 1px);clip: rect(1px, 1px, 1px, 1px);height: 1px;margin: -1px;overflow: hidden;padding: 0;position: absolute;width: 1px;}#sk-container-id-7 div.sk-estimator {font-family: monospace;background-color: #f0f8ff;border: 1px dotted black;border-radius: 0.25em;box-sizing: border-box;margin-bottom: 0.5em;}#sk-container-id-7 div.sk-estimator:hover {background-color: #d4ebff;}#sk-container-id-7 div.sk-parallel-item::after {content: \"\";width: 100%;border-bottom: 1px solid gray;flex-grow: 1;}#sk-container-id-7 div.sk-label:hover label.sk-toggleable__label {background-color: #d4ebff;}#sk-container-id-7 div.sk-serial::before {content: \"\";position: absolute;border-left: 1px solid gray;box-sizing: border-box;top: 0;bottom: 0;left: 50%;z-index: 0;}#sk-container-id-7 div.sk-serial {display: flex;flex-direction: column;align-items: center;background-color: white;padding-right: 0.2em;padding-left: 0.2em;position: relative;}#sk-container-id-7 div.sk-item {position: relative;z-index: 1;}#sk-container-id-7 div.sk-parallel {display: flex;align-items: stretch;justify-content: center;background-color: white;position: relative;}#sk-container-id-7 div.sk-item::before, #sk-container-id-7 div.sk-parallel-item::before {content: \"\";position: absolute;border-left: 1px solid gray;box-sizing: border-box;top: 0;bottom: 0;left: 50%;z-index: -1;}#sk-container-id-7 div.sk-parallel-item {display: flex;flex-direction: column;z-index: 1;position: relative;background-color: white;}#sk-container-id-7 div.sk-parallel-item:first-child::after {align-self: flex-end;width: 50%;}#sk-container-id-7 div.sk-parallel-item:last-child::after {align-self: flex-start;width: 50%;}#sk-container-id-7 div.sk-parallel-item:only-child::after {width: 0;}#sk-container-id-7 div.sk-dashed-wrapped {border: 1px dashed gray;margin: 0 0.4em 0.5em 0.4em;box-sizing: border-box;padding-bottom: 0.4em;background-color: white;}#sk-container-id-7 div.sk-label label {font-family: monospace;font-weight: bold;display: inline-block;line-height: 1.2em;}#sk-container-id-7 div.sk-label-container {text-align: center;}#sk-container-id-7 div.sk-container {/* jupyter's `normalize.less` sets `[hidden] { display: none; }` but bootstrap.min.css set `[hidden] { display: none !important; }` so we also need the `!important` here to be able to override the default hidden behavior on the sphinx rendered scikit-learn.org. See: https://github.com/scikit-learn/scikit-learn/issues/21755 */display: inline-block !important;position: relative;}#sk-container-id-7 div.sk-text-repr-fallback {display: none;}</style><div id=\"sk-container-id-7\" class=\"sk-top-container\"><div class=\"sk-text-repr-fallback\"><pre>LGBMRegressor(linear_tree=True, objective=&#x27;regression&#x27;)</pre><b>In a Jupyter environment, please rerun this cell to show the HTML representation or trust the notebook. <br />On GitHub, the HTML representation is unable to render, please try loading this page with nbviewer.org.</b></div><div class=\"sk-container\" hidden><div class=\"sk-item\"><div class=\"sk-estimator sk-toggleable\"><input class=\"sk-toggleable__control sk-hidden--visually\" id=\"sk-estimator-id-7\" type=\"checkbox\" checked><label for=\"sk-estimator-id-7\" class=\"sk-toggleable__label sk-toggleable__label-arrow\">LGBMRegressor</label><div class=\"sk-toggleable__content\"><pre>LGBMRegressor(linear_tree=True, objective=&#x27;regression&#x27;)</pre></div></div></div></div></div>"
      ],
      "text/plain": [
       "LGBMRegressor(linear_tree=True, objective='regression')"
      ]
     },
     "execution_count": 159,
     "metadata": {},
     "output_type": "execute_result"
    }
   ],
   "source": [
    "# Train LGBM model\n",
    "model2.fit(X, y)"
   ]
  },
  {
   "cell_type": "code",
   "execution_count": 160,
   "id": "dba0c2fa",
   "metadata": {
    "ExecuteTime": {
     "end_time": "2022-08-14T02:24:57.159328Z",
     "start_time": "2022-08-14T02:24:57.134331Z"
    }
   },
   "outputs": [],
   "source": [
    "y_pred = model2.predict(X)"
   ]
  },
  {
   "cell_type": "code",
   "execution_count": 161,
   "id": "b00ba662",
   "metadata": {
    "ExecuteTime": {
     "end_time": "2022-08-14T02:24:57.190339Z",
     "start_time": "2022-08-14T02:24:57.164330Z"
    },
    "scrolled": true
   },
   "outputs": [
    {
     "data": {
      "text/plain": [
       "array([2.45747122e-06, 8.60657472e-02, 1.07581573e-01, 1.11884733e-01,\n",
       "       1.20491055e-01, 1.29097388e-01, 2.45747122e-06, 8.60657472e-02,\n",
       "       1.07581573e-01, 1.11884733e-01, 1.20491055e-01, 1.29097388e-01,\n",
       "       2.45747122e-06, 8.60657472e-02, 1.07581573e-01, 1.11884733e-01,\n",
       "       1.20491055e-01, 1.29097388e-01, 2.45747122e-06, 8.60657472e-02,\n",
       "       1.07581573e-01, 1.11884733e-01, 1.20491055e-01, 1.29097388e-01,\n",
       "       2.45747122e-06, 8.60657472e-02, 1.07581573e-01, 1.11884733e-01,\n",
       "       1.20491055e-01, 1.29097388e-01, 2.45747122e-06, 8.60657472e-02,\n",
       "       1.07581573e-01, 1.11884733e-01, 1.20491055e-01, 1.29097388e-01,\n",
       "       2.45747122e-06, 8.60657472e-02, 1.07581573e-01, 1.11884733e-01,\n",
       "       1.20491055e-01, 1.29097388e-01, 2.45747122e-06, 8.60657472e-02,\n",
       "       1.07581573e-01, 1.11884733e-01, 1.20491055e-01, 1.29097388e-01,\n",
       "       2.45747122e-06, 8.60657472e-02, 1.07581573e-01, 1.11884733e-01,\n",
       "       1.20491055e-01, 1.29097388e-01, 2.45747122e-06, 8.60657472e-02,\n",
       "       1.07581573e-01, 1.11884733e-01, 1.20491055e-01, 1.29097388e-01,\n",
       "       2.45747122e-06, 8.60657472e-02, 1.07581573e-01, 1.11884733e-01,\n",
       "       1.20491055e-01, 1.29097388e-01, 2.45747122e-06, 8.60657472e-02,\n",
       "       1.07581573e-01, 1.11884733e-01, 1.20491055e-01, 1.29097388e-01,\n",
       "       2.45747122e-06, 8.60657472e-02, 1.07581573e-01, 1.11884733e-01,\n",
       "       1.20491055e-01, 1.29097388e-01, 2.45747122e-06, 8.60657472e-02,\n",
       "       1.07581573e-01, 1.11884733e-01, 1.20491055e-01, 1.29097388e-01,\n",
       "       2.45747122e-06, 8.60657472e-02, 1.07581573e-01, 1.11884733e-01,\n",
       "       1.20491055e-01, 1.29097388e-01, 2.45747122e-06, 8.60657472e-02,\n",
       "       1.07581573e-01, 1.11884733e-01, 1.20491055e-01, 1.29097388e-01,\n",
       "       2.45747122e-06, 8.60657472e-02, 1.07581573e-01, 1.11884733e-01,\n",
       "       1.20491055e-01, 1.29097388e-01, 2.45747122e-06, 8.60657472e-02,\n",
       "       1.07581573e-01, 1.11884733e-01, 1.20491055e-01, 1.29097388e-01,\n",
       "       2.45747122e-06, 8.60657472e-02, 1.07581573e-01, 1.11884733e-01,\n",
       "       1.20491055e-01, 1.29097388e-01, 2.45747122e-06, 8.60657472e-02,\n",
       "       1.07581573e-01, 1.11884733e-01, 1.20491055e-01, 1.29097388e-01,\n",
       "       2.45747122e-06, 8.60657472e-02, 1.07581573e-01, 1.11884733e-01,\n",
       "       1.20491055e-01, 1.29097388e-01, 2.45747122e-06, 8.60657472e-02,\n",
       "       1.07581573e-01, 1.11884733e-01, 1.20491055e-01, 1.29097388e-01,\n",
       "       2.45747122e-06, 8.60657472e-02, 1.07581573e-01, 1.11884733e-01,\n",
       "       1.20491055e-01, 1.29097388e-01, 2.45747122e-06, 8.60657472e-02,\n",
       "       1.07581573e-01, 1.11884733e-01, 1.20491055e-01, 1.29097388e-01,\n",
       "       2.45747122e-06, 8.60657472e-02, 1.07581573e-01, 1.11884733e-01,\n",
       "       1.20491055e-01, 1.29097388e-01, 2.45747122e-06, 8.60657472e-02,\n",
       "       1.07581573e-01, 1.11884733e-01, 1.20491055e-01, 1.29097388e-01,\n",
       "       2.45747122e-06, 8.60657472e-02, 1.07581573e-01, 1.11884733e-01,\n",
       "       1.20491055e-01, 1.29097388e-01, 2.45747122e-06, 8.60657472e-02,\n",
       "       1.07581573e-01, 1.11884733e-01, 1.20491055e-01, 1.29097388e-01,\n",
       "       2.45747122e-06, 8.60657472e-02, 1.07581573e-01, 1.11884733e-01,\n",
       "       1.20491055e-01, 1.29097388e-01, 2.45747122e-06, 8.60657472e-02,\n",
       "       1.07581573e-01, 1.11884733e-01, 1.20491055e-01, 1.29097388e-01,\n",
       "       2.45747122e-06, 8.60657472e-02, 1.07581573e-01, 1.11884733e-01,\n",
       "       1.20491055e-01, 1.29097388e-01, 2.45747122e-06, 8.60657472e-02,\n",
       "       1.07581573e-01, 1.11884733e-01, 1.20491055e-01, 1.29097388e-01,\n",
       "       2.45747122e-06, 8.60657472e-02, 1.07581573e-01, 1.11884733e-01,\n",
       "       1.20491055e-01, 1.29097388e-01, 2.45747122e-06, 8.60657472e-02,\n",
       "       1.07581573e-01, 1.11884733e-01, 1.20491055e-01, 1.29097388e-01,\n",
       "       2.45747122e-06, 8.60657472e-02, 1.07581573e-01, 1.11884733e-01,\n",
       "       1.20491055e-01, 1.29097388e-01, 2.45747122e-06, 8.60657472e-02,\n",
       "       1.07581573e-01, 1.11884733e-01, 1.20491055e-01, 1.29097388e-01,\n",
       "       2.45747122e-06, 8.60657472e-02, 1.07581573e-01, 1.11884733e-01,\n",
       "       1.20491055e-01, 1.29097388e-01, 2.45747122e-06, 8.60657472e-02,\n",
       "       1.07581573e-01, 1.11884733e-01, 1.20491055e-01, 1.29097388e-01,\n",
       "       2.45747122e-06, 8.60657472e-02, 1.07581573e-01, 1.11884733e-01,\n",
       "       1.20491055e-01, 1.29097388e-01, 2.45747122e-06, 8.60657472e-02,\n",
       "       1.07581573e-01, 1.11884733e-01, 1.20491055e-01, 1.29097388e-01,\n",
       "       2.45747122e-06, 8.60657472e-02, 1.07581573e-01, 1.11884733e-01,\n",
       "       1.20491055e-01, 1.29097388e-01, 2.45747122e-06, 8.60657472e-02,\n",
       "       1.07581573e-01, 1.11884733e-01, 1.20491055e-01, 1.29097388e-01,\n",
       "       2.45747122e-06, 8.60657472e-02, 1.07581573e-01, 1.11884733e-01,\n",
       "       1.20491055e-01, 1.29097388e-01, 2.45747122e-06, 8.60657472e-02,\n",
       "       1.07581573e-01, 1.11884733e-01, 1.20491055e-01, 1.29097388e-01,\n",
       "       2.45747122e-06, 8.60657472e-02, 1.07581573e-01, 1.11884733e-01,\n",
       "       1.20491055e-01, 1.29097388e-01, 2.45747122e-06, 8.60657472e-02,\n",
       "       1.07581573e-01, 1.11884733e-01, 1.20491055e-01, 1.29097388e-01,\n",
       "       2.45747122e-06, 8.60657472e-02, 1.07581573e-01, 1.11884733e-01,\n",
       "       1.20491055e-01, 1.29097388e-01, 2.45747122e-06, 8.60657472e-02,\n",
       "       1.07581573e-01, 1.11884733e-01, 1.20491055e-01, 1.29097388e-01,\n",
       "       2.45747122e-06, 8.60657472e-02, 1.07581573e-01, 1.11884733e-01,\n",
       "       1.20491055e-01, 1.29097388e-01, 2.45747122e-06, 8.60657472e-02,\n",
       "       1.07581573e-01, 1.11884733e-01, 1.20491055e-01, 1.29097388e-01,\n",
       "       2.45747122e-06, 8.60657472e-02, 1.07581573e-01, 1.11884733e-01,\n",
       "       1.20491055e-01, 1.29097388e-01, 2.45747122e-06, 8.60657472e-02,\n",
       "       1.07581573e-01, 1.11884733e-01, 1.20491055e-01, 1.29097388e-01,\n",
       "       2.45747122e-06, 8.60657472e-02, 1.07581573e-01, 1.11884733e-01,\n",
       "       1.20491055e-01, 1.29097388e-01, 2.45747122e-06, 8.60657472e-02,\n",
       "       1.07581573e-01, 1.11884733e-01, 1.20491055e-01, 1.29097388e-01,\n",
       "       2.45747122e-06, 8.60657472e-02, 1.07581573e-01, 1.11884733e-01,\n",
       "       1.20491055e-01, 1.29097388e-01, 2.45747122e-06, 8.60657472e-02,\n",
       "       1.07581573e-01, 1.11884733e-01, 1.20491055e-01, 1.29097388e-01,\n",
       "       2.45747122e-06, 8.60657472e-02, 1.07581573e-01, 1.11884733e-01,\n",
       "       1.20491055e-01, 1.29097388e-01, 2.45747122e-06, 8.60657472e-02,\n",
       "       1.07581573e-01, 1.11884733e-01, 1.20491055e-01, 1.29097388e-01,\n",
       "       2.45747122e-06, 8.60657472e-02, 1.07581573e-01, 1.11884733e-01,\n",
       "       1.20491055e-01, 1.29097388e-01, 2.45747122e-06, 8.60657472e-02,\n",
       "       1.07581573e-01, 1.11884733e-01, 1.20491055e-01, 1.29097388e-01,\n",
       "       2.45747122e-06, 8.60657472e-02, 1.07581573e-01, 1.11884733e-01,\n",
       "       1.20491055e-01, 1.29097388e-01, 2.45747122e-06, 8.60657472e-02,\n",
       "       1.07581573e-01, 1.11884733e-01, 1.20491055e-01, 1.29097388e-01,\n",
       "       2.45747122e-06, 8.60657472e-02, 1.07581573e-01, 1.11884733e-01,\n",
       "       1.20491055e-01, 1.29097388e-01, 2.45747122e-06, 8.60657472e-02,\n",
       "       1.07581573e-01, 1.11884733e-01, 1.20491055e-01, 1.29097388e-01,\n",
       "       2.45747122e-06, 8.60657472e-02, 1.07581573e-01, 1.11884733e-01,\n",
       "       1.20491055e-01, 1.29097388e-01, 2.45747122e-06, 8.60657472e-02,\n",
       "       1.07581573e-01, 1.11884733e-01, 1.20491055e-01, 1.29097388e-01,\n",
       "       2.45747122e-06, 8.60657472e-02, 1.07581573e-01, 1.11884733e-01,\n",
       "       1.20491055e-01, 1.29097388e-01, 2.45747122e-06, 8.60657472e-02,\n",
       "       1.07581573e-01, 1.11884733e-01, 1.20491055e-01, 1.29097388e-01,\n",
       "       2.45747122e-06, 8.60657472e-02, 1.07581573e-01, 1.11884733e-01,\n",
       "       1.20491055e-01, 1.29097388e-01, 2.45747122e-06, 8.60657472e-02,\n",
       "       1.07581573e-01, 1.11884733e-01, 1.20491055e-01, 1.29097388e-01,\n",
       "       2.45747122e-06, 8.60657472e-02, 1.07581573e-01, 1.11884733e-01,\n",
       "       1.20491055e-01, 1.29097388e-01, 2.45747122e-06, 8.60657472e-02,\n",
       "       1.07581573e-01, 1.11884733e-01, 1.20491055e-01, 1.29097388e-01,\n",
       "       2.45747122e-06, 8.60657472e-02, 1.07581573e-01, 1.11884733e-01,\n",
       "       1.20491055e-01, 1.29097388e-01, 2.45747122e-06, 8.60657472e-02,\n",
       "       1.07581573e-01, 1.11884733e-01, 1.20491055e-01, 1.29097388e-01,\n",
       "       2.45747122e-06, 8.60657472e-02, 1.07581573e-01, 1.11884733e-01,\n",
       "       1.20491055e-01, 1.29097388e-01, 2.45747122e-06, 8.60657472e-02,\n",
       "       1.07581573e-01, 1.11884733e-01, 1.20491055e-01, 1.29097388e-01,\n",
       "       2.45747122e-06, 8.60657472e-02, 1.07581573e-01, 1.11884733e-01,\n",
       "       1.20491055e-01, 1.29097388e-01, 2.45747122e-06, 8.60657472e-02,\n",
       "       1.07581573e-01, 1.11884733e-01, 1.20491055e-01, 1.29097388e-01,\n",
       "       2.45747122e-06, 8.60657472e-02, 1.07581573e-01, 1.11884733e-01,\n",
       "       1.20491055e-01, 1.29097388e-01, 2.45747122e-06, 8.60657472e-02,\n",
       "       1.07581573e-01, 1.11884733e-01, 1.20491055e-01, 1.29097388e-01,\n",
       "       2.45747122e-06, 8.60657472e-02, 1.07581573e-01, 1.11884733e-01,\n",
       "       1.20491055e-01, 1.29097388e-01, 2.45747122e-06, 8.60657472e-02,\n",
       "       1.07581573e-01, 1.11884733e-01, 1.20491055e-01, 1.29097388e-01,\n",
       "       2.45747122e-06, 8.60657472e-02, 1.07581573e-01, 1.11884733e-01,\n",
       "       1.20491055e-01, 1.29097388e-01, 2.45747122e-06, 8.60657472e-02,\n",
       "       1.07581573e-01, 1.11884733e-01, 1.20491055e-01, 1.29097388e-01,\n",
       "       2.45747122e-06, 8.60657472e-02, 1.07581573e-01, 1.11884733e-01,\n",
       "       1.20491055e-01, 1.29097388e-01, 2.45747122e-06, 8.60657472e-02,\n",
       "       1.07581573e-01, 1.11884733e-01, 1.20491055e-01, 1.29097388e-01,\n",
       "       2.45747122e-06, 8.60657472e-02, 1.07581573e-01, 1.11884733e-01,\n",
       "       1.20491055e-01, 1.29097388e-01, 2.45747122e-06, 8.60657472e-02,\n",
       "       1.07581573e-01, 1.11884733e-01, 1.20491055e-01, 1.29097388e-01,\n",
       "       2.45747122e-06, 8.60657472e-02, 1.07581573e-01, 1.11884733e-01,\n",
       "       1.20491055e-01, 1.29097388e-01, 2.45747122e-06, 8.60657472e-02,\n",
       "       1.07581573e-01, 1.11884733e-01, 1.20491055e-01, 1.29097388e-01,\n",
       "       2.45747122e-06, 8.60657472e-02, 1.07581573e-01, 1.11884733e-01,\n",
       "       1.20491055e-01, 1.29097388e-01, 2.45747122e-06, 8.60657472e-02,\n",
       "       1.07581573e-01, 1.11884733e-01, 1.20491055e-01, 1.29097388e-01,\n",
       "       2.45747122e-06, 8.60657472e-02, 1.07581573e-01, 1.11884733e-01,\n",
       "       1.20491055e-01, 1.29097388e-01, 2.45747122e-06, 8.60657472e-02,\n",
       "       1.07581573e-01, 1.11884733e-01, 1.20491055e-01, 1.29097388e-01,\n",
       "       2.45747122e-06, 8.60657472e-02, 1.07581573e-01, 1.11884733e-01,\n",
       "       1.20491055e-01, 1.29097388e-01, 2.45747122e-06, 8.60657472e-02,\n",
       "       1.07581573e-01, 1.11884733e-01, 1.20491055e-01, 1.29097388e-01,\n",
       "       2.45747122e-06, 8.60657472e-02, 1.07581573e-01, 1.11884733e-01,\n",
       "       1.20491055e-01, 1.29097388e-01, 2.45747122e-06, 8.60657472e-02,\n",
       "       1.07581573e-01, 1.11884733e-01, 1.20491055e-01, 1.29097388e-01,\n",
       "       2.45747122e-06, 8.60657472e-02, 1.07581573e-01, 1.11884733e-01,\n",
       "       1.20491055e-01, 1.29097388e-01, 2.45747122e-06, 8.60657472e-02,\n",
       "       1.07581573e-01, 1.11884733e-01, 1.20491055e-01, 1.29097388e-01,\n",
       "       2.45747122e-06, 8.60657472e-02, 1.07581573e-01, 1.11884733e-01,\n",
       "       1.20491055e-01, 1.29097388e-01, 2.45747122e-06, 8.60657472e-02,\n",
       "       1.07581573e-01, 1.11884733e-01, 1.20491055e-01, 1.29097388e-01,\n",
       "       2.45747122e-06, 8.60657472e-02, 1.07581573e-01, 1.11884733e-01,\n",
       "       1.20491055e-01, 1.29097388e-01, 2.45747122e-06, 8.60657472e-02,\n",
       "       1.07581573e-01, 1.11884733e-01, 1.20491055e-01, 1.29097388e-01,\n",
       "       2.45747122e-06, 8.60657472e-02, 1.07581573e-01, 1.11884733e-01,\n",
       "       1.20491055e-01, 1.29097388e-01, 2.45747122e-06, 8.60657472e-02,\n",
       "       1.07581573e-01, 1.11884733e-01, 1.20491055e-01, 1.29097388e-01,\n",
       "       2.45747122e-06, 8.60657472e-02, 1.07581573e-01, 1.11884733e-01,\n",
       "       1.20491055e-01, 1.29097388e-01, 2.45747122e-06, 8.60657472e-02,\n",
       "       1.07581573e-01, 1.11884733e-01, 1.20491055e-01, 1.29097388e-01,\n",
       "       2.45747122e-06, 8.60657472e-02, 1.07581573e-01, 1.11884733e-01,\n",
       "       1.20491055e-01, 1.29097388e-01, 2.45747122e-06, 8.60657472e-02,\n",
       "       1.07581573e-01, 1.11884733e-01, 1.20491055e-01, 1.29097388e-01,\n",
       "       2.45747122e-06, 8.60657472e-02, 1.07581573e-01, 1.11884733e-01,\n",
       "       1.20491055e-01, 1.29097388e-01, 2.45747122e-06, 8.60657472e-02,\n",
       "       1.07581573e-01, 1.11884733e-01, 1.20491055e-01, 1.29097388e-01,\n",
       "       2.45747122e-06, 8.60657472e-02, 1.07581573e-01, 1.11884733e-01,\n",
       "       1.20491055e-01, 1.29097388e-01, 2.45747122e-06, 8.60657472e-02,\n",
       "       1.07581573e-01, 1.11884733e-01, 1.20491055e-01, 1.29097388e-01,\n",
       "       2.45747122e-06, 8.60657472e-02, 1.07581573e-01, 1.11884733e-01,\n",
       "       1.20491055e-01, 1.29097388e-01, 2.45747122e-06, 8.60657472e-02,\n",
       "       1.07581573e-01, 1.11884733e-01, 1.20491055e-01, 1.29097388e-01,\n",
       "       2.45747122e-06, 8.60657472e-02, 1.07581573e-01, 1.11884733e-01,\n",
       "       1.20491055e-01, 1.29097388e-01, 2.45747122e-06, 8.60657472e-02,\n",
       "       1.07581573e-01, 1.11884733e-01, 1.20491055e-01, 1.29097388e-01,\n",
       "       2.45747122e-06, 8.60657472e-02, 1.07581573e-01, 1.11884733e-01,\n",
       "       1.20491055e-01, 1.29097388e-01, 2.45747122e-06, 8.60657472e-02,\n",
       "       1.07581573e-01, 1.11884733e-01, 1.20491055e-01, 1.29097388e-01,\n",
       "       2.45747122e-06, 8.60657472e-02, 1.07581573e-01, 1.11884733e-01,\n",
       "       1.20491055e-01, 1.29097388e-01, 2.45747122e-06, 8.60657472e-02,\n",
       "       1.07581573e-01, 1.11884733e-01, 1.20491055e-01, 1.29097388e-01])"
      ]
     },
     "execution_count": 161,
     "metadata": {},
     "output_type": "execute_result"
    }
   ],
   "source": [
    "y_pred"
   ]
  },
  {
   "cell_type": "code",
   "execution_count": 162,
   "id": "0d79239a",
   "metadata": {
    "ExecuteTime": {
     "end_time": "2022-08-14T02:24:57.222346Z",
     "start_time": "2022-08-14T02:24:57.198334Z"
    }
   },
   "outputs": [
    {
     "data": {
      "text/html": [
       "<div>\n",
       "<style scoped>\n",
       "    .dataframe tbody tr th:only-of-type {\n",
       "        vertical-align: middle;\n",
       "    }\n",
       "\n",
       "    .dataframe tbody tr th {\n",
       "        vertical-align: top;\n",
       "    }\n",
       "\n",
       "    .dataframe thead th {\n",
       "        text-align: right;\n",
       "    }\n",
       "</style>\n",
       "<table border=\"1\" class=\"dataframe\">\n",
       "  <thead>\n",
       "    <tr style=\"text-align: right;\">\n",
       "      <th></th>\n",
       "      <th>Dev</th>\n",
       "      <th>Loss_pred</th>\n",
       "    </tr>\n",
       "  </thead>\n",
       "  <tbody>\n",
       "    <tr>\n",
       "      <th>0</th>\n",
       "      <td>1</td>\n",
       "      <td>0.000002</td>\n",
       "    </tr>\n",
       "    <tr>\n",
       "      <th>1</th>\n",
       "      <td>2</td>\n",
       "      <td>0.086066</td>\n",
       "    </tr>\n",
       "    <tr>\n",
       "      <th>2</th>\n",
       "      <td>3</td>\n",
       "      <td>0.107582</td>\n",
       "    </tr>\n",
       "    <tr>\n",
       "      <th>3</th>\n",
       "      <td>4</td>\n",
       "      <td>0.111885</td>\n",
       "    </tr>\n",
       "    <tr>\n",
       "      <th>4</th>\n",
       "      <td>5</td>\n",
       "      <td>0.120491</td>\n",
       "    </tr>\n",
       "  </tbody>\n",
       "</table>\n",
       "</div>"
      ],
      "text/plain": [
       "   Dev  Loss_pred\n",
       "0    1   0.000002\n",
       "1    2   0.086066\n",
       "2    3   0.107582\n",
       "3    4   0.111885\n",
       "4    5   0.120491"
      ]
     },
     "execution_count": 162,
     "metadata": {},
     "output_type": "execute_result"
    }
   ],
   "source": [
    "res_df = X.copy(deep=True)\n",
    "res_df['Loss_pred'] = y_pred\n",
    "res_df.head()"
   ]
  },
  {
   "cell_type": "code",
   "execution_count": 163,
   "id": "2b3eac81",
   "metadata": {
    "ExecuteTime": {
     "end_time": "2022-08-14T02:24:57.254327Z",
     "start_time": "2022-08-14T02:24:57.229332Z"
    }
   },
   "outputs": [
    {
     "data": {
      "text/html": [
       "<div>\n",
       "<style scoped>\n",
       "    .dataframe tbody tr th:only-of-type {\n",
       "        vertical-align: middle;\n",
       "    }\n",
       "\n",
       "    .dataframe tbody tr th {\n",
       "        vertical-align: top;\n",
       "    }\n",
       "\n",
       "    .dataframe thead th {\n",
       "        text-align: right;\n",
       "    }\n",
       "</style>\n",
       "<table border=\"1\" class=\"dataframe\">\n",
       "  <thead>\n",
       "    <tr style=\"text-align: right;\">\n",
       "      <th></th>\n",
       "      <th>Loss_pred</th>\n",
       "    </tr>\n",
       "    <tr>\n",
       "      <th>Dev</th>\n",
       "      <th></th>\n",
       "    </tr>\n",
       "  </thead>\n",
       "  <tbody>\n",
       "    <tr>\n",
       "      <th>1</th>\n",
       "      <td>0.000002</td>\n",
       "    </tr>\n",
       "    <tr>\n",
       "      <th>2</th>\n",
       "      <td>0.086066</td>\n",
       "    </tr>\n",
       "    <tr>\n",
       "      <th>3</th>\n",
       "      <td>0.107582</td>\n",
       "    </tr>\n",
       "    <tr>\n",
       "      <th>4</th>\n",
       "      <td>0.111885</td>\n",
       "    </tr>\n",
       "    <tr>\n",
       "      <th>5</th>\n",
       "      <td>0.120491</td>\n",
       "    </tr>\n",
       "    <tr>\n",
       "      <th>6</th>\n",
       "      <td>0.129097</td>\n",
       "    </tr>\n",
       "  </tbody>\n",
       "</table>\n",
       "</div>"
      ],
      "text/plain": [
       "     Loss_pred\n",
       "Dev           \n",
       "1     0.000002\n",
       "2     0.086066\n",
       "3     0.107582\n",
       "4     0.111885\n",
       "5     0.120491\n",
       "6     0.129097"
      ]
     },
     "execution_count": 163,
     "metadata": {},
     "output_type": "execute_result"
    }
   ],
   "source": [
    "res_df.groupby('Dev').mean()"
   ]
  },
  {
   "cell_type": "markdown",
   "id": "fc123f29",
   "metadata": {},
   "source": [
    "### Extrapolation"
   ]
  },
  {
   "cell_type": "code",
   "execution_count": 164,
   "id": "c1638b3b",
   "metadata": {
    "ExecuteTime": {
     "end_time": "2022-08-14T02:24:57.286327Z",
     "start_time": "2022-08-14T02:24:57.261341Z"
    }
   },
   "outputs": [],
   "source": [
    "X_later = pd.DataFrame(np.linspace(0,10,11),columns=['Dev'])\n",
    "\n",
    "res2_df = X_later.copy(deep=True)\n",
    "\n",
    "res2_df[\"Loss_pred\"] = model2.predict(X_later)\n"
   ]
  },
  {
   "cell_type": "code",
   "execution_count": 165,
   "id": "f5e6faed",
   "metadata": {
    "ExecuteTime": {
     "end_time": "2022-08-14T02:24:57.317326Z",
     "start_time": "2022-08-14T02:24:57.290330Z"
    },
    "scrolled": true
   },
   "outputs": [
    {
     "data": {
      "text/html": [
       "<div>\n",
       "<style scoped>\n",
       "    .dataframe tbody tr th:only-of-type {\n",
       "        vertical-align: middle;\n",
       "    }\n",
       "\n",
       "    .dataframe tbody tr th {\n",
       "        vertical-align: top;\n",
       "    }\n",
       "\n",
       "    .dataframe thead th {\n",
       "        text-align: right;\n",
       "    }\n",
       "</style>\n",
       "<table border=\"1\" class=\"dataframe\">\n",
       "  <thead>\n",
       "    <tr style=\"text-align: right;\">\n",
       "      <th></th>\n",
       "      <th>Dev</th>\n",
       "      <th>Loss_pred</th>\n",
       "    </tr>\n",
       "  </thead>\n",
       "  <tbody>\n",
       "    <tr>\n",
       "      <th>0</th>\n",
       "      <td>0.0</td>\n",
       "      <td>0.083268</td>\n",
       "    </tr>\n",
       "    <tr>\n",
       "      <th>1</th>\n",
       "      <td>1.0</td>\n",
       "      <td>0.000002</td>\n",
       "    </tr>\n",
       "    <tr>\n",
       "      <th>2</th>\n",
       "      <td>2.0</td>\n",
       "      <td>0.086066</td>\n",
       "    </tr>\n",
       "    <tr>\n",
       "      <th>3</th>\n",
       "      <td>3.0</td>\n",
       "      <td>0.107582</td>\n",
       "    </tr>\n",
       "    <tr>\n",
       "      <th>4</th>\n",
       "      <td>4.0</td>\n",
       "      <td>0.111885</td>\n",
       "    </tr>\n",
       "    <tr>\n",
       "      <th>5</th>\n",
       "      <td>5.0</td>\n",
       "      <td>0.120491</td>\n",
       "    </tr>\n",
       "    <tr>\n",
       "      <th>6</th>\n",
       "      <td>6.0</td>\n",
       "      <td>0.129097</td>\n",
       "    </tr>\n",
       "    <tr>\n",
       "      <th>7</th>\n",
       "      <td>7.0</td>\n",
       "      <td>0.134584</td>\n",
       "    </tr>\n",
       "    <tr>\n",
       "      <th>8</th>\n",
       "      <td>8.0</td>\n",
       "      <td>0.140070</td>\n",
       "    </tr>\n",
       "    <tr>\n",
       "      <th>9</th>\n",
       "      <td>9.0</td>\n",
       "      <td>0.145557</td>\n",
       "    </tr>\n",
       "    <tr>\n",
       "      <th>10</th>\n",
       "      <td>10.0</td>\n",
       "      <td>0.151043</td>\n",
       "    </tr>\n",
       "  </tbody>\n",
       "</table>\n",
       "</div>"
      ],
      "text/plain": [
       "     Dev  Loss_pred\n",
       "0    0.0   0.083268\n",
       "1    1.0   0.000002\n",
       "2    2.0   0.086066\n",
       "3    3.0   0.107582\n",
       "4    4.0   0.111885\n",
       "5    5.0   0.120491\n",
       "6    6.0   0.129097\n",
       "7    7.0   0.134584\n",
       "8    8.0   0.140070\n",
       "9    9.0   0.145557\n",
       "10  10.0   0.151043"
      ]
     },
     "execution_count": 165,
     "metadata": {},
     "output_type": "execute_result"
    }
   ],
   "source": [
    "res2_df"
   ]
  },
  {
   "cell_type": "markdown",
   "id": "ad73bb3a",
   "metadata": {},
   "source": [
    "**Successful extrapolation**"
   ]
  },
  {
   "cell_type": "code",
   "execution_count": 211,
   "id": "f7d3a037",
   "metadata": {
    "ExecuteTime": {
     "end_time": "2022-08-14T02:40:02.853637Z",
     "start_time": "2022-08-14T02:40:02.618637Z"
    }
   },
   "outputs": [
    {
     "data": {
      "text/plain": [
       "[<matplotlib.lines.Line2D at 0x2717dc9a820>]"
      ]
     },
     "execution_count": 211,
     "metadata": {},
     "output_type": "execute_result"
    },
    {
     "data": {
      "image/png": "[encoded data removed]",
      "text/plain": [
       "<Figure size 432x288 with 1 Axes>"
      ]
     },
     "metadata": {
      "needs_background": "light"
     },
     "output_type": "display_data"
    }
   ],
   "source": [
    "plt.plot(res2_df['Dev'],res2_df['Loss_pred'])"
   ]
  },
  {
   "cell_type": "markdown",
   "id": "06d8765f",
   "metadata": {},
   "source": [
    "## Train Test Split w AY"
   ]
  },
  {
   "cell_type": "code",
   "execution_count": 172,
   "id": "9c856496",
   "metadata": {
    "ExecuteTime": {
     "end_time": "2022-08-14T02:26:26.507921Z",
     "start_time": "2022-08-14T02:26:26.478896Z"
    },
    "scrolled": true
   },
   "outputs": [
    {
     "data": {
      "text/html": [
       "<div>\n",
       "<style scoped>\n",
       "    .dataframe tbody tr th:only-of-type {\n",
       "        vertical-align: middle;\n",
       "    }\n",
       "\n",
       "    .dataframe tbody tr th {\n",
       "        vertical-align: top;\n",
       "    }\n",
       "\n",
       "    .dataframe thead th {\n",
       "        text-align: right;\n",
       "    }\n",
       "</style>\n",
       "<table border=\"1\" class=\"dataframe\">\n",
       "  <thead>\n",
       "    <tr style=\"text-align: right;\">\n",
       "      <th></th>\n",
       "      <th>Record</th>\n",
       "      <th>Loss</th>\n",
       "      <th>Dev</th>\n",
       "      <th>AY</th>\n",
       "      <th>EvalYr</th>\n",
       "    </tr>\n",
       "  </thead>\n",
       "  <tbody>\n",
       "    <tr>\n",
       "      <th>0</th>\n",
       "      <td>1</td>\n",
       "      <td>0.000</td>\n",
       "      <td>1</td>\n",
       "      <td>2000</td>\n",
       "      <td>2001</td>\n",
       "    </tr>\n",
       "    <tr>\n",
       "      <th>1</th>\n",
       "      <td>1</td>\n",
       "      <td>3.500</td>\n",
       "      <td>2</td>\n",
       "      <td>2000</td>\n",
       "      <td>2002</td>\n",
       "    </tr>\n",
       "    <tr>\n",
       "      <th>2</th>\n",
       "      <td>1</td>\n",
       "      <td>4.375</td>\n",
       "      <td>3</td>\n",
       "      <td>2000</td>\n",
       "      <td>2003</td>\n",
       "    </tr>\n",
       "    <tr>\n",
       "      <th>3</th>\n",
       "      <td>1</td>\n",
       "      <td>4.550</td>\n",
       "      <td>4</td>\n",
       "      <td>2000</td>\n",
       "      <td>2004</td>\n",
       "    </tr>\n",
       "    <tr>\n",
       "      <th>4</th>\n",
       "      <td>1</td>\n",
       "      <td>4.900</td>\n",
       "      <td>5</td>\n",
       "      <td>2000</td>\n",
       "      <td>2005</td>\n",
       "    </tr>\n",
       "    <tr>\n",
       "      <th>...</th>\n",
       "      <td>...</td>\n",
       "      <td>...</td>\n",
       "      <td>...</td>\n",
       "      <td>...</td>\n",
       "      <td>...</td>\n",
       "    </tr>\n",
       "    <tr>\n",
       "      <th>727</th>\n",
       "      <td>122</td>\n",
       "      <td>1.000</td>\n",
       "      <td>2</td>\n",
       "      <td>2001</td>\n",
       "      <td>2003</td>\n",
       "    </tr>\n",
       "    <tr>\n",
       "      <th>728</th>\n",
       "      <td>122</td>\n",
       "      <td>1.250</td>\n",
       "      <td>3</td>\n",
       "      <td>2001</td>\n",
       "      <td>2004</td>\n",
       "    </tr>\n",
       "    <tr>\n",
       "      <th>729</th>\n",
       "      <td>122</td>\n",
       "      <td>1.300</td>\n",
       "      <td>4</td>\n",
       "      <td>2001</td>\n",
       "      <td>2005</td>\n",
       "    </tr>\n",
       "    <tr>\n",
       "      <th>730</th>\n",
       "      <td>122</td>\n",
       "      <td>1.400</td>\n",
       "      <td>5</td>\n",
       "      <td>2001</td>\n",
       "      <td>2006</td>\n",
       "    </tr>\n",
       "    <tr>\n",
       "      <th>731</th>\n",
       "      <td>122</td>\n",
       "      <td>1.500</td>\n",
       "      <td>6</td>\n",
       "      <td>2001</td>\n",
       "      <td>2007</td>\n",
       "    </tr>\n",
       "  </tbody>\n",
       "</table>\n",
       "<p>732 rows × 5 columns</p>\n",
       "</div>"
      ],
      "text/plain": [
       "     Record   Loss  Dev    AY  EvalYr\n",
       "0         1  0.000    1  2000    2001\n",
       "1         1  3.500    2  2000    2002\n",
       "2         1  4.375    3  2000    2003\n",
       "3         1  4.550    4  2000    2004\n",
       "4         1  4.900    5  2000    2005\n",
       "..      ...    ...  ...   ...     ...\n",
       "727     122  1.000    2  2001    2003\n",
       "728     122  1.250    3  2001    2004\n",
       "729     122  1.300    4  2001    2005\n",
       "730     122  1.400    5  2001    2006\n",
       "731     122  1.500    6  2001    2007\n",
       "\n",
       "[732 rows x 5 columns]"
      ]
     },
     "execution_count": 172,
     "metadata": {},
     "output_type": "execute_result"
    }
   ],
   "source": [
    "df"
   ]
  },
  {
   "cell_type": "code",
   "execution_count": 184,
   "id": "78b14ebd",
   "metadata": {
    "ExecuteTime": {
     "end_time": "2022-08-14T02:30:00.242876Z",
     "start_time": "2022-08-14T02:30:00.231876Z"
    }
   },
   "outputs": [
    {
     "name": "stdout",
     "output_type": "stream",
     "text": [
      "2001\n"
     ]
    }
   ],
   "source": [
    "split_yr =  df[\"AY\"].unique()[-1] # use last as test\n",
    "print(split_yr)\n",
    "train_mask = df[\"AY\"] < split_yr"
   ]
  },
  {
   "cell_type": "code",
   "execution_count": 185,
   "id": "a539ae89",
   "metadata": {
    "ExecuteTime": {
     "end_time": "2022-08-14T02:30:50.046329Z",
     "start_time": "2022-08-14T02:30:50.038333Z"
    }
   },
   "outputs": [],
   "source": [
    "train_df = df.loc[train_mask,:]\n",
    "test_df = df.loc[~train_mask,:]"
   ]
  },
  {
   "cell_type": "code",
   "execution_count": 187,
   "id": "9832bfb7",
   "metadata": {
    "ExecuteTime": {
     "end_time": "2022-08-14T02:30:54.264717Z",
     "start_time": "2022-08-14T02:30:54.243737Z"
    },
    "scrolled": false
   },
   "outputs": [
    {
     "data": {
      "text/html": [
       "<div>\n",
       "<style scoped>\n",
       "    .dataframe tbody tr th:only-of-type {\n",
       "        vertical-align: middle;\n",
       "    }\n",
       "\n",
       "    .dataframe tbody tr th {\n",
       "        vertical-align: top;\n",
       "    }\n",
       "\n",
       "    .dataframe thead th {\n",
       "        text-align: right;\n",
       "    }\n",
       "</style>\n",
       "<table border=\"1\" class=\"dataframe\">\n",
       "  <thead>\n",
       "    <tr style=\"text-align: right;\">\n",
       "      <th></th>\n",
       "      <th>Record</th>\n",
       "      <th>Loss</th>\n",
       "      <th>AY</th>\n",
       "      <th>EvalYr</th>\n",
       "    </tr>\n",
       "    <tr>\n",
       "      <th>Dev</th>\n",
       "      <th></th>\n",
       "      <th></th>\n",
       "      <th></th>\n",
       "      <th></th>\n",
       "    </tr>\n",
       "  </thead>\n",
       "  <tbody>\n",
       "    <tr>\n",
       "      <th>1</th>\n",
       "      <td>55.214286</td>\n",
       "      <td>0.000000</td>\n",
       "      <td>2000.0</td>\n",
       "      <td>2001.0</td>\n",
       "    </tr>\n",
       "    <tr>\n",
       "      <th>2</th>\n",
       "      <td>55.214286</td>\n",
       "      <td>0.080357</td>\n",
       "      <td>2000.0</td>\n",
       "      <td>2002.0</td>\n",
       "    </tr>\n",
       "    <tr>\n",
       "      <th>3</th>\n",
       "      <td>55.214286</td>\n",
       "      <td>0.100446</td>\n",
       "      <td>2000.0</td>\n",
       "      <td>2003.0</td>\n",
       "    </tr>\n",
       "    <tr>\n",
       "      <th>4</th>\n",
       "      <td>55.214286</td>\n",
       "      <td>0.104464</td>\n",
       "      <td>2000.0</td>\n",
       "      <td>2004.0</td>\n",
       "    </tr>\n",
       "    <tr>\n",
       "      <th>5</th>\n",
       "      <td>55.214286</td>\n",
       "      <td>0.112500</td>\n",
       "      <td>2000.0</td>\n",
       "      <td>2005.0</td>\n",
       "    </tr>\n",
       "    <tr>\n",
       "      <th>6</th>\n",
       "      <td>55.214286</td>\n",
       "      <td>0.120536</td>\n",
       "      <td>2000.0</td>\n",
       "      <td>2006.0</td>\n",
       "    </tr>\n",
       "  </tbody>\n",
       "</table>\n",
       "</div>"
      ],
      "text/plain": [
       "        Record      Loss      AY  EvalYr\n",
       "Dev                                     \n",
       "1    55.214286  0.000000  2000.0  2001.0\n",
       "2    55.214286  0.080357  2000.0  2002.0\n",
       "3    55.214286  0.100446  2000.0  2003.0\n",
       "4    55.214286  0.104464  2000.0  2004.0\n",
       "5    55.214286  0.112500  2000.0  2005.0\n",
       "6    55.214286  0.120536  2000.0  2006.0"
      ]
     },
     "execution_count": 187,
     "metadata": {},
     "output_type": "execute_result"
    }
   ],
   "source": [
    "train_df.groupby(\"Dev\").mean()"
   ]
  },
  {
   "cell_type": "code",
   "execution_count": 188,
   "id": "c0b0fea6",
   "metadata": {
    "ExecuteTime": {
     "end_time": "2022-08-14T02:30:55.421246Z",
     "start_time": "2022-08-14T02:30:55.401232Z"
    },
    "scrolled": true
   },
   "outputs": [
    {
     "data": {
      "text/html": [
       "<div>\n",
       "<style scoped>\n",
       "    .dataframe tbody tr th:only-of-type {\n",
       "        vertical-align: middle;\n",
       "    }\n",
       "\n",
       "    .dataframe tbody tr th {\n",
       "        vertical-align: top;\n",
       "    }\n",
       "\n",
       "    .dataframe thead th {\n",
       "        text-align: right;\n",
       "    }\n",
       "</style>\n",
       "<table border=\"1\" class=\"dataframe\">\n",
       "  <thead>\n",
       "    <tr style=\"text-align: right;\">\n",
       "      <th></th>\n",
       "      <th>Record</th>\n",
       "      <th>Loss</th>\n",
       "      <th>AY</th>\n",
       "      <th>EvalYr</th>\n",
       "    </tr>\n",
       "    <tr>\n",
       "      <th>Dev</th>\n",
       "      <th></th>\n",
       "      <th></th>\n",
       "      <th></th>\n",
       "      <th></th>\n",
       "    </tr>\n",
       "  </thead>\n",
       "  <tbody>\n",
       "    <tr>\n",
       "      <th>1</th>\n",
       "      <td>66.833333</td>\n",
       "      <td>0.000000</td>\n",
       "      <td>2001.0</td>\n",
       "      <td>2002.0</td>\n",
       "    </tr>\n",
       "    <tr>\n",
       "      <th>2</th>\n",
       "      <td>66.833333</td>\n",
       "      <td>0.090909</td>\n",
       "      <td>2001.0</td>\n",
       "      <td>2003.0</td>\n",
       "    </tr>\n",
       "    <tr>\n",
       "      <th>3</th>\n",
       "      <td>66.833333</td>\n",
       "      <td>0.113636</td>\n",
       "      <td>2001.0</td>\n",
       "      <td>2004.0</td>\n",
       "    </tr>\n",
       "    <tr>\n",
       "      <th>4</th>\n",
       "      <td>66.833333</td>\n",
       "      <td>0.118182</td>\n",
       "      <td>2001.0</td>\n",
       "      <td>2005.0</td>\n",
       "    </tr>\n",
       "    <tr>\n",
       "      <th>5</th>\n",
       "      <td>66.833333</td>\n",
       "      <td>0.127273</td>\n",
       "      <td>2001.0</td>\n",
       "      <td>2006.0</td>\n",
       "    </tr>\n",
       "    <tr>\n",
       "      <th>6</th>\n",
       "      <td>66.833333</td>\n",
       "      <td>0.136364</td>\n",
       "      <td>2001.0</td>\n",
       "      <td>2007.0</td>\n",
       "    </tr>\n",
       "  </tbody>\n",
       "</table>\n",
       "</div>"
      ],
      "text/plain": [
       "        Record      Loss      AY  EvalYr\n",
       "Dev                                     \n",
       "1    66.833333  0.000000  2001.0  2002.0\n",
       "2    66.833333  0.090909  2001.0  2003.0\n",
       "3    66.833333  0.113636  2001.0  2004.0\n",
       "4    66.833333  0.118182  2001.0  2005.0\n",
       "5    66.833333  0.127273  2001.0  2006.0\n",
       "6    66.833333  0.136364  2001.0  2007.0"
      ]
     },
     "execution_count": 188,
     "metadata": {},
     "output_type": "execute_result"
    }
   ],
   "source": [
    "test_df.groupby(\"Dev\").mean()"
   ]
  },
  {
   "cell_type": "markdown",
   "id": "08d4929c",
   "metadata": {},
   "source": [
    "## Split with EvalYr"
   ]
  },
  {
   "cell_type": "code",
   "execution_count": 190,
   "id": "f8a30e82",
   "metadata": {
    "ExecuteTime": {
     "end_time": "2022-08-14T02:32:37.597625Z",
     "start_time": "2022-08-14T02:32:37.577602Z"
    }
   },
   "outputs": [
    {
     "data": {
      "text/html": [
       "<div>\n",
       "<style scoped>\n",
       "    .dataframe tbody tr th:only-of-type {\n",
       "        vertical-align: middle;\n",
       "    }\n",
       "\n",
       "    .dataframe tbody tr th {\n",
       "        vertical-align: top;\n",
       "    }\n",
       "\n",
       "    .dataframe thead th {\n",
       "        text-align: right;\n",
       "    }\n",
       "</style>\n",
       "<table border=\"1\" class=\"dataframe\">\n",
       "  <thead>\n",
       "    <tr style=\"text-align: right;\">\n",
       "      <th></th>\n",
       "      <th>Record</th>\n",
       "      <th>Loss</th>\n",
       "      <th>Dev</th>\n",
       "      <th>AY</th>\n",
       "      <th>EvalYr</th>\n",
       "    </tr>\n",
       "  </thead>\n",
       "  <tbody>\n",
       "    <tr>\n",
       "      <th>0</th>\n",
       "      <td>1</td>\n",
       "      <td>0.000</td>\n",
       "      <td>1</td>\n",
       "      <td>2000</td>\n",
       "      <td>2001</td>\n",
       "    </tr>\n",
       "    <tr>\n",
       "      <th>1</th>\n",
       "      <td>1</td>\n",
       "      <td>3.500</td>\n",
       "      <td>2</td>\n",
       "      <td>2000</td>\n",
       "      <td>2002</td>\n",
       "    </tr>\n",
       "    <tr>\n",
       "      <th>2</th>\n",
       "      <td>1</td>\n",
       "      <td>4.375</td>\n",
       "      <td>3</td>\n",
       "      <td>2000</td>\n",
       "      <td>2003</td>\n",
       "    </tr>\n",
       "    <tr>\n",
       "      <th>3</th>\n",
       "      <td>1</td>\n",
       "      <td>4.550</td>\n",
       "      <td>4</td>\n",
       "      <td>2000</td>\n",
       "      <td>2004</td>\n",
       "    </tr>\n",
       "    <tr>\n",
       "      <th>4</th>\n",
       "      <td>1</td>\n",
       "      <td>4.900</td>\n",
       "      <td>5</td>\n",
       "      <td>2000</td>\n",
       "      <td>2005</td>\n",
       "    </tr>\n",
       "    <tr>\n",
       "      <th>...</th>\n",
       "      <td>...</td>\n",
       "      <td>...</td>\n",
       "      <td>...</td>\n",
       "      <td>...</td>\n",
       "      <td>...</td>\n",
       "    </tr>\n",
       "    <tr>\n",
       "      <th>727</th>\n",
       "      <td>122</td>\n",
       "      <td>1.000</td>\n",
       "      <td>2</td>\n",
       "      <td>2001</td>\n",
       "      <td>2003</td>\n",
       "    </tr>\n",
       "    <tr>\n",
       "      <th>728</th>\n",
       "      <td>122</td>\n",
       "      <td>1.250</td>\n",
       "      <td>3</td>\n",
       "      <td>2001</td>\n",
       "      <td>2004</td>\n",
       "    </tr>\n",
       "    <tr>\n",
       "      <th>729</th>\n",
       "      <td>122</td>\n",
       "      <td>1.300</td>\n",
       "      <td>4</td>\n",
       "      <td>2001</td>\n",
       "      <td>2005</td>\n",
       "    </tr>\n",
       "    <tr>\n",
       "      <th>730</th>\n",
       "      <td>122</td>\n",
       "      <td>1.400</td>\n",
       "      <td>5</td>\n",
       "      <td>2001</td>\n",
       "      <td>2006</td>\n",
       "    </tr>\n",
       "    <tr>\n",
       "      <th>731</th>\n",
       "      <td>122</td>\n",
       "      <td>1.500</td>\n",
       "      <td>6</td>\n",
       "      <td>2001</td>\n",
       "      <td>2007</td>\n",
       "    </tr>\n",
       "  </tbody>\n",
       "</table>\n",
       "<p>732 rows × 5 columns</p>\n",
       "</div>"
      ],
      "text/plain": [
       "     Record   Loss  Dev    AY  EvalYr\n",
       "0         1  0.000    1  2000    2001\n",
       "1         1  3.500    2  2000    2002\n",
       "2         1  4.375    3  2000    2003\n",
       "3         1  4.550    4  2000    2004\n",
       "4         1  4.900    5  2000    2005\n",
       "..      ...    ...  ...   ...     ...\n",
       "727     122  1.000    2  2001    2003\n",
       "728     122  1.250    3  2001    2004\n",
       "729     122  1.300    4  2001    2005\n",
       "730     122  1.400    5  2001    2006\n",
       "731     122  1.500    6  2001    2007\n",
       "\n",
       "[732 rows x 5 columns]"
      ]
     },
     "execution_count": 190,
     "metadata": {},
     "output_type": "execute_result"
    }
   ],
   "source": [
    "df"
   ]
  },
  {
   "cell_type": "code",
   "execution_count": 191,
   "id": "06ec112a",
   "metadata": {
    "ExecuteTime": {
     "end_time": "2022-08-14T02:32:37.613583Z",
     "start_time": "2022-08-14T02:32:37.603589Z"
    }
   },
   "outputs": [
    {
     "name": "stdout",
     "output_type": "stream",
     "text": [
      "2007\n"
     ]
    }
   ],
   "source": [
    "split_yr =  df[\"EvalYr\"].unique()[-1] # use last as test\n",
    "print(split_yr)\n",
    "train_mask = df[\"EvalYr\"] < split_yr"
   ]
  },
  {
   "cell_type": "code",
   "execution_count": 192,
   "id": "305bed26",
   "metadata": {
    "ExecuteTime": {
     "end_time": "2022-08-14T02:32:37.629598Z",
     "start_time": "2022-08-14T02:32:37.616586Z"
    }
   },
   "outputs": [],
   "source": [
    "train_df = df.loc[train_mask,:]\n",
    "test_df = df.loc[~train_mask,:]"
   ]
  },
  {
   "cell_type": "code",
   "execution_count": 193,
   "id": "b9a5b2b8",
   "metadata": {
    "ExecuteTime": {
     "end_time": "2022-08-14T02:32:37.676611Z",
     "start_time": "2022-08-14T02:32:37.634609Z"
    },
    "scrolled": false
   },
   "outputs": [
    {
     "data": {
      "text/html": [
       "<div>\n",
       "<style scoped>\n",
       "    .dataframe tbody tr th:only-of-type {\n",
       "        vertical-align: middle;\n",
       "    }\n",
       "\n",
       "    .dataframe tbody tr th {\n",
       "        vertical-align: top;\n",
       "    }\n",
       "\n",
       "    .dataframe thead th {\n",
       "        text-align: right;\n",
       "    }\n",
       "</style>\n",
       "<table border=\"1\" class=\"dataframe\">\n",
       "  <thead>\n",
       "    <tr style=\"text-align: right;\">\n",
       "      <th></th>\n",
       "      <th>Record</th>\n",
       "      <th>Loss</th>\n",
       "      <th>AY</th>\n",
       "      <th>EvalYr</th>\n",
       "    </tr>\n",
       "    <tr>\n",
       "      <th>Dev</th>\n",
       "      <th></th>\n",
       "      <th></th>\n",
       "      <th></th>\n",
       "      <th></th>\n",
       "    </tr>\n",
       "  </thead>\n",
       "  <tbody>\n",
       "    <tr>\n",
       "      <th>1</th>\n",
       "      <td>61.500000</td>\n",
       "      <td>0.000000</td>\n",
       "      <td>2000.540984</td>\n",
       "      <td>2001.540984</td>\n",
       "    </tr>\n",
       "    <tr>\n",
       "      <th>2</th>\n",
       "      <td>61.500000</td>\n",
       "      <td>0.086066</td>\n",
       "      <td>2000.540984</td>\n",
       "      <td>2002.540984</td>\n",
       "    </tr>\n",
       "    <tr>\n",
       "      <th>3</th>\n",
       "      <td>61.500000</td>\n",
       "      <td>0.107582</td>\n",
       "      <td>2000.540984</td>\n",
       "      <td>2003.540984</td>\n",
       "    </tr>\n",
       "    <tr>\n",
       "      <th>4</th>\n",
       "      <td>61.500000</td>\n",
       "      <td>0.111885</td>\n",
       "      <td>2000.540984</td>\n",
       "      <td>2004.540984</td>\n",
       "    </tr>\n",
       "    <tr>\n",
       "      <th>5</th>\n",
       "      <td>61.500000</td>\n",
       "      <td>0.120492</td>\n",
       "      <td>2000.540984</td>\n",
       "      <td>2005.540984</td>\n",
       "    </tr>\n",
       "    <tr>\n",
       "      <th>6</th>\n",
       "      <td>55.214286</td>\n",
       "      <td>0.120536</td>\n",
       "      <td>2000.000000</td>\n",
       "      <td>2006.000000</td>\n",
       "    </tr>\n",
       "  </tbody>\n",
       "</table>\n",
       "</div>"
      ],
      "text/plain": [
       "        Record      Loss           AY       EvalYr\n",
       "Dev                                               \n",
       "1    61.500000  0.000000  2000.540984  2001.540984\n",
       "2    61.500000  0.086066  2000.540984  2002.540984\n",
       "3    61.500000  0.107582  2000.540984  2003.540984\n",
       "4    61.500000  0.111885  2000.540984  2004.540984\n",
       "5    61.500000  0.120492  2000.540984  2005.540984\n",
       "6    55.214286  0.120536  2000.000000  2006.000000"
      ]
     },
     "execution_count": 193,
     "metadata": {},
     "output_type": "execute_result"
    }
   ],
   "source": [
    "train_df.groupby(\"Dev\").mean()"
   ]
  },
  {
   "cell_type": "code",
   "execution_count": 194,
   "id": "d8d7aa04",
   "metadata": {
    "ExecuteTime": {
     "end_time": "2022-08-14T02:32:37.708584Z",
     "start_time": "2022-08-14T02:32:37.681598Z"
    },
    "scrolled": true
   },
   "outputs": [
    {
     "data": {
      "text/html": [
       "<div>\n",
       "<style scoped>\n",
       "    .dataframe tbody tr th:only-of-type {\n",
       "        vertical-align: middle;\n",
       "    }\n",
       "\n",
       "    .dataframe tbody tr th {\n",
       "        vertical-align: top;\n",
       "    }\n",
       "\n",
       "    .dataframe thead th {\n",
       "        text-align: right;\n",
       "    }\n",
       "</style>\n",
       "<table border=\"1\" class=\"dataframe\">\n",
       "  <thead>\n",
       "    <tr style=\"text-align: right;\">\n",
       "      <th></th>\n",
       "      <th>Record</th>\n",
       "      <th>Loss</th>\n",
       "      <th>AY</th>\n",
       "      <th>EvalYr</th>\n",
       "    </tr>\n",
       "    <tr>\n",
       "      <th>Dev</th>\n",
       "      <th></th>\n",
       "      <th></th>\n",
       "      <th></th>\n",
       "      <th></th>\n",
       "    </tr>\n",
       "  </thead>\n",
       "  <tbody>\n",
       "    <tr>\n",
       "      <th>6</th>\n",
       "      <td>66.833333</td>\n",
       "      <td>0.136364</td>\n",
       "      <td>2001.0</td>\n",
       "      <td>2007.0</td>\n",
       "    </tr>\n",
       "  </tbody>\n",
       "</table>\n",
       "</div>"
      ],
      "text/plain": [
       "        Record      Loss      AY  EvalYr\n",
       "Dev                                     \n",
       "6    66.833333  0.136364  2001.0  2007.0"
      ]
     },
     "execution_count": 194,
     "metadata": {},
     "output_type": "execute_result"
    }
   ],
   "source": [
    "test_df.groupby(\"Dev\").mean()"
   ]
  },
  {
   "cell_type": "markdown",
   "id": "8089e372",
   "metadata": {},
   "source": [
    "### remodel"
   ]
  },
  {
   "cell_type": "code",
   "execution_count": 199,
   "id": "26858dbc",
   "metadata": {
    "ExecuteTime": {
     "end_time": "2022-08-14T02:35:36.352090Z",
     "start_time": "2022-08-14T02:35:36.337096Z"
    }
   },
   "outputs": [],
   "source": [
    "# Create an LGBM model\n",
    "params = {\n",
    "    'objective': 'regression',\n",
    "    'linear_tree': True, #for forecasting\n",
    "#     'lambda_l1 ': 0.2, \n",
    "}\n",
    "model = LGBMRegressor(**params)"
   ]
  },
  {
   "cell_type": "code",
   "execution_count": 200,
   "id": "edbff4cf",
   "metadata": {
    "ExecuteTime": {
     "end_time": "2022-08-14T02:35:36.367094Z",
     "start_time": "2022-08-14T02:35:36.355091Z"
    }
   },
   "outputs": [],
   "source": [
    "X = train_df[[\"Dev\"]]\n",
    "y = train_df[\"Loss\"]"
   ]
  },
  {
   "cell_type": "code",
   "execution_count": 201,
   "id": "76fe96d5",
   "metadata": {
    "ExecuteTime": {
     "end_time": "2022-08-14T02:35:36.446093Z",
     "start_time": "2022-08-14T02:35:36.372092Z"
    },
    "scrolled": true
   },
   "outputs": [
    {
     "data": {
      "text/html": [
       "<style>#sk-container-id-8 {color: black;background-color: white;}#sk-container-id-8 pre{padding: 0;}#sk-container-id-8 div.sk-toggleable {background-color: white;}#sk-container-id-8 label.sk-toggleable__label {cursor: pointer;display: block;width: 100%;margin-bottom: 0;padding: 0.3em;box-sizing: border-box;text-align: center;}#sk-container-id-8 label.sk-toggleable__label-arrow:before {content: \"▸\";float: left;margin-right: 0.25em;color: #696969;}#sk-container-id-8 label.sk-toggleable__label-arrow:hover:before {color: black;}#sk-container-id-8 div.sk-estimator:hover label.sk-toggleable__label-arrow:before {color: black;}#sk-container-id-8 div.sk-toggleable__content {max-height: 0;max-width: 0;overflow: hidden;text-align: left;background-color: #f0f8ff;}#sk-container-id-8 div.sk-toggleable__content pre {margin: 0.2em;color: black;border-radius: 0.25em;background-color: #f0f8ff;}#sk-container-id-8 input.sk-toggleable__control:checked~div.sk-toggleable__content {max-height: 200px;max-width: 100%;overflow: auto;}#sk-container-id-8 input.sk-toggleable__control:checked~label.sk-toggleable__label-arrow:before {content: \"▾\";}#sk-container-id-8 div.sk-estimator input.sk-toggleable__control:checked~label.sk-toggleable__label {background-color: #d4ebff;}#sk-container-id-8 div.sk-label input.sk-toggleable__control:checked~label.sk-toggleable__label {background-color: #d4ebff;}#sk-container-id-8 input.sk-hidden--visually {border: 0;clip: rect(1px 1px 1px 1px);clip: rect(1px, 1px, 1px, 1px);height: 1px;margin: -1px;overflow: hidden;padding: 0;position: absolute;width: 1px;}#sk-container-id-8 div.sk-estimator {font-family: monospace;background-color: #f0f8ff;border: 1px dotted black;border-radius: 0.25em;box-sizing: border-box;margin-bottom: 0.5em;}#sk-container-id-8 div.sk-estimator:hover {background-color: #d4ebff;}#sk-container-id-8 div.sk-parallel-item::after {content: \"\";width: 100%;border-bottom: 1px solid gray;flex-grow: 1;}#sk-container-id-8 div.sk-label:hover label.sk-toggleable__label {background-color: #d4ebff;}#sk-container-id-8 div.sk-serial::before {content: \"\";position: absolute;border-left: 1px solid gray;box-sizing: border-box;top: 0;bottom: 0;left: 50%;z-index: 0;}#sk-container-id-8 div.sk-serial {display: flex;flex-direction: column;align-items: center;background-color: white;padding-right: 0.2em;padding-left: 0.2em;position: relative;}#sk-container-id-8 div.sk-item {position: relative;z-index: 1;}#sk-container-id-8 div.sk-parallel {display: flex;align-items: stretch;justify-content: center;background-color: white;position: relative;}#sk-container-id-8 div.sk-item::before, #sk-container-id-8 div.sk-parallel-item::before {content: \"\";position: absolute;border-left: 1px solid gray;box-sizing: border-box;top: 0;bottom: 0;left: 50%;z-index: -1;}#sk-container-id-8 div.sk-parallel-item {display: flex;flex-direction: column;z-index: 1;position: relative;background-color: white;}#sk-container-id-8 div.sk-parallel-item:first-child::after {align-self: flex-end;width: 50%;}#sk-container-id-8 div.sk-parallel-item:last-child::after {align-self: flex-start;width: 50%;}#sk-container-id-8 div.sk-parallel-item:only-child::after {width: 0;}#sk-container-id-8 div.sk-dashed-wrapped {border: 1px dashed gray;margin: 0 0.4em 0.5em 0.4em;box-sizing: border-box;padding-bottom: 0.4em;background-color: white;}#sk-container-id-8 div.sk-label label {font-family: monospace;font-weight: bold;display: inline-block;line-height: 1.2em;}#sk-container-id-8 div.sk-label-container {text-align: center;}#sk-container-id-8 div.sk-container {/* jupyter's `normalize.less` sets `[hidden] { display: none; }` but bootstrap.min.css set `[hidden] { display: none !important; }` so we also need the `!important` here to be able to override the default hidden behavior on the sphinx rendered scikit-learn.org. See: https://github.com/scikit-learn/scikit-learn/issues/21755 */display: inline-block !important;position: relative;}#sk-container-id-8 div.sk-text-repr-fallback {display: none;}</style><div id=\"sk-container-id-8\" class=\"sk-top-container\"><div class=\"sk-text-repr-fallback\"><pre>LGBMRegressor(linear_tree=True, objective=&#x27;regression&#x27;)</pre><b>In a Jupyter environment, please rerun this cell to show the HTML representation or trust the notebook. <br />On GitHub, the HTML representation is unable to render, please try loading this page with nbviewer.org.</b></div><div class=\"sk-container\" hidden><div class=\"sk-item\"><div class=\"sk-estimator sk-toggleable\"><input class=\"sk-toggleable__control sk-hidden--visually\" id=\"sk-estimator-id-8\" type=\"checkbox\" checked><label for=\"sk-estimator-id-8\" class=\"sk-toggleable__label sk-toggleable__label-arrow\">LGBMRegressor</label><div class=\"sk-toggleable__content\"><pre>LGBMRegressor(linear_tree=True, objective=&#x27;regression&#x27;)</pre></div></div></div></div></div>"
      ],
      "text/plain": [
       "LGBMRegressor(linear_tree=True, objective='regression')"
      ]
     },
     "execution_count": 201,
     "metadata": {},
     "output_type": "execute_result"
    }
   ],
   "source": [
    "model.fit(X,y)"
   ]
  },
  {
   "cell_type": "code",
   "execution_count": 202,
   "id": "dc5bb411",
   "metadata": {
    "ExecuteTime": {
     "end_time": "2022-08-14T02:35:48.155309Z",
     "start_time": "2022-08-14T02:35:48.140309Z"
    }
   },
   "outputs": [
    {
     "data": {
      "text/plain": [
       "array([0.12053485, 0.12053485, 0.12053485, 0.12053485, 0.12053485,\n",
       "       0.12053485, 0.12053485, 0.12053485, 0.12053485, 0.12053485,\n",
       "       0.12053485, 0.12053485, 0.12053485, 0.12053485, 0.12053485,\n",
       "       0.12053485, 0.12053485, 0.12053485, 0.12053485, 0.12053485,\n",
       "       0.12053485, 0.12053485, 0.12053485, 0.12053485, 0.12053485,\n",
       "       0.12053485, 0.12053485, 0.12053485, 0.12053485, 0.12053485,\n",
       "       0.12053485, 0.12053485, 0.12053485, 0.12053485, 0.12053485,\n",
       "       0.12053485, 0.12053485, 0.12053485, 0.12053485, 0.12053485,\n",
       "       0.12053485, 0.12053485, 0.12053485, 0.12053485, 0.12053485,\n",
       "       0.12053485, 0.12053485, 0.12053485, 0.12053485, 0.12053485,\n",
       "       0.12053485, 0.12053485, 0.12053485, 0.12053485, 0.12053485,\n",
       "       0.12053485, 0.12053485, 0.12053485, 0.12053485, 0.12053485,\n",
       "       0.12053485, 0.12053485, 0.12053485, 0.12053485, 0.12053485,\n",
       "       0.12053485])"
      ]
     },
     "execution_count": 202,
     "metadata": {},
     "output_type": "execute_result"
    }
   ],
   "source": [
    "model.predict(test_df[[\"Dev\"]])"
   ]
  },
  {
   "cell_type": "code",
   "execution_count": 203,
   "id": "88acaf45",
   "metadata": {
    "ExecuteTime": {
     "end_time": "2022-08-14T02:37:38.849073Z",
     "start_time": "2022-08-14T02:37:38.833086Z"
    }
   },
   "outputs": [
    {
     "data": {
      "text/plain": [
       "array([0.12053485, 0.12053485, 0.12053485, 0.12053485, 0.12053485,\n",
       "       0.12053485, 0.12053485, 0.12053485, 0.12053485, 0.12053485,\n",
       "       0.12053485, 0.12053485, 0.12053485, 0.12053485, 0.12053485,\n",
       "       0.12053485, 0.12053485, 0.12053485, 0.12053485, 0.12053485,\n",
       "       0.12053485, 0.12053485, 0.12053485, 0.12053485, 0.12053485,\n",
       "       0.12053485, 0.12053485, 0.12053485, 0.12053485, 0.12053485,\n",
       "       0.12053485, 0.12053485, 0.12053485, 0.12053485, 0.12053485,\n",
       "       0.12053485, 0.12053485, 0.12053485, 0.12053485, 0.12053485,\n",
       "       0.12053485, 0.12053485, 0.12053485, 0.12053485, 0.12053485,\n",
       "       0.12053485, 0.12053485, 0.12053485, 0.12053485, 0.12053485,\n",
       "       0.12053485, 0.12053485, 0.12053485, 0.12053485, 0.12053485,\n",
       "       0.12053485, 0.12053485, 0.12053485, 0.12053485, 0.12053485,\n",
       "       0.12053485, 0.12053485, 0.12053485, 0.12053485, 0.12053485,\n",
       "       0.12053485])"
      ]
     },
     "execution_count": 203,
     "metadata": {},
     "output_type": "execute_result"
    }
   ],
   "source": [
    "model.predict(test_df[[\"Dev\"]])"
   ]
  },
  {
   "cell_type": "markdown",
   "id": "3ae42b5d",
   "metadata": {},
   "source": [
    "### Extrapolation x2"
   ]
  },
  {
   "cell_type": "code",
   "execution_count": 207,
   "id": "e6dfae90",
   "metadata": {
    "ExecuteTime": {
     "end_time": "2022-08-14T02:39:00.938084Z",
     "start_time": "2022-08-14T02:39:00.918530Z"
    }
   },
   "outputs": [],
   "source": [
    "X_later = pd.DataFrame(np.linspace(1,10,10),columns=['Dev'])\n",
    "\n",
    "res2_df = X_later.copy(deep=True)\n",
    "\n",
    "res2_df[\"Loss_pred\"] = model.predict(X_later)\n"
   ]
  },
  {
   "cell_type": "code",
   "execution_count": 208,
   "id": "c7412aeb",
   "metadata": {
    "ExecuteTime": {
     "end_time": "2022-08-14T02:39:00.969081Z",
     "start_time": "2022-08-14T02:39:00.942088Z"
    },
    "scrolled": false
   },
   "outputs": [
    {
     "data": {
      "text/html": [
       "<div>\n",
       "<style scoped>\n",
       "    .dataframe tbody tr th:only-of-type {\n",
       "        vertical-align: middle;\n",
       "    }\n",
       "\n",
       "    .dataframe tbody tr th {\n",
       "        vertical-align: top;\n",
       "    }\n",
       "\n",
       "    .dataframe thead th {\n",
       "        text-align: right;\n",
       "    }\n",
       "</style>\n",
       "<table border=\"1\" class=\"dataframe\">\n",
       "  <thead>\n",
       "    <tr style=\"text-align: right;\">\n",
       "      <th></th>\n",
       "      <th>Dev</th>\n",
       "      <th>Loss_pred</th>\n",
       "    </tr>\n",
       "  </thead>\n",
       "  <tbody>\n",
       "    <tr>\n",
       "      <th>0</th>\n",
       "      <td>1.0</td>\n",
       "      <td>0.000002</td>\n",
       "    </tr>\n",
       "    <tr>\n",
       "      <th>1</th>\n",
       "      <td>2.0</td>\n",
       "      <td>0.086066</td>\n",
       "    </tr>\n",
       "    <tr>\n",
       "      <th>2</th>\n",
       "      <td>3.0</td>\n",
       "      <td>0.107581</td>\n",
       "    </tr>\n",
       "    <tr>\n",
       "      <th>3</th>\n",
       "      <td>4.0</td>\n",
       "      <td>0.111885</td>\n",
       "    </tr>\n",
       "    <tr>\n",
       "      <th>4</th>\n",
       "      <td>5.0</td>\n",
       "      <td>0.120491</td>\n",
       "    </tr>\n",
       "    <tr>\n",
       "      <th>5</th>\n",
       "      <td>6.0</td>\n",
       "      <td>0.120535</td>\n",
       "    </tr>\n",
       "    <tr>\n",
       "      <th>6</th>\n",
       "      <td>7.0</td>\n",
       "      <td>0.125389</td>\n",
       "    </tr>\n",
       "    <tr>\n",
       "      <th>7</th>\n",
       "      <td>8.0</td>\n",
       "      <td>0.130243</td>\n",
       "    </tr>\n",
       "    <tr>\n",
       "      <th>8</th>\n",
       "      <td>9.0</td>\n",
       "      <td>0.135096</td>\n",
       "    </tr>\n",
       "    <tr>\n",
       "      <th>9</th>\n",
       "      <td>10.0</td>\n",
       "      <td>0.139950</td>\n",
       "    </tr>\n",
       "  </tbody>\n",
       "</table>\n",
       "</div>"
      ],
      "text/plain": [
       "    Dev  Loss_pred\n",
       "0   1.0   0.000002\n",
       "1   2.0   0.086066\n",
       "2   3.0   0.107581\n",
       "3   4.0   0.111885\n",
       "4   5.0   0.120491\n",
       "5   6.0   0.120535\n",
       "6   7.0   0.125389\n",
       "7   8.0   0.130243\n",
       "8   9.0   0.135096\n",
       "9  10.0   0.139950"
      ]
     },
     "execution_count": 208,
     "metadata": {},
     "output_type": "execute_result"
    }
   ],
   "source": [
    "res2_df"
   ]
  },
  {
   "cell_type": "markdown",
   "id": "f39f1b29",
   "metadata": {},
   "source": [
    "**Successful extrapolation**"
   ]
  },
  {
   "cell_type": "code",
   "execution_count": 210,
   "id": "c9626c77",
   "metadata": {
    "ExecuteTime": {
     "end_time": "2022-08-14T02:39:52.887760Z",
     "start_time": "2022-08-14T02:39:52.632760Z"
    }
   },
   "outputs": [
    {
     "data": {
      "text/plain": [
       "[<matplotlib.lines.Line2D at 0x2717da59790>]"
      ]
     },
     "execution_count": 210,
     "metadata": {},
     "output_type": "execute_result"
    },
    {
     "data": {
      "image/png": "[encoded data removed]",
      "text/plain": [
       "<Figure size 432x288 with 1 Axes>"
      ]
     },
     "metadata": {
      "needs_background": "light"
     },
     "output_type": "display_data"
    }
   ],
   "source": [
    "plt.plot(res2_df['Dev'],res2_df['Loss_pred'])"
   ]
  },
  {
   "cell_type": "code",
   "execution_count": null,
   "id": "bb523b32",
   "metadata": {},
   "outputs": [],
   "source": []
  }
 ],
 "metadata": {
  "kernelspec": {
   "display_name": "casestudy1",
   "language": "python",
   "name": "casestudy1"
  },
  "language_info": {
   "codemirror_mode": {
    "name": "ipython",
    "version": 3
   },
   "file_extension": ".py",
   "mimetype": "text/x-python",
   "name": "python",
   "nbconvert_exporter": "python",
   "pygments_lexer": "ipython3",
   "version": "3.9.10"
  },
  "toc": {
   "base_numbering": 1,
   "nav_menu": {},
   "number_sections": true,
   "sideBar": true,
   "skip_h1_title": false,
   "title_cell": "Table of Contents",
   "title_sidebar": "Contents",
   "toc_cell": false,
   "toc_position": {},
   "toc_section_display": true,
   "toc_window_display": true
  },
  "varInspector": {
   "cols": {
    "lenName": 16,
    "lenType": 16,
    "lenVar": 40
   },
   "kernels_config": {
    "python": {
     "delete_cmd_postfix": "",
     "delete_cmd_prefix": "del ",
     "library": "var_list.py",
     "varRefreshCmd": "print(var_dic_list())"
    },
    "r": {
     "delete_cmd_postfix": ") ",
     "delete_cmd_prefix": "rm(",
     "library": "var_list.r",
     "varRefreshCmd": "cat(var_dic_list()) "
    }
   },
   "types_to_exclude": [
    "module",
    "function",
    "builtin_function_or_method",
    "instance",
    "_Feature"
   ],
   "window_display": true
  }
 },
 "nbformat": 4,
 "nbformat_minor": 5
}
