{
 "cells": [
  {
   "cell_type": "markdown",
   "id": "1563aa72",
   "metadata": {},
   "source": [
    "# Imbalanced"
   ]
  },
  {
   "cell_type": "code",
   "execution_count": 811,
   "id": "b04558a2",
   "metadata": {
    "ExecuteTime": {
     "end_time": "2022-08-14T22:21:42.404426Z",
     "start_time": "2022-08-14T22:21:42.385426Z"
    }
   },
   "outputs": [],
   "source": [
    "import numpy as np\n",
    "import pandas as pd\n",
    "import matplotlib.pyplot as plt\n",
    "from lightgbm import LGBMRegressor\n",
    "from sklearn.model_selection import train_test_split"
   ]
  },
  {
   "cell_type": "code",
   "execution_count": 812,
   "id": "a60ee598",
   "metadata": {
    "ExecuteTime": {
     "end_time": "2022-08-14T22:21:42.641429Z",
     "start_time": "2022-08-14T22:21:42.408427Z"
    }
   },
   "outputs": [],
   "source": [
    "df = pd.read_excel(\"data/imbalanced_dataset_wdev.xlsx\")"
   ]
  },
  {
   "cell_type": "code",
   "execution_count": 813,
   "id": "cfb792c0",
   "metadata": {
    "ExecuteTime": {
     "end_time": "2022-08-14T22:21:42.689429Z",
     "start_time": "2022-08-14T22:21:42.646433Z"
    },
    "scrolled": true
   },
   "outputs": [
    {
     "data": {
      "text/html": [
       "<div>\n",
       "<style scoped>\n",
       "    .dataframe tbody tr th:only-of-type {\n",
       "        vertical-align: middle;\n",
       "    }\n",
       "\n",
       "    .dataframe tbody tr th {\n",
       "        vertical-align: top;\n",
       "    }\n",
       "\n",
       "    .dataframe thead th {\n",
       "        text-align: right;\n",
       "    }\n",
       "</style>\n",
       "<table border=\"1\" class=\"dataframe\">\n",
       "  <thead>\n",
       "    <tr style=\"text-align: right;\">\n",
       "      <th></th>\n",
       "      <th>Record</th>\n",
       "      <th>Loss</th>\n",
       "      <th>Dev</th>\n",
       "      <th>AY</th>\n",
       "      <th>EvalYr</th>\n",
       "    </tr>\n",
       "  </thead>\n",
       "  <tbody>\n",
       "    <tr>\n",
       "      <th>0</th>\n",
       "      <td>1</td>\n",
       "      <td>0.0000</td>\n",
       "      <td>1</td>\n",
       "      <td>2000</td>\n",
       "      <td>2001</td>\n",
       "    </tr>\n",
       "    <tr>\n",
       "      <th>1</th>\n",
       "      <td>1</td>\n",
       "      <td>1.7500</td>\n",
       "      <td>2</td>\n",
       "      <td>2000</td>\n",
       "      <td>2002</td>\n",
       "    </tr>\n",
       "    <tr>\n",
       "      <th>2</th>\n",
       "      <td>1</td>\n",
       "      <td>2.1875</td>\n",
       "      <td>3</td>\n",
       "      <td>2000</td>\n",
       "      <td>2003</td>\n",
       "    </tr>\n",
       "    <tr>\n",
       "      <th>3</th>\n",
       "      <td>1</td>\n",
       "      <td>2.2750</td>\n",
       "      <td>4</td>\n",
       "      <td>2000</td>\n",
       "      <td>2004</td>\n",
       "    </tr>\n",
       "    <tr>\n",
       "      <th>4</th>\n",
       "      <td>1</td>\n",
       "      <td>2.4500</td>\n",
       "      <td>5</td>\n",
       "      <td>2000</td>\n",
       "      <td>2005</td>\n",
       "    </tr>\n",
       "    <tr>\n",
       "      <th>...</th>\n",
       "      <td>...</td>\n",
       "      <td>...</td>\n",
       "      <td>...</td>\n",
       "      <td>...</td>\n",
       "      <td>...</td>\n",
       "    </tr>\n",
       "    <tr>\n",
       "      <th>1519</th>\n",
       "      <td>254</td>\n",
       "      <td>8.0000</td>\n",
       "      <td>2</td>\n",
       "      <td>2003</td>\n",
       "      <td>2005</td>\n",
       "    </tr>\n",
       "    <tr>\n",
       "      <th>1520</th>\n",
       "      <td>254</td>\n",
       "      <td>10.0000</td>\n",
       "      <td>3</td>\n",
       "      <td>2003</td>\n",
       "      <td>2006</td>\n",
       "    </tr>\n",
       "    <tr>\n",
       "      <th>1521</th>\n",
       "      <td>254</td>\n",
       "      <td>10.4000</td>\n",
       "      <td>4</td>\n",
       "      <td>2003</td>\n",
       "      <td>2007</td>\n",
       "    </tr>\n",
       "    <tr>\n",
       "      <th>1522</th>\n",
       "      <td>254</td>\n",
       "      <td>11.2000</td>\n",
       "      <td>5</td>\n",
       "      <td>2003</td>\n",
       "      <td>2008</td>\n",
       "    </tr>\n",
       "    <tr>\n",
       "      <th>1523</th>\n",
       "      <td>254</td>\n",
       "      <td>12.0000</td>\n",
       "      <td>6</td>\n",
       "      <td>2003</td>\n",
       "      <td>2009</td>\n",
       "    </tr>\n",
       "  </tbody>\n",
       "</table>\n",
       "<p>1524 rows × 5 columns</p>\n",
       "</div>"
      ],
      "text/plain": [
       "      Record     Loss  Dev    AY  EvalYr\n",
       "0          1   0.0000    1  2000    2001\n",
       "1          1   1.7500    2  2000    2002\n",
       "2          1   2.1875    3  2000    2003\n",
       "3          1   2.2750    4  2000    2004\n",
       "4          1   2.4500    5  2000    2005\n",
       "...      ...      ...  ...   ...     ...\n",
       "1519     254   8.0000    2  2003    2005\n",
       "1520     254  10.0000    3  2003    2006\n",
       "1521     254  10.4000    4  2003    2007\n",
       "1522     254  11.2000    5  2003    2008\n",
       "1523     254  12.0000    6  2003    2009\n",
       "\n",
       "[1524 rows x 5 columns]"
      ]
     },
     "execution_count": 813,
     "metadata": {},
     "output_type": "execute_result"
    }
   ],
   "source": [
    "df"
   ]
  },
  {
   "cell_type": "markdown",
   "id": "60f7bcfe",
   "metadata": {},
   "source": [
    "## Dummy Data"
   ]
  },
  {
   "cell_type": "code",
   "execution_count": 814,
   "id": "6efba108",
   "metadata": {
    "ExecuteTime": {
     "end_time": "2022-08-14T22:21:42.990376Z",
     "start_time": "2022-08-14T22:21:42.696427Z"
    }
   },
   "outputs": [
    {
     "data": {
      "image/png": "[encoded data removed]",
      "text/plain": [
       "<Figure size 432x288 with 1 Axes>"
      ]
     },
     "metadata": {
      "needs_background": "light"
     },
     "output_type": "display_data"
    }
   ],
   "source": [
    "# Create an LGBM model\n",
    "params = {\n",
    "    'objective': 'regression',\n",
    "    'linear_tree': True,\n",
    "}\n",
    "model = LGBMRegressor(**params)\n",
    "\n",
    "# Create time serie timestamp indices\n",
    "ts = np.linspace(0, 10, 100)\n",
    "X = pd.DataFrame({'ts': ts})\n",
    "\n",
    "# Generate signal to predict using a simple linear system\n",
    "y = ts * 6.66\n",
    "\n",
    "# Train LGBM model\n",
    "model.fit(X, y)\n",
    "\n",
    "# Create prediction inputs. Start with timestamp indices\n",
    "# Shift the initial time range by 0.05 to force interpolation and augment if to force extrapolation\n",
    "x_preds = pd.DataFrame({'ts': list(ts + 0.05) + [11, 12, 13, 14, 15]})\n",
    "preds = model.predict(x_preds)\n",
    "# Plot results.\n",
    "# LGBM with linear tree can extrapolate\n",
    "plt.plot(x_preds, x_preds['ts'] * 6.66, label='true values')\n",
    "plt.plot(x_preds, preds, label='LGBM predicted values')\n",
    "plt.legend()\n",
    "# plt.savefig('lgbm_linear.png')\n",
    "plt.show()"
   ]
  },
  {
   "cell_type": "markdown",
   "id": "73dc6ed5",
   "metadata": {},
   "source": [
    "## Real Data"
   ]
  },
  {
   "cell_type": "code",
   "execution_count": 815,
   "id": "cea6c139",
   "metadata": {
    "ExecuteTime": {
     "end_time": "2022-08-14T22:21:43.006376Z",
     "start_time": "2022-08-14T22:21:42.993378Z"
    }
   },
   "outputs": [],
   "source": [
    "# Create an LGBM model\n",
    "params = {\n",
    "    'objective': 'regression',\n",
    "    'linear_tree': True, #for forecasting\n",
    "#     'lambda_l1 ': 0.2, \n",
    "}\n",
    "model2 = LGBMRegressor(**params)"
   ]
  },
  {
   "cell_type": "code",
   "execution_count": 816,
   "id": "cab08650",
   "metadata": {
    "ExecuteTime": {
     "end_time": "2022-08-14T22:21:43.022382Z",
     "start_time": "2022-08-14T22:21:43.009380Z"
    }
   },
   "outputs": [],
   "source": [
    "X = df[['Dev']]"
   ]
  },
  {
   "cell_type": "code",
   "execution_count": 817,
   "id": "e7de7571",
   "metadata": {
    "ExecuteTime": {
     "end_time": "2022-08-14T22:21:43.053381Z",
     "start_time": "2022-08-14T22:21:43.029378Z"
    }
   },
   "outputs": [
    {
     "data": {
      "text/html": [
       "<div>\n",
       "<style scoped>\n",
       "    .dataframe tbody tr th:only-of-type {\n",
       "        vertical-align: middle;\n",
       "    }\n",
       "\n",
       "    .dataframe tbody tr th {\n",
       "        vertical-align: top;\n",
       "    }\n",
       "\n",
       "    .dataframe thead th {\n",
       "        text-align: right;\n",
       "    }\n",
       "</style>\n",
       "<table border=\"1\" class=\"dataframe\">\n",
       "  <thead>\n",
       "    <tr style=\"text-align: right;\">\n",
       "      <th></th>\n",
       "      <th>Dev</th>\n",
       "    </tr>\n",
       "  </thead>\n",
       "  <tbody>\n",
       "    <tr>\n",
       "      <th>0</th>\n",
       "      <td>1</td>\n",
       "    </tr>\n",
       "    <tr>\n",
       "      <th>1</th>\n",
       "      <td>2</td>\n",
       "    </tr>\n",
       "    <tr>\n",
       "      <th>2</th>\n",
       "      <td>3</td>\n",
       "    </tr>\n",
       "    <tr>\n",
       "      <th>3</th>\n",
       "      <td>4</td>\n",
       "    </tr>\n",
       "    <tr>\n",
       "      <th>4</th>\n",
       "      <td>5</td>\n",
       "    </tr>\n",
       "    <tr>\n",
       "      <th>...</th>\n",
       "      <td>...</td>\n",
       "    </tr>\n",
       "    <tr>\n",
       "      <th>1519</th>\n",
       "      <td>2</td>\n",
       "    </tr>\n",
       "    <tr>\n",
       "      <th>1520</th>\n",
       "      <td>3</td>\n",
       "    </tr>\n",
       "    <tr>\n",
       "      <th>1521</th>\n",
       "      <td>4</td>\n",
       "    </tr>\n",
       "    <tr>\n",
       "      <th>1522</th>\n",
       "      <td>5</td>\n",
       "    </tr>\n",
       "    <tr>\n",
       "      <th>1523</th>\n",
       "      <td>6</td>\n",
       "    </tr>\n",
       "  </tbody>\n",
       "</table>\n",
       "<p>1524 rows × 1 columns</p>\n",
       "</div>"
      ],
      "text/plain": [
       "      Dev\n",
       "0       1\n",
       "1       2\n",
       "2       3\n",
       "3       4\n",
       "4       5\n",
       "...   ...\n",
       "1519    2\n",
       "1520    3\n",
       "1521    4\n",
       "1522    5\n",
       "1523    6\n",
       "\n",
       "[1524 rows x 1 columns]"
      ]
     },
     "execution_count": 817,
     "metadata": {},
     "output_type": "execute_result"
    }
   ],
   "source": [
    "X"
   ]
  },
  {
   "cell_type": "code",
   "execution_count": 818,
   "id": "b5cb0f2c",
   "metadata": {
    "ExecuteTime": {
     "end_time": "2022-08-14T22:21:43.069385Z",
     "start_time": "2022-08-14T22:21:43.060384Z"
    }
   },
   "outputs": [],
   "source": [
    "y = df['Loss']"
   ]
  },
  {
   "cell_type": "code",
   "execution_count": 819,
   "id": "f37da4d5",
   "metadata": {
    "ExecuteTime": {
     "end_time": "2022-08-14T22:21:43.354379Z",
     "start_time": "2022-08-14T22:21:43.079384Z"
    }
   },
   "outputs": [
    {
     "data": {
      "text/plain": [
       "<AxesSubplot:>"
      ]
     },
     "execution_count": 819,
     "metadata": {},
     "output_type": "execute_result"
    },
    {
     "data": {
      "image/png": "[encoded data removed]",
      "text/plain": [
       "<Figure size 432x288 with 1 Axes>"
      ]
     },
     "metadata": {
      "needs_background": "light"
     },
     "output_type": "display_data"
    }
   ],
   "source": [
    "y.hist()"
   ]
  },
  {
   "cell_type": "code",
   "execution_count": 820,
   "id": "6d019eab",
   "metadata": {
    "ExecuteTime": {
     "end_time": "2022-08-14T22:21:43.386378Z",
     "start_time": "2022-08-14T22:21:43.362379Z"
    }
   },
   "outputs": [
    {
     "data": {
      "text/html": [
       "<div>\n",
       "<style scoped>\n",
       "    .dataframe tbody tr th:only-of-type {\n",
       "        vertical-align: middle;\n",
       "    }\n",
       "\n",
       "    .dataframe tbody tr th {\n",
       "        vertical-align: top;\n",
       "    }\n",
       "\n",
       "    .dataframe thead th {\n",
       "        text-align: right;\n",
       "    }\n",
       "</style>\n",
       "<table border=\"1\" class=\"dataframe\">\n",
       "  <thead>\n",
       "    <tr style=\"text-align: right;\">\n",
       "      <th></th>\n",
       "      <th>Record</th>\n",
       "      <th>Loss</th>\n",
       "      <th>AY</th>\n",
       "      <th>EvalYr</th>\n",
       "    </tr>\n",
       "    <tr>\n",
       "      <th>Dev</th>\n",
       "      <th></th>\n",
       "      <th></th>\n",
       "      <th></th>\n",
       "      <th></th>\n",
       "    </tr>\n",
       "  </thead>\n",
       "  <tbody>\n",
       "    <tr>\n",
       "      <th>1</th>\n",
       "      <td>127.5</td>\n",
       "      <td>0.000000</td>\n",
       "      <td>2001.559055</td>\n",
       "      <td>2002.559055</td>\n",
       "    </tr>\n",
       "    <tr>\n",
       "      <th>2</th>\n",
       "      <td>127.5</td>\n",
       "      <td>0.121063</td>\n",
       "      <td>2001.559055</td>\n",
       "      <td>2003.559055</td>\n",
       "    </tr>\n",
       "    <tr>\n",
       "      <th>3</th>\n",
       "      <td>127.5</td>\n",
       "      <td>0.151329</td>\n",
       "      <td>2001.559055</td>\n",
       "      <td>2004.559055</td>\n",
       "    </tr>\n",
       "    <tr>\n",
       "      <th>4</th>\n",
       "      <td>127.5</td>\n",
       "      <td>0.157382</td>\n",
       "      <td>2001.559055</td>\n",
       "      <td>2005.559055</td>\n",
       "    </tr>\n",
       "    <tr>\n",
       "      <th>5</th>\n",
       "      <td>127.5</td>\n",
       "      <td>0.169488</td>\n",
       "      <td>2001.559055</td>\n",
       "      <td>2006.559055</td>\n",
       "    </tr>\n",
       "    <tr>\n",
       "      <th>6</th>\n",
       "      <td>127.5</td>\n",
       "      <td>0.181594</td>\n",
       "      <td>2001.559055</td>\n",
       "      <td>2007.559055</td>\n",
       "    </tr>\n",
       "  </tbody>\n",
       "</table>\n",
       "</div>"
      ],
      "text/plain": [
       "     Record      Loss           AY       EvalYr\n",
       "Dev                                            \n",
       "1     127.5  0.000000  2001.559055  2002.559055\n",
       "2     127.5  0.121063  2001.559055  2003.559055\n",
       "3     127.5  0.151329  2001.559055  2004.559055\n",
       "4     127.5  0.157382  2001.559055  2005.559055\n",
       "5     127.5  0.169488  2001.559055  2006.559055\n",
       "6     127.5  0.181594  2001.559055  2007.559055"
      ]
     },
     "execution_count": 820,
     "metadata": {},
     "output_type": "execute_result"
    }
   ],
   "source": [
    "df.groupby('Dev').mean()"
   ]
  },
  {
   "cell_type": "code",
   "execution_count": 821,
   "id": "6d515295",
   "metadata": {
    "ExecuteTime": {
     "end_time": "2022-08-14T22:21:43.511379Z",
     "start_time": "2022-08-14T22:21:43.393384Z"
    }
   },
   "outputs": [
    {
     "data": {
      "text/html": [
       "<style>#sk-container-id-46 {color: black;background-color: white;}#sk-container-id-46 pre{padding: 0;}#sk-container-id-46 div.sk-toggleable {background-color: white;}#sk-container-id-46 label.sk-toggleable__label {cursor: pointer;display: block;width: 100%;margin-bottom: 0;padding: 0.3em;box-sizing: border-box;text-align: center;}#sk-container-id-46 label.sk-toggleable__label-arrow:before {content: \"▸\";float: left;margin-right: 0.25em;color: #696969;}#sk-container-id-46 label.sk-toggleable__label-arrow:hover:before {color: black;}#sk-container-id-46 div.sk-estimator:hover label.sk-toggleable__label-arrow:before {color: black;}#sk-container-id-46 div.sk-toggleable__content {max-height: 0;max-width: 0;overflow: hidden;text-align: left;background-color: #f0f8ff;}#sk-container-id-46 div.sk-toggleable__content pre {margin: 0.2em;color: black;border-radius: 0.25em;background-color: #f0f8ff;}#sk-container-id-46 input.sk-toggleable__control:checked~div.sk-toggleable__content {max-height: 200px;max-width: 100%;overflow: auto;}#sk-container-id-46 input.sk-toggleable__control:checked~label.sk-toggleable__label-arrow:before {content: \"▾\";}#sk-container-id-46 div.sk-estimator input.sk-toggleable__control:checked~label.sk-toggleable__label {background-color: #d4ebff;}#sk-container-id-46 div.sk-label input.sk-toggleable__control:checked~label.sk-toggleable__label {background-color: #d4ebff;}#sk-container-id-46 input.sk-hidden--visually {border: 0;clip: rect(1px 1px 1px 1px);clip: rect(1px, 1px, 1px, 1px);height: 1px;margin: -1px;overflow: hidden;padding: 0;position: absolute;width: 1px;}#sk-container-id-46 div.sk-estimator {font-family: monospace;background-color: #f0f8ff;border: 1px dotted black;border-radius: 0.25em;box-sizing: border-box;margin-bottom: 0.5em;}#sk-container-id-46 div.sk-estimator:hover {background-color: #d4ebff;}#sk-container-id-46 div.sk-parallel-item::after {content: \"\";width: 100%;border-bottom: 1px solid gray;flex-grow: 1;}#sk-container-id-46 div.sk-label:hover label.sk-toggleable__label {background-color: #d4ebff;}#sk-container-id-46 div.sk-serial::before {content: \"\";position: absolute;border-left: 1px solid gray;box-sizing: border-box;top: 0;bottom: 0;left: 50%;z-index: 0;}#sk-container-id-46 div.sk-serial {display: flex;flex-direction: column;align-items: center;background-color: white;padding-right: 0.2em;padding-left: 0.2em;position: relative;}#sk-container-id-46 div.sk-item {position: relative;z-index: 1;}#sk-container-id-46 div.sk-parallel {display: flex;align-items: stretch;justify-content: center;background-color: white;position: relative;}#sk-container-id-46 div.sk-item::before, #sk-container-id-46 div.sk-parallel-item::before {content: \"\";position: absolute;border-left: 1px solid gray;box-sizing: border-box;top: 0;bottom: 0;left: 50%;z-index: -1;}#sk-container-id-46 div.sk-parallel-item {display: flex;flex-direction: column;z-index: 1;position: relative;background-color: white;}#sk-container-id-46 div.sk-parallel-item:first-child::after {align-self: flex-end;width: 50%;}#sk-container-id-46 div.sk-parallel-item:last-child::after {align-self: flex-start;width: 50%;}#sk-container-id-46 div.sk-parallel-item:only-child::after {width: 0;}#sk-container-id-46 div.sk-dashed-wrapped {border: 1px dashed gray;margin: 0 0.4em 0.5em 0.4em;box-sizing: border-box;padding-bottom: 0.4em;background-color: white;}#sk-container-id-46 div.sk-label label {font-family: monospace;font-weight: bold;display: inline-block;line-height: 1.2em;}#sk-container-id-46 div.sk-label-container {text-align: center;}#sk-container-id-46 div.sk-container {/* jupyter's `normalize.less` sets `[hidden] { display: none; }` but bootstrap.min.css set `[hidden] { display: none !important; }` so we also need the `!important` here to be able to override the default hidden behavior on the sphinx rendered scikit-learn.org. See: https://github.com/scikit-learn/scikit-learn/issues/21755 */display: inline-block !important;position: relative;}#sk-container-id-46 div.sk-text-repr-fallback {display: none;}</style><div id=\"sk-container-id-46\" class=\"sk-top-container\"><div class=\"sk-text-repr-fallback\"><pre>LGBMRegressor(linear_tree=True, objective=&#x27;regression&#x27;)</pre><b>In a Jupyter environment, please rerun this cell to show the HTML representation or trust the notebook. <br />On GitHub, the HTML representation is unable to render, please try loading this page with nbviewer.org.</b></div><div class=\"sk-container\" hidden><div class=\"sk-item\"><div class=\"sk-estimator sk-toggleable\"><input class=\"sk-toggleable__control sk-hidden--visually\" id=\"sk-estimator-id-46\" type=\"checkbox\" checked><label for=\"sk-estimator-id-46\" class=\"sk-toggleable__label sk-toggleable__label-arrow\">LGBMRegressor</label><div class=\"sk-toggleable__content\"><pre>LGBMRegressor(linear_tree=True, objective=&#x27;regression&#x27;)</pre></div></div></div></div></div>"
      ],
      "text/plain": [
       "LGBMRegressor(linear_tree=True, objective='regression')"
      ]
     },
     "execution_count": 821,
     "metadata": {},
     "output_type": "execute_result"
    }
   ],
   "source": [
    "# Train LGBM model\n",
    "model2.fit(X, y)"
   ]
  },
  {
   "cell_type": "code",
   "execution_count": 822,
   "id": "dba0c2fa",
   "metadata": {
    "ExecuteTime": {
     "end_time": "2022-08-14T22:21:43.543393Z",
     "start_time": "2022-08-14T22:21:43.516382Z"
    }
   },
   "outputs": [],
   "source": [
    "y_pred = model2.predict(X)"
   ]
  },
  {
   "cell_type": "code",
   "execution_count": 823,
   "id": "b00ba662",
   "metadata": {
    "ExecuteTime": {
     "end_time": "2022-08-14T22:21:43.574382Z",
     "start_time": "2022-08-14T22:21:43.548383Z"
    },
    "scrolled": true
   },
   "outputs": [
    {
     "data": {
      "text/plain": [
       "array([3.45677203e-06, 1.21063237e-01, 1.51328177e-01, ...,\n",
       "       1.57381160e-01, 1.69487141e-01, 1.81593120e-01])"
      ]
     },
     "execution_count": 823,
     "metadata": {},
     "output_type": "execute_result"
    }
   ],
   "source": [
    "y_pred"
   ]
  },
  {
   "cell_type": "code",
   "execution_count": 824,
   "id": "0d79239a",
   "metadata": {
    "ExecuteTime": {
     "end_time": "2022-08-14T22:21:43.606383Z",
     "start_time": "2022-08-14T22:21:43.579385Z"
    }
   },
   "outputs": [
    {
     "data": {
      "text/html": [
       "<div>\n",
       "<style scoped>\n",
       "    .dataframe tbody tr th:only-of-type {\n",
       "        vertical-align: middle;\n",
       "    }\n",
       "\n",
       "    .dataframe tbody tr th {\n",
       "        vertical-align: top;\n",
       "    }\n",
       "\n",
       "    .dataframe thead th {\n",
       "        text-align: right;\n",
       "    }\n",
       "</style>\n",
       "<table border=\"1\" class=\"dataframe\">\n",
       "  <thead>\n",
       "    <tr style=\"text-align: right;\">\n",
       "      <th></th>\n",
       "      <th>Dev</th>\n",
       "      <th>Loss_pred</th>\n",
       "    </tr>\n",
       "  </thead>\n",
       "  <tbody>\n",
       "    <tr>\n",
       "      <th>0</th>\n",
       "      <td>1</td>\n",
       "      <td>0.000003</td>\n",
       "    </tr>\n",
       "    <tr>\n",
       "      <th>1</th>\n",
       "      <td>2</td>\n",
       "      <td>0.121063</td>\n",
       "    </tr>\n",
       "    <tr>\n",
       "      <th>2</th>\n",
       "      <td>3</td>\n",
       "      <td>0.151328</td>\n",
       "    </tr>\n",
       "    <tr>\n",
       "      <th>3</th>\n",
       "      <td>4</td>\n",
       "      <td>0.157381</td>\n",
       "    </tr>\n",
       "    <tr>\n",
       "      <th>4</th>\n",
       "      <td>5</td>\n",
       "      <td>0.169487</td>\n",
       "    </tr>\n",
       "  </tbody>\n",
       "</table>\n",
       "</div>"
      ],
      "text/plain": [
       "   Dev  Loss_pred\n",
       "0    1   0.000003\n",
       "1    2   0.121063\n",
       "2    3   0.151328\n",
       "3    4   0.157381\n",
       "4    5   0.169487"
      ]
     },
     "execution_count": 824,
     "metadata": {},
     "output_type": "execute_result"
    }
   ],
   "source": [
    "res_df = X.copy(deep=True)\n",
    "res_df['Loss_pred'] = y_pred\n",
    "res_df.head()"
   ]
  },
  {
   "cell_type": "code",
   "execution_count": 825,
   "id": "2b3eac81",
   "metadata": {
    "ExecuteTime": {
     "end_time": "2022-08-14T22:21:43.638390Z",
     "start_time": "2022-08-14T22:21:43.611380Z"
    }
   },
   "outputs": [
    {
     "data": {
      "text/html": [
       "<div>\n",
       "<style scoped>\n",
       "    .dataframe tbody tr th:only-of-type {\n",
       "        vertical-align: middle;\n",
       "    }\n",
       "\n",
       "    .dataframe tbody tr th {\n",
       "        vertical-align: top;\n",
       "    }\n",
       "\n",
       "    .dataframe thead th {\n",
       "        text-align: right;\n",
       "    }\n",
       "</style>\n",
       "<table border=\"1\" class=\"dataframe\">\n",
       "  <thead>\n",
       "    <tr style=\"text-align: right;\">\n",
       "      <th></th>\n",
       "      <th>Loss_pred</th>\n",
       "    </tr>\n",
       "    <tr>\n",
       "      <th>Dev</th>\n",
       "      <th></th>\n",
       "    </tr>\n",
       "  </thead>\n",
       "  <tbody>\n",
       "    <tr>\n",
       "      <th>1</th>\n",
       "      <td>0.000003</td>\n",
       "    </tr>\n",
       "    <tr>\n",
       "      <th>2</th>\n",
       "      <td>0.121063</td>\n",
       "    </tr>\n",
       "    <tr>\n",
       "      <th>3</th>\n",
       "      <td>0.151328</td>\n",
       "    </tr>\n",
       "    <tr>\n",
       "      <th>4</th>\n",
       "      <td>0.157381</td>\n",
       "    </tr>\n",
       "    <tr>\n",
       "      <th>5</th>\n",
       "      <td>0.169487</td>\n",
       "    </tr>\n",
       "    <tr>\n",
       "      <th>6</th>\n",
       "      <td>0.181593</td>\n",
       "    </tr>\n",
       "  </tbody>\n",
       "</table>\n",
       "</div>"
      ],
      "text/plain": [
       "     Loss_pred\n",
       "Dev           \n",
       "1     0.000003\n",
       "2     0.121063\n",
       "3     0.151328\n",
       "4     0.157381\n",
       "5     0.169487\n",
       "6     0.181593"
      ]
     },
     "execution_count": 825,
     "metadata": {},
     "output_type": "execute_result"
    }
   ],
   "source": [
    "res_df.groupby('Dev').mean()"
   ]
  },
  {
   "cell_type": "markdown",
   "id": "fc123f29",
   "metadata": {},
   "source": [
    "### Extrapolation"
   ]
  },
  {
   "cell_type": "code",
   "execution_count": 826,
   "id": "c1638b3b",
   "metadata": {
    "ExecuteTime": {
     "end_time": "2022-08-14T22:21:43.670391Z",
     "start_time": "2022-08-14T22:21:43.646379Z"
    }
   },
   "outputs": [],
   "source": [
    "X_later = pd.DataFrame(np.linspace(1,10,10),columns=['Dev'])\n",
    "\n",
    "res2_df = X_later.copy(deep=True)\n",
    "\n",
    "res2_df[\"Loss_pred\"] = model2.predict(X_later)\n"
   ]
  },
  {
   "cell_type": "code",
   "execution_count": 827,
   "id": "f5e6faed",
   "metadata": {
    "ExecuteTime": {
     "end_time": "2022-08-14T22:21:43.702380Z",
     "start_time": "2022-08-14T22:21:43.676383Z"
    },
    "scrolled": true
   },
   "outputs": [
    {
     "data": {
      "text/html": [
       "<div>\n",
       "<style scoped>\n",
       "    .dataframe tbody tr th:only-of-type {\n",
       "        vertical-align: middle;\n",
       "    }\n",
       "\n",
       "    .dataframe tbody tr th {\n",
       "        vertical-align: top;\n",
       "    }\n",
       "\n",
       "    .dataframe thead th {\n",
       "        text-align: right;\n",
       "    }\n",
       "</style>\n",
       "<table border=\"1\" class=\"dataframe\">\n",
       "  <thead>\n",
       "    <tr style=\"text-align: right;\">\n",
       "      <th></th>\n",
       "      <th>Dev</th>\n",
       "      <th>Loss_pred</th>\n",
       "    </tr>\n",
       "  </thead>\n",
       "  <tbody>\n",
       "    <tr>\n",
       "      <th>0</th>\n",
       "      <td>1.0</td>\n",
       "      <td>0.000003</td>\n",
       "    </tr>\n",
       "    <tr>\n",
       "      <th>1</th>\n",
       "      <td>2.0</td>\n",
       "      <td>0.121063</td>\n",
       "    </tr>\n",
       "    <tr>\n",
       "      <th>2</th>\n",
       "      <td>3.0</td>\n",
       "      <td>0.151328</td>\n",
       "    </tr>\n",
       "    <tr>\n",
       "      <th>3</th>\n",
       "      <td>4.0</td>\n",
       "      <td>0.157381</td>\n",
       "    </tr>\n",
       "    <tr>\n",
       "      <th>4</th>\n",
       "      <td>5.0</td>\n",
       "      <td>0.169487</td>\n",
       "    </tr>\n",
       "    <tr>\n",
       "      <th>5</th>\n",
       "      <td>6.0</td>\n",
       "      <td>0.181593</td>\n",
       "    </tr>\n",
       "    <tr>\n",
       "      <th>6</th>\n",
       "      <td>7.0</td>\n",
       "      <td>0.189311</td>\n",
       "    </tr>\n",
       "    <tr>\n",
       "      <th>7</th>\n",
       "      <td>8.0</td>\n",
       "      <td>0.197028</td>\n",
       "    </tr>\n",
       "    <tr>\n",
       "      <th>8</th>\n",
       "      <td>9.0</td>\n",
       "      <td>0.204746</td>\n",
       "    </tr>\n",
       "    <tr>\n",
       "      <th>9</th>\n",
       "      <td>10.0</td>\n",
       "      <td>0.212463</td>\n",
       "    </tr>\n",
       "  </tbody>\n",
       "</table>\n",
       "</div>"
      ],
      "text/plain": [
       "    Dev  Loss_pred\n",
       "0   1.0   0.000003\n",
       "1   2.0   0.121063\n",
       "2   3.0   0.151328\n",
       "3   4.0   0.157381\n",
       "4   5.0   0.169487\n",
       "5   6.0   0.181593\n",
       "6   7.0   0.189311\n",
       "7   8.0   0.197028\n",
       "8   9.0   0.204746\n",
       "9  10.0   0.212463"
      ]
     },
     "execution_count": 827,
     "metadata": {},
     "output_type": "execute_result"
    }
   ],
   "source": [
    "res2_df"
   ]
  },
  {
   "cell_type": "markdown",
   "id": "ad73bb3a",
   "metadata": {},
   "source": [
    "**Successful extrapolation**"
   ]
  },
  {
   "cell_type": "code",
   "execution_count": 828,
   "id": "f7d3a037",
   "metadata": {
    "ExecuteTime": {
     "end_time": "2022-08-14T22:21:43.924378Z",
     "start_time": "2022-08-14T22:21:43.706381Z"
    }
   },
   "outputs": [
    {
     "data": {
      "text/plain": [
       "[<matplotlib.lines.Line2D at 0x186f14865e0>]"
      ]
     },
     "execution_count": 828,
     "metadata": {},
     "output_type": "execute_result"
    },
    {
     "data": {
      "image/png": "[encoded data removed]",
      "text/plain": [
       "<Figure size 432x288 with 1 Axes>"
      ]
     },
     "metadata": {
      "needs_background": "light"
     },
     "output_type": "display_data"
    }
   ],
   "source": [
    "plt.plot(res2_df['Dev'],res2_df['Loss_pred'])"
   ]
  },
  {
   "cell_type": "markdown",
   "id": "06d8765f",
   "metadata": {},
   "source": [
    "## Train Test Split w AY"
   ]
  },
  {
   "cell_type": "code",
   "execution_count": 829,
   "id": "9c856496",
   "metadata": {
    "ExecuteTime": {
     "end_time": "2022-08-14T22:21:43.956385Z",
     "start_time": "2022-08-14T22:21:43.926380Z"
    },
    "scrolled": true
   },
   "outputs": [
    {
     "data": {
      "text/html": [
       "<div>\n",
       "<style scoped>\n",
       "    .dataframe tbody tr th:only-of-type {\n",
       "        vertical-align: middle;\n",
       "    }\n",
       "\n",
       "    .dataframe tbody tr th {\n",
       "        vertical-align: top;\n",
       "    }\n",
       "\n",
       "    .dataframe thead th {\n",
       "        text-align: right;\n",
       "    }\n",
       "</style>\n",
       "<table border=\"1\" class=\"dataframe\">\n",
       "  <thead>\n",
       "    <tr style=\"text-align: right;\">\n",
       "      <th></th>\n",
       "      <th>Record</th>\n",
       "      <th>Loss</th>\n",
       "      <th>Dev</th>\n",
       "      <th>AY</th>\n",
       "      <th>EvalYr</th>\n",
       "    </tr>\n",
       "  </thead>\n",
       "  <tbody>\n",
       "    <tr>\n",
       "      <th>0</th>\n",
       "      <td>1</td>\n",
       "      <td>0.0000</td>\n",
       "      <td>1</td>\n",
       "      <td>2000</td>\n",
       "      <td>2001</td>\n",
       "    </tr>\n",
       "    <tr>\n",
       "      <th>1</th>\n",
       "      <td>1</td>\n",
       "      <td>1.7500</td>\n",
       "      <td>2</td>\n",
       "      <td>2000</td>\n",
       "      <td>2002</td>\n",
       "    </tr>\n",
       "    <tr>\n",
       "      <th>2</th>\n",
       "      <td>1</td>\n",
       "      <td>2.1875</td>\n",
       "      <td>3</td>\n",
       "      <td>2000</td>\n",
       "      <td>2003</td>\n",
       "    </tr>\n",
       "    <tr>\n",
       "      <th>3</th>\n",
       "      <td>1</td>\n",
       "      <td>2.2750</td>\n",
       "      <td>4</td>\n",
       "      <td>2000</td>\n",
       "      <td>2004</td>\n",
       "    </tr>\n",
       "    <tr>\n",
       "      <th>4</th>\n",
       "      <td>1</td>\n",
       "      <td>2.4500</td>\n",
       "      <td>5</td>\n",
       "      <td>2000</td>\n",
       "      <td>2005</td>\n",
       "    </tr>\n",
       "    <tr>\n",
       "      <th>...</th>\n",
       "      <td>...</td>\n",
       "      <td>...</td>\n",
       "      <td>...</td>\n",
       "      <td>...</td>\n",
       "      <td>...</td>\n",
       "    </tr>\n",
       "    <tr>\n",
       "      <th>1519</th>\n",
       "      <td>254</td>\n",
       "      <td>8.0000</td>\n",
       "      <td>2</td>\n",
       "      <td>2003</td>\n",
       "      <td>2005</td>\n",
       "    </tr>\n",
       "    <tr>\n",
       "      <th>1520</th>\n",
       "      <td>254</td>\n",
       "      <td>10.0000</td>\n",
       "      <td>3</td>\n",
       "      <td>2003</td>\n",
       "      <td>2006</td>\n",
       "    </tr>\n",
       "    <tr>\n",
       "      <th>1521</th>\n",
       "      <td>254</td>\n",
       "      <td>10.4000</td>\n",
       "      <td>4</td>\n",
       "      <td>2003</td>\n",
       "      <td>2007</td>\n",
       "    </tr>\n",
       "    <tr>\n",
       "      <th>1522</th>\n",
       "      <td>254</td>\n",
       "      <td>11.2000</td>\n",
       "      <td>5</td>\n",
       "      <td>2003</td>\n",
       "      <td>2008</td>\n",
       "    </tr>\n",
       "    <tr>\n",
       "      <th>1523</th>\n",
       "      <td>254</td>\n",
       "      <td>12.0000</td>\n",
       "      <td>6</td>\n",
       "      <td>2003</td>\n",
       "      <td>2009</td>\n",
       "    </tr>\n",
       "  </tbody>\n",
       "</table>\n",
       "<p>1524 rows × 5 columns</p>\n",
       "</div>"
      ],
      "text/plain": [
       "      Record     Loss  Dev    AY  EvalYr\n",
       "0          1   0.0000    1  2000    2001\n",
       "1          1   1.7500    2  2000    2002\n",
       "2          1   2.1875    3  2000    2003\n",
       "3          1   2.2750    4  2000    2004\n",
       "4          1   2.4500    5  2000    2005\n",
       "...      ...      ...  ...   ...     ...\n",
       "1519     254   8.0000    2  2003    2005\n",
       "1520     254  10.0000    3  2003    2006\n",
       "1521     254  10.4000    4  2003    2007\n",
       "1522     254  11.2000    5  2003    2008\n",
       "1523     254  12.0000    6  2003    2009\n",
       "\n",
       "[1524 rows x 5 columns]"
      ]
     },
     "execution_count": 829,
     "metadata": {},
     "output_type": "execute_result"
    }
   ],
   "source": [
    "df"
   ]
  },
  {
   "cell_type": "code",
   "execution_count": 830,
   "id": "78b14ebd",
   "metadata": {
    "ExecuteTime": {
     "end_time": "2022-08-14T22:21:43.988382Z",
     "start_time": "2022-08-14T22:21:43.964386Z"
    }
   },
   "outputs": [
    {
     "name": "stdout",
     "output_type": "stream",
     "text": [
      "2003\n"
     ]
    }
   ],
   "source": [
    "split_yr =  df[\"AY\"].unique()[-1] # use last as test\n",
    "print(split_yr)\n",
    "train_mask = df[\"AY\"] < split_yr"
   ]
  },
  {
   "cell_type": "code",
   "execution_count": 831,
   "id": "a539ae89",
   "metadata": {
    "ExecuteTime": {
     "end_time": "2022-08-14T22:21:44.004383Z",
     "start_time": "2022-08-14T22:21:43.991379Z"
    }
   },
   "outputs": [],
   "source": [
    "train_df = df.loc[train_mask,:]\n",
    "test_df = df.loc[~train_mask,:]"
   ]
  },
  {
   "cell_type": "code",
   "execution_count": 832,
   "id": "9832bfb7",
   "metadata": {
    "ExecuteTime": {
     "end_time": "2022-08-14T22:21:44.036383Z",
     "start_time": "2022-08-14T22:21:44.012386Z"
    },
    "scrolled": false
   },
   "outputs": [
    {
     "data": {
      "text/html": [
       "<div>\n",
       "<style scoped>\n",
       "    .dataframe tbody tr th:only-of-type {\n",
       "        vertical-align: middle;\n",
       "    }\n",
       "\n",
       "    .dataframe tbody tr th {\n",
       "        vertical-align: top;\n",
       "    }\n",
       "\n",
       "    .dataframe thead th {\n",
       "        text-align: right;\n",
       "    }\n",
       "</style>\n",
       "<table border=\"1\" class=\"dataframe\">\n",
       "  <thead>\n",
       "    <tr style=\"text-align: right;\">\n",
       "      <th></th>\n",
       "      <th>Record</th>\n",
       "      <th>Loss</th>\n",
       "      <th>AY</th>\n",
       "      <th>EvalYr</th>\n",
       "    </tr>\n",
       "    <tr>\n",
       "      <th>Dev</th>\n",
       "      <th></th>\n",
       "      <th></th>\n",
       "      <th></th>\n",
       "      <th></th>\n",
       "    </tr>\n",
       "  </thead>\n",
       "  <tbody>\n",
       "    <tr>\n",
       "      <th>1</th>\n",
       "      <td>94.5</td>\n",
       "      <td>0.000000</td>\n",
       "      <td>2001.053191</td>\n",
       "      <td>2002.053191</td>\n",
       "    </tr>\n",
       "    <tr>\n",
       "      <th>2</th>\n",
       "      <td>94.5</td>\n",
       "      <td>0.094415</td>\n",
       "      <td>2001.053191</td>\n",
       "      <td>2003.053191</td>\n",
       "    </tr>\n",
       "    <tr>\n",
       "      <th>3</th>\n",
       "      <td>94.5</td>\n",
       "      <td>0.118019</td>\n",
       "      <td>2001.053191</td>\n",
       "      <td>2004.053191</td>\n",
       "    </tr>\n",
       "    <tr>\n",
       "      <th>4</th>\n",
       "      <td>94.5</td>\n",
       "      <td>0.122739</td>\n",
       "      <td>2001.053191</td>\n",
       "      <td>2005.053191</td>\n",
       "    </tr>\n",
       "    <tr>\n",
       "      <th>5</th>\n",
       "      <td>94.5</td>\n",
       "      <td>0.132181</td>\n",
       "      <td>2001.053191</td>\n",
       "      <td>2006.053191</td>\n",
       "    </tr>\n",
       "    <tr>\n",
       "      <th>6</th>\n",
       "      <td>94.5</td>\n",
       "      <td>0.141622</td>\n",
       "      <td>2001.053191</td>\n",
       "      <td>2007.053191</td>\n",
       "    </tr>\n",
       "  </tbody>\n",
       "</table>\n",
       "</div>"
      ],
      "text/plain": [
       "     Record      Loss           AY       EvalYr\n",
       "Dev                                            \n",
       "1      94.5  0.000000  2001.053191  2002.053191\n",
       "2      94.5  0.094415  2001.053191  2003.053191\n",
       "3      94.5  0.118019  2001.053191  2004.053191\n",
       "4      94.5  0.122739  2001.053191  2005.053191\n",
       "5      94.5  0.132181  2001.053191  2006.053191\n",
       "6      94.5  0.141622  2001.053191  2007.053191"
      ]
     },
     "execution_count": 832,
     "metadata": {},
     "output_type": "execute_result"
    }
   ],
   "source": [
    "train_df.groupby(\"Dev\").mean()"
   ]
  },
  {
   "cell_type": "code",
   "execution_count": 833,
   "id": "c0b0fea6",
   "metadata": {
    "ExecuteTime": {
     "end_time": "2022-08-14T22:21:44.083388Z",
     "start_time": "2022-08-14T22:21:44.041385Z"
    },
    "scrolled": true
   },
   "outputs": [
    {
     "data": {
      "text/html": [
       "<div>\n",
       "<style scoped>\n",
       "    .dataframe tbody tr th:only-of-type {\n",
       "        vertical-align: middle;\n",
       "    }\n",
       "\n",
       "    .dataframe tbody tr th {\n",
       "        vertical-align: top;\n",
       "    }\n",
       "\n",
       "    .dataframe thead th {\n",
       "        text-align: right;\n",
       "    }\n",
       "</style>\n",
       "<table border=\"1\" class=\"dataframe\">\n",
       "  <thead>\n",
       "    <tr style=\"text-align: right;\">\n",
       "      <th></th>\n",
       "      <th>Record</th>\n",
       "      <th>Loss</th>\n",
       "      <th>AY</th>\n",
       "      <th>EvalYr</th>\n",
       "    </tr>\n",
       "    <tr>\n",
       "      <th>Dev</th>\n",
       "      <th></th>\n",
       "      <th></th>\n",
       "      <th></th>\n",
       "      <th></th>\n",
       "    </tr>\n",
       "  </thead>\n",
       "  <tbody>\n",
       "    <tr>\n",
       "      <th>1</th>\n",
       "      <td>221.5</td>\n",
       "      <td>0.000000</td>\n",
       "      <td>2003.0</td>\n",
       "      <td>2004.0</td>\n",
       "    </tr>\n",
       "    <tr>\n",
       "      <th>2</th>\n",
       "      <td>221.5</td>\n",
       "      <td>0.196970</td>\n",
       "      <td>2003.0</td>\n",
       "      <td>2005.0</td>\n",
       "    </tr>\n",
       "    <tr>\n",
       "      <th>3</th>\n",
       "      <td>221.5</td>\n",
       "      <td>0.246212</td>\n",
       "      <td>2003.0</td>\n",
       "      <td>2006.0</td>\n",
       "    </tr>\n",
       "    <tr>\n",
       "      <th>4</th>\n",
       "      <td>221.5</td>\n",
       "      <td>0.256061</td>\n",
       "      <td>2003.0</td>\n",
       "      <td>2007.0</td>\n",
       "    </tr>\n",
       "    <tr>\n",
       "      <th>5</th>\n",
       "      <td>221.5</td>\n",
       "      <td>0.275758</td>\n",
       "      <td>2003.0</td>\n",
       "      <td>2008.0</td>\n",
       "    </tr>\n",
       "    <tr>\n",
       "      <th>6</th>\n",
       "      <td>221.5</td>\n",
       "      <td>0.295455</td>\n",
       "      <td>2003.0</td>\n",
       "      <td>2009.0</td>\n",
       "    </tr>\n",
       "  </tbody>\n",
       "</table>\n",
       "</div>"
      ],
      "text/plain": [
       "     Record      Loss      AY  EvalYr\n",
       "Dev                                  \n",
       "1     221.5  0.000000  2003.0  2004.0\n",
       "2     221.5  0.196970  2003.0  2005.0\n",
       "3     221.5  0.246212  2003.0  2006.0\n",
       "4     221.5  0.256061  2003.0  2007.0\n",
       "5     221.5  0.275758  2003.0  2008.0\n",
       "6     221.5  0.295455  2003.0  2009.0"
      ]
     },
     "execution_count": 833,
     "metadata": {},
     "output_type": "execute_result"
    }
   ],
   "source": [
    "test_df.groupby(\"Dev\").mean()"
   ]
  },
  {
   "cell_type": "markdown",
   "id": "08d4929c",
   "metadata": {},
   "source": [
    "## Split with EvalYr"
   ]
  },
  {
   "cell_type": "code",
   "execution_count": 834,
   "id": "f8a30e82",
   "metadata": {
    "ExecuteTime": {
     "end_time": "2022-08-14T22:21:44.130387Z",
     "start_time": "2022-08-14T22:21:44.092380Z"
    }
   },
   "outputs": [
    {
     "data": {
      "text/html": [
       "<div>\n",
       "<style scoped>\n",
       "    .dataframe tbody tr th:only-of-type {\n",
       "        vertical-align: middle;\n",
       "    }\n",
       "\n",
       "    .dataframe tbody tr th {\n",
       "        vertical-align: top;\n",
       "    }\n",
       "\n",
       "    .dataframe thead th {\n",
       "        text-align: right;\n",
       "    }\n",
       "</style>\n",
       "<table border=\"1\" class=\"dataframe\">\n",
       "  <thead>\n",
       "    <tr style=\"text-align: right;\">\n",
       "      <th></th>\n",
       "      <th>Record</th>\n",
       "      <th>Loss</th>\n",
       "      <th>Dev</th>\n",
       "      <th>AY</th>\n",
       "      <th>EvalYr</th>\n",
       "    </tr>\n",
       "  </thead>\n",
       "  <tbody>\n",
       "    <tr>\n",
       "      <th>0</th>\n",
       "      <td>1</td>\n",
       "      <td>0.0000</td>\n",
       "      <td>1</td>\n",
       "      <td>2000</td>\n",
       "      <td>2001</td>\n",
       "    </tr>\n",
       "    <tr>\n",
       "      <th>1</th>\n",
       "      <td>1</td>\n",
       "      <td>1.7500</td>\n",
       "      <td>2</td>\n",
       "      <td>2000</td>\n",
       "      <td>2002</td>\n",
       "    </tr>\n",
       "    <tr>\n",
       "      <th>2</th>\n",
       "      <td>1</td>\n",
       "      <td>2.1875</td>\n",
       "      <td>3</td>\n",
       "      <td>2000</td>\n",
       "      <td>2003</td>\n",
       "    </tr>\n",
       "    <tr>\n",
       "      <th>3</th>\n",
       "      <td>1</td>\n",
       "      <td>2.2750</td>\n",
       "      <td>4</td>\n",
       "      <td>2000</td>\n",
       "      <td>2004</td>\n",
       "    </tr>\n",
       "    <tr>\n",
       "      <th>4</th>\n",
       "      <td>1</td>\n",
       "      <td>2.4500</td>\n",
       "      <td>5</td>\n",
       "      <td>2000</td>\n",
       "      <td>2005</td>\n",
       "    </tr>\n",
       "    <tr>\n",
       "      <th>...</th>\n",
       "      <td>...</td>\n",
       "      <td>...</td>\n",
       "      <td>...</td>\n",
       "      <td>...</td>\n",
       "      <td>...</td>\n",
       "    </tr>\n",
       "    <tr>\n",
       "      <th>1519</th>\n",
       "      <td>254</td>\n",
       "      <td>8.0000</td>\n",
       "      <td>2</td>\n",
       "      <td>2003</td>\n",
       "      <td>2005</td>\n",
       "    </tr>\n",
       "    <tr>\n",
       "      <th>1520</th>\n",
       "      <td>254</td>\n",
       "      <td>10.0000</td>\n",
       "      <td>3</td>\n",
       "      <td>2003</td>\n",
       "      <td>2006</td>\n",
       "    </tr>\n",
       "    <tr>\n",
       "      <th>1521</th>\n",
       "      <td>254</td>\n",
       "      <td>10.4000</td>\n",
       "      <td>4</td>\n",
       "      <td>2003</td>\n",
       "      <td>2007</td>\n",
       "    </tr>\n",
       "    <tr>\n",
       "      <th>1522</th>\n",
       "      <td>254</td>\n",
       "      <td>11.2000</td>\n",
       "      <td>5</td>\n",
       "      <td>2003</td>\n",
       "      <td>2008</td>\n",
       "    </tr>\n",
       "    <tr>\n",
       "      <th>1523</th>\n",
       "      <td>254</td>\n",
       "      <td>12.0000</td>\n",
       "      <td>6</td>\n",
       "      <td>2003</td>\n",
       "      <td>2009</td>\n",
       "    </tr>\n",
       "  </tbody>\n",
       "</table>\n",
       "<p>1524 rows × 5 columns</p>\n",
       "</div>"
      ],
      "text/plain": [
       "      Record     Loss  Dev    AY  EvalYr\n",
       "0          1   0.0000    1  2000    2001\n",
       "1          1   1.7500    2  2000    2002\n",
       "2          1   2.1875    3  2000    2003\n",
       "3          1   2.2750    4  2000    2004\n",
       "4          1   2.4500    5  2000    2005\n",
       "...      ...      ...  ...   ...     ...\n",
       "1519     254   8.0000    2  2003    2005\n",
       "1520     254  10.0000    3  2003    2006\n",
       "1521     254  10.4000    4  2003    2007\n",
       "1522     254  11.2000    5  2003    2008\n",
       "1523     254  12.0000    6  2003    2009\n",
       "\n",
       "[1524 rows x 5 columns]"
      ]
     },
     "execution_count": 834,
     "metadata": {},
     "output_type": "execute_result"
    }
   ],
   "source": [
    "df"
   ]
  },
  {
   "cell_type": "code",
   "execution_count": 835,
   "id": "06ec112a",
   "metadata": {
    "ExecuteTime": {
     "end_time": "2022-08-14T22:21:44.162379Z",
     "start_time": "2022-08-14T22:21:44.137389Z"
    }
   },
   "outputs": [
    {
     "name": "stdout",
     "output_type": "stream",
     "text": [
      "2009\n"
     ]
    }
   ],
   "source": [
    "split_yr =  df[\"EvalYr\"].unique()[-1] # use last as test\n",
    "print(split_yr)\n",
    "train_mask = df[\"EvalYr\"] < split_yr"
   ]
  },
  {
   "cell_type": "code",
   "execution_count": 836,
   "id": "305bed26",
   "metadata": {
    "ExecuteTime": {
     "end_time": "2022-08-14T22:21:44.178379Z",
     "start_time": "2022-08-14T22:21:44.165380Z"
    }
   },
   "outputs": [],
   "source": [
    "train_df = df.loc[train_mask,:]\n",
    "test_df = df.loc[~train_mask,:]"
   ]
  },
  {
   "cell_type": "code",
   "execution_count": 837,
   "id": "b9a5b2b8",
   "metadata": {
    "ExecuteTime": {
     "end_time": "2022-08-14T22:21:44.226381Z",
     "start_time": "2022-08-14T22:21:44.183385Z"
    },
    "scrolled": false
   },
   "outputs": [
    {
     "data": {
      "text/html": [
       "<div>\n",
       "<style scoped>\n",
       "    .dataframe tbody tr th:only-of-type {\n",
       "        vertical-align: middle;\n",
       "    }\n",
       "\n",
       "    .dataframe tbody tr th {\n",
       "        vertical-align: top;\n",
       "    }\n",
       "\n",
       "    .dataframe thead th {\n",
       "        text-align: right;\n",
       "    }\n",
       "</style>\n",
       "<table border=\"1\" class=\"dataframe\">\n",
       "  <thead>\n",
       "    <tr style=\"text-align: right;\">\n",
       "      <th></th>\n",
       "      <th>Record</th>\n",
       "      <th>Loss</th>\n",
       "      <th>AY</th>\n",
       "      <th>EvalYr</th>\n",
       "    </tr>\n",
       "    <tr>\n",
       "      <th>Dev</th>\n",
       "      <th></th>\n",
       "      <th></th>\n",
       "      <th></th>\n",
       "      <th></th>\n",
       "    </tr>\n",
       "  </thead>\n",
       "  <tbody>\n",
       "    <tr>\n",
       "      <th>1</th>\n",
       "      <td>127.5</td>\n",
       "      <td>0.000000</td>\n",
       "      <td>2001.559055</td>\n",
       "      <td>2002.559055</td>\n",
       "    </tr>\n",
       "    <tr>\n",
       "      <th>2</th>\n",
       "      <td>127.5</td>\n",
       "      <td>0.121063</td>\n",
       "      <td>2001.559055</td>\n",
       "      <td>2003.559055</td>\n",
       "    </tr>\n",
       "    <tr>\n",
       "      <th>3</th>\n",
       "      <td>127.5</td>\n",
       "      <td>0.151329</td>\n",
       "      <td>2001.559055</td>\n",
       "      <td>2004.559055</td>\n",
       "    </tr>\n",
       "    <tr>\n",
       "      <th>4</th>\n",
       "      <td>127.5</td>\n",
       "      <td>0.157382</td>\n",
       "      <td>2001.559055</td>\n",
       "      <td>2005.559055</td>\n",
       "    </tr>\n",
       "    <tr>\n",
       "      <th>5</th>\n",
       "      <td>127.5</td>\n",
       "      <td>0.169488</td>\n",
       "      <td>2001.559055</td>\n",
       "      <td>2006.559055</td>\n",
       "    </tr>\n",
       "    <tr>\n",
       "      <th>6</th>\n",
       "      <td>94.5</td>\n",
       "      <td>0.141622</td>\n",
       "      <td>2001.053191</td>\n",
       "      <td>2007.053191</td>\n",
       "    </tr>\n",
       "  </tbody>\n",
       "</table>\n",
       "</div>"
      ],
      "text/plain": [
       "     Record      Loss           AY       EvalYr\n",
       "Dev                                            \n",
       "1     127.5  0.000000  2001.559055  2002.559055\n",
       "2     127.5  0.121063  2001.559055  2003.559055\n",
       "3     127.5  0.151329  2001.559055  2004.559055\n",
       "4     127.5  0.157382  2001.559055  2005.559055\n",
       "5     127.5  0.169488  2001.559055  2006.559055\n",
       "6      94.5  0.141622  2001.053191  2007.053191"
      ]
     },
     "execution_count": 837,
     "metadata": {},
     "output_type": "execute_result"
    }
   ],
   "source": [
    "train_df.groupby(\"Dev\").mean()"
   ]
  },
  {
   "cell_type": "code",
   "execution_count": 838,
   "id": "d8d7aa04",
   "metadata": {
    "ExecuteTime": {
     "end_time": "2022-08-14T22:21:44.273388Z",
     "start_time": "2022-08-14T22:21:44.249384Z"
    },
    "scrolled": true
   },
   "outputs": [
    {
     "data": {
      "text/html": [
       "<div>\n",
       "<style scoped>\n",
       "    .dataframe tbody tr th:only-of-type {\n",
       "        vertical-align: middle;\n",
       "    }\n",
       "\n",
       "    .dataframe tbody tr th {\n",
       "        vertical-align: top;\n",
       "    }\n",
       "\n",
       "    .dataframe thead th {\n",
       "        text-align: right;\n",
       "    }\n",
       "</style>\n",
       "<table border=\"1\" class=\"dataframe\">\n",
       "  <thead>\n",
       "    <tr style=\"text-align: right;\">\n",
       "      <th></th>\n",
       "      <th>Record</th>\n",
       "      <th>Loss</th>\n",
       "      <th>AY</th>\n",
       "      <th>EvalYr</th>\n",
       "    </tr>\n",
       "    <tr>\n",
       "      <th>Dev</th>\n",
       "      <th></th>\n",
       "      <th></th>\n",
       "      <th></th>\n",
       "      <th></th>\n",
       "    </tr>\n",
       "  </thead>\n",
       "  <tbody>\n",
       "    <tr>\n",
       "      <th>6</th>\n",
       "      <td>221.5</td>\n",
       "      <td>0.295455</td>\n",
       "      <td>2003.0</td>\n",
       "      <td>2009.0</td>\n",
       "    </tr>\n",
       "  </tbody>\n",
       "</table>\n",
       "</div>"
      ],
      "text/plain": [
       "     Record      Loss      AY  EvalYr\n",
       "Dev                                  \n",
       "6     221.5  0.295455  2003.0  2009.0"
      ]
     },
     "execution_count": 838,
     "metadata": {},
     "output_type": "execute_result"
    }
   ],
   "source": [
    "test_df.groupby(\"Dev\").mean()"
   ]
  },
  {
   "cell_type": "markdown",
   "id": "8089e372",
   "metadata": {},
   "source": [
    "### remodel w 2 valid yrs"
   ]
  },
  {
   "cell_type": "code",
   "execution_count": 839,
   "id": "edbff4cf",
   "metadata": {
    "ExecuteTime": {
     "end_time": "2022-08-14T22:21:44.305378Z",
     "start_time": "2022-08-14T22:21:44.279386Z"
    }
   },
   "outputs": [],
   "source": [
    "# test\n",
    "X = train_df.loc[:,[\"Dev\",\"AY\"]]\n",
    "y = train_df.loc[:,[\"Loss\"]]"
   ]
  },
  {
   "cell_type": "code",
   "execution_count": 840,
   "id": "a1253dae",
   "metadata": {
    "ExecuteTime": {
     "end_time": "2022-08-14T22:21:44.337381Z",
     "start_time": "2022-08-14T22:21:44.314384Z"
    }
   },
   "outputs": [],
   "source": [
    "X_valid = train_df.loc[train_df[\"EvalYr\"] >= (split_yr -2) ,[\"Dev\",\"AY\"]]\n",
    "y_valid = train_df.loc[train_df[\"EvalYr\"] >= (split_yr -2),[\"Loss\"]]"
   ]
  },
  {
   "cell_type": "code",
   "execution_count": 841,
   "id": "26858dbc",
   "metadata": {
    "ExecuteTime": {
     "end_time": "2022-08-14T22:21:44.353383Z",
     "start_time": "2022-08-14T22:21:44.340379Z"
    }
   },
   "outputs": [],
   "source": [
    "# Create an LGBM model\n",
    "params = {\n",
    "    'boosting_type': 'gbdt', # reduce overfitting\n",
    "    'objective': 'tweedie', #imbalanced dataset\n",
    "    'linear_tree': True, #for forecasting\n",
    "#     'lambda_l1 ': 0.2, \n",
    "    'max_depth': 2, # reduce interactions\n",
    "    'learning_rate':0.01, # reduce extrapolation variance by keep low?\n",
    "    'num_iterations':10000, # but learn for a long time\n",
    "    'early_stopping_round': 30, # as long as there is improvemetn\n",
    "    'random_state': 42,\n",
    "    \n",
    "}\n",
    "model = LGBMRegressor(**params)"
   ]
  },
  {
   "cell_type": "code",
   "execution_count": 842,
   "id": "76fe96d5",
   "metadata": {
    "ExecuteTime": {
     "end_time": "2022-08-14T22:21:44.887570Z",
     "start_time": "2022-08-14T22:21:44.358381Z"
    },
    "scrolled": true
   },
   "outputs": [
    {
     "name": "stderr",
     "output_type": "stream",
     "text": [
      "C:\\Users\\SW\\.virtualenvs\\casestudy1-meauSkPt\\lib\\site-packages\\lightgbm\\engine.py:177: UserWarning: Found `num_iterations` in params. Will use it instead of argument\n",
      "  _log_warning(f\"Found `{alias}` in params. Will use it instead of argument\")\n"
     ]
    },
    {
     "name": "stdout",
     "output_type": "stream",
     "text": [
      "[1]\tvalid_0's tweedie: 1.91401\n",
      "[2]\tvalid_0's tweedie: 1.91261\n",
      "[3]\tvalid_0's tweedie: 1.91121\n",
      "[4]\tvalid_0's tweedie: 1.90989\n",
      "[5]\tvalid_0's tweedie: 1.90855\n",
      "[6]\tvalid_0's tweedie: 1.90728\n",
      "[7]\tvalid_0's tweedie: 1.90617\n",
      "[8]\tvalid_0's tweedie: 1.90472\n",
      "[9]\tvalid_0's tweedie: 1.9035\n",
      "[10]\tvalid_0's tweedie: 1.90229\n",
      "[11]\tvalid_0's tweedie: 1.90111\n",
      "[12]\tvalid_0's tweedie: 1.89995\n",
      "[13]\tvalid_0's tweedie: 1.899\n",
      "[14]\tvalid_0's tweedie: 1.89799\n",
      "[15]\tvalid_0's tweedie: 1.89694\n",
      "[16]\tvalid_0's tweedie: 1.89601\n",
      "[17]\tvalid_0's tweedie: 1.89491\n",
      "[18]\tvalid_0's tweedie: 1.89418\n",
      "[19]\tvalid_0's tweedie: 1.89319\n",
      "[20]\tvalid_0's tweedie: 1.89218\n",
      "[21]\tvalid_0's tweedie: 1.8915\n",
      "[22]\tvalid_0's tweedie: 1.89056\n",
      "[23]\tvalid_0's tweedie: 1.88963\n",
      "[24]\tvalid_0's tweedie: 1.88878\n",
      "[25]\tvalid_0's tweedie: 1.88791\n",
      "[26]\tvalid_0's tweedie: 1.88668\n",
      "[27]\tvalid_0's tweedie: 1.88594\n",
      "[28]\tvalid_0's tweedie: 1.88634\n",
      "[29]\tvalid_0's tweedie: 1.88555\n",
      "[30]\tvalid_0's tweedie: 1.88468\n",
      "[31]\tvalid_0's tweedie: 1.88374\n",
      "[32]\tvalid_0's tweedie: 1.88291\n",
      "[33]\tvalid_0's tweedie: 1.88218\n",
      "[34]\tvalid_0's tweedie: 1.88141\n",
      "[35]\tvalid_0's tweedie: 1.88096\n",
      "[36]\tvalid_0's tweedie: 1.88021\n",
      "[37]\tvalid_0's tweedie: 1.87946\n",
      "[38]\tvalid_0's tweedie: 1.87874\n",
      "[39]\tvalid_0's tweedie: 1.87797\n",
      "[40]\tvalid_0's tweedie: 1.87756\n",
      "[41]\tvalid_0's tweedie: 1.87691\n",
      "[42]\tvalid_0's tweedie: 1.87656\n",
      "[43]\tvalid_0's tweedie: 1.87589\n",
      "[44]\tvalid_0's tweedie: 1.87519\n",
      "[45]\tvalid_0's tweedie: 1.87453\n",
      "[46]\tvalid_0's tweedie: 1.87389\n",
      "[47]\tvalid_0's tweedie: 1.87323\n",
      "[48]\tvalid_0's tweedie: 1.87257\n",
      "[49]\tvalid_0's tweedie: 1.87237\n",
      "[50]\tvalid_0's tweedie: 1.87178\n",
      "[51]\tvalid_0's tweedie: 1.8712\n",
      "[52]\tvalid_0's tweedie: 1.87065\n",
      "[53]\tvalid_0's tweedie: 1.87011\n",
      "[54]\tvalid_0's tweedie: 1.86965\n",
      "[55]\tvalid_0's tweedie: 1.86908\n",
      "[56]\tvalid_0's tweedie: 1.86892\n",
      "[57]\tvalid_0's tweedie: 1.86837\n",
      "[58]\tvalid_0's tweedie: 1.86785\n",
      "[59]\tvalid_0's tweedie: 1.86753\n",
      "[60]\tvalid_0's tweedie: 1.86703\n",
      "[61]\tvalid_0's tweedie: 1.86633\n",
      "[62]\tvalid_0's tweedie: 1.86661\n",
      "[63]\tvalid_0's tweedie: 1.86604\n",
      "[64]\tvalid_0's tweedie: 1.86553\n",
      "[65]\tvalid_0's tweedie: 1.86494\n",
      "[66]\tvalid_0's tweedie: 1.86442\n",
      "[67]\tvalid_0's tweedie: 1.86349\n",
      "[68]\tvalid_0's tweedie: 1.86311\n",
      "[69]\tvalid_0's tweedie: 1.86419\n",
      "[70]\tvalid_0's tweedie: 1.86364\n",
      "[71]\tvalid_0's tweedie: 1.86305\n",
      "[72]\tvalid_0's tweedie: 1.86258\n",
      "[73]\tvalid_0's tweedie: 1.86198\n",
      "[74]\tvalid_0's tweedie: 1.86156\n",
      "[75]\tvalid_0's tweedie: 1.86111\n",
      "[76]\tvalid_0's tweedie: 1.86086\n",
      "[77]\tvalid_0's tweedie: 1.86034\n",
      "[78]\tvalid_0's tweedie: 1.85996\n",
      "[79]\tvalid_0's tweedie: 1.85944\n",
      "[80]\tvalid_0's tweedie: 1.85922\n",
      "[81]\tvalid_0's tweedie: 1.85866\n",
      "[82]\tvalid_0's tweedie: 1.85815\n",
      "[83]\tvalid_0's tweedie: 1.85776\n",
      "[84]\tvalid_0's tweedie: 1.85005\n",
      "[85]\tvalid_0's tweedie: 1.84979\n",
      "[86]\tvalid_0's tweedie: 1.84954\n",
      "[87]\tvalid_0's tweedie: 1.84926\n",
      "[88]\tvalid_0's tweedie: 1.84905\n",
      "[89]\tvalid_0's tweedie: 1.8488\n",
      "[90]\tvalid_0's tweedie: 1.84855\n",
      "[91]\tvalid_0's tweedie: 1.84828\n",
      "[92]\tvalid_0's tweedie: 1.84773\n",
      "[93]\tvalid_0's tweedie: 1.84748\n",
      "[94]\tvalid_0's tweedie: 1.84725\n",
      "[95]\tvalid_0's tweedie: 1.84709\n",
      "[96]\tvalid_0's tweedie: 1.8468\n",
      "[97]\tvalid_0's tweedie: 1.84655\n",
      "[98]\tvalid_0's tweedie: 1.84637\n",
      "[99]\tvalid_0's tweedie: 1.84611\n",
      "[100]\tvalid_0's tweedie: 1.84598\n",
      "[101]\tvalid_0's tweedie: 1.84579\n",
      "[102]\tvalid_0's tweedie: 1.84574\n",
      "[103]\tvalid_0's tweedie: 1.84556\n",
      "[104]\tvalid_0's tweedie: 1.84539\n",
      "[105]\tvalid_0's tweedie: 1.84521\n",
      "[106]\tvalid_0's tweedie: 1.84503\n",
      "[107]\tvalid_0's tweedie: 1.84485\n",
      "[108]\tvalid_0's tweedie: 1.84482\n",
      "[109]\tvalid_0's tweedie: 1.84463\n",
      "[110]\tvalid_0's tweedie: 1.84563\n",
      "[111]\tvalid_0's tweedie: 1.8455\n",
      "[112]\tvalid_0's tweedie: 1.84533\n",
      "[113]\tvalid_0's tweedie: 1.84521\n",
      "[114]\tvalid_0's tweedie: 1.84503\n",
      "[115]\tvalid_0's tweedie: 1.84487\n",
      "[116]\tvalid_0's tweedie: 1.84472\n",
      "[117]\tvalid_0's tweedie: 1.84427\n",
      "[118]\tvalid_0's tweedie: 1.84401\n",
      "[119]\tvalid_0's tweedie: 1.84369\n",
      "[120]\tvalid_0's tweedie: 1.84352\n",
      "[121]\tvalid_0's tweedie: 1.84337\n",
      "[122]\tvalid_0's tweedie: 1.84327\n",
      "[123]\tvalid_0's tweedie: 1.84306\n",
      "[124]\tvalid_0's tweedie: 1.84293\n",
      "[125]\tvalid_0's tweedie: 1.84276\n",
      "[126]\tvalid_0's tweedie: 1.84254\n",
      "[127]\tvalid_0's tweedie: 1.84237\n",
      "[128]\tvalid_0's tweedie: 1.84223\n",
      "[129]\tvalid_0's tweedie: 1.84216\n",
      "[130]\tvalid_0's tweedie: 1.84204\n",
      "[131]\tvalid_0's tweedie: 1.84183\n",
      "[132]\tvalid_0's tweedie: 1.84163\n",
      "[133]\tvalid_0's tweedie: 1.84158\n",
      "[134]\tvalid_0's tweedie: 1.84139\n",
      "[135]\tvalid_0's tweedie: 1.84122\n",
      "[136]\tvalid_0's tweedie: 1.84123\n",
      "[137]\tvalid_0's tweedie: 1.84105\n",
      "[138]\tvalid_0's tweedie: 1.84094\n",
      "[139]\tvalid_0's tweedie: 1.84077\n",
      "[140]\tvalid_0's tweedie: 1.84069\n",
      "[141]\tvalid_0's tweedie: 1.84053\n",
      "[142]\tvalid_0's tweedie: 1.8403\n",
      "[143]\tvalid_0's tweedie: 1.84018\n",
      "[144]\tvalid_0's tweedie: 1.84006\n",
      "[145]\tvalid_0's tweedie: 1.83998\n",
      "[146]\tvalid_0's tweedie: 1.83983\n",
      "[147]\tvalid_0's tweedie: 1.83974\n",
      "[148]\tvalid_0's tweedie: 1.83956\n",
      "[149]\tvalid_0's tweedie: 1.83941\n",
      "[150]\tvalid_0's tweedie: 1.83925\n",
      "[151]\tvalid_0's tweedie: 1.8392\n",
      "[152]\tvalid_0's tweedie: 1.83905\n",
      "[153]\tvalid_0's tweedie: 1.83904\n",
      "[154]\tvalid_0's tweedie: 1.83888\n",
      "[155]\tvalid_0's tweedie: 1.83874\n",
      "[156]\tvalid_0's tweedie: 1.83863\n",
      "[157]\tvalid_0's tweedie: 1.83855\n",
      "[158]\tvalid_0's tweedie: 1.83861\n",
      "[159]\tvalid_0's tweedie: 1.83846\n",
      "[160]\tvalid_0's tweedie: 1.83833\n",
      "[161]\tvalid_0's tweedie: 1.83819\n",
      "[162]\tvalid_0's tweedie: 1.83806\n",
      "[163]\tvalid_0's tweedie: 1.83794\n",
      "[164]\tvalid_0's tweedie: 1.83786\n",
      "[165]\tvalid_0's tweedie: 1.83774\n",
      "[166]\tvalid_0's tweedie: 1.83765\n",
      "[167]\tvalid_0's tweedie: 1.83753\n",
      "[168]\tvalid_0's tweedie: 1.83745\n",
      "[169]\tvalid_0's tweedie: 1.83738\n",
      "[170]\tvalid_0's tweedie: 1.83732\n",
      "[171]\tvalid_0's tweedie: 1.83728\n",
      "[172]\tvalid_0's tweedie: 1.8373\n",
      "[173]\tvalid_0's tweedie: 1.83724\n",
      "[174]\tvalid_0's tweedie: 1.83713\n",
      "[175]\tvalid_0's tweedie: 1.83712\n",
      "[176]\tvalid_0's tweedie: 1.83701\n",
      "[177]\tvalid_0's tweedie: 1.83689\n",
      "[178]\tvalid_0's tweedie: 1.8368\n",
      "[179]\tvalid_0's tweedie: 1.83674\n",
      "[180]\tvalid_0's tweedie: 1.83665\n",
      "[181]\tvalid_0's tweedie: 1.83659\n",
      "[182]\tvalid_0's tweedie: 1.83646\n",
      "[183]\tvalid_0's tweedie: 1.83637\n",
      "[184]\tvalid_0's tweedie: 1.83628\n",
      "[185]\tvalid_0's tweedie: 1.83619\n",
      "[186]\tvalid_0's tweedie: 1.8361\n",
      "[187]\tvalid_0's tweedie: 1.83605\n",
      "[188]\tvalid_0's tweedie: 1.83595\n",
      "[189]\tvalid_0's tweedie: 1.83587\n",
      "[190]\tvalid_0's tweedie: 1.83584\n",
      "[191]\tvalid_0's tweedie: 1.83576\n",
      "[192]\tvalid_0's tweedie: 1.83568\n",
      "[193]\tvalid_0's tweedie: 1.83603\n",
      "[194]\tvalid_0's tweedie: 1.83595\n",
      "[195]\tvalid_0's tweedie: 1.83586\n",
      "[196]\tvalid_0's tweedie: 1.83578\n",
      "[197]\tvalid_0's tweedie: 1.8357\n",
      "[198]\tvalid_0's tweedie: 1.83562\n",
      "[199]\tvalid_0's tweedie: 1.83553\n",
      "[200]\tvalid_0's tweedie: 1.83546\n",
      "[201]\tvalid_0's tweedie: 1.83539\n",
      "[202]\tvalid_0's tweedie: 1.83532\n",
      "[203]\tvalid_0's tweedie: 1.83526\n",
      "[204]\tvalid_0's tweedie: 1.83519\n",
      "[205]\tvalid_0's tweedie: 1.83515\n",
      "[206]\tvalid_0's tweedie: 1.83509\n",
      "[207]\tvalid_0's tweedie: 1.83519\n",
      "[208]\tvalid_0's tweedie: 1.83513\n",
      "[209]\tvalid_0's tweedie: 1.83521\n",
      "[210]\tvalid_0's tweedie: 1.83514\n",
      "[211]\tvalid_0's tweedie: 1.83507\n",
      "[212]\tvalid_0's tweedie: 1.83501\n",
      "[213]\tvalid_0's tweedie: 1.83494\n",
      "[214]\tvalid_0's tweedie: 1.83489\n",
      "[215]\tvalid_0's tweedie: 1.83492\n",
      "[216]\tvalid_0's tweedie: 1.83487\n",
      "[217]\tvalid_0's tweedie: 1.83481\n",
      "[218]\tvalid_0's tweedie: 1.83478\n",
      "[219]\tvalid_0's tweedie: 1.83522\n",
      "[220]\tvalid_0's tweedie: 1.83514\n",
      "[221]\tvalid_0's tweedie: 1.8351\n",
      "[222]\tvalid_0's tweedie: 1.83507\n",
      "[223]\tvalid_0's tweedie: 1.83501\n",
      "[224]\tvalid_0's tweedie: 1.83495\n",
      "[225]\tvalid_0's tweedie: 1.8349\n",
      "[226]\tvalid_0's tweedie: 1.83484\n",
      "[227]\tvalid_0's tweedie: 1.83479\n",
      "[228]\tvalid_0's tweedie: 1.83473\n",
      "[229]\tvalid_0's tweedie: 1.83468\n",
      "[230]\tvalid_0's tweedie: 1.83463\n",
      "[231]\tvalid_0's tweedie: 1.83458\n",
      "[232]\tvalid_0's tweedie: 1.83452\n",
      "[233]\tvalid_0's tweedie: 1.83448\n",
      "[234]\tvalid_0's tweedie: 1.83443\n",
      "[235]\tvalid_0's tweedie: 1.83428\n",
      "[236]\tvalid_0's tweedie: 1.83424\n",
      "[237]\tvalid_0's tweedie: 1.83419\n",
      "[238]\tvalid_0's tweedie: 1.83415\n",
      "[239]\tvalid_0's tweedie: 1.8341\n",
      "[240]\tvalid_0's tweedie: 1.83406\n",
      "[241]\tvalid_0's tweedie: 1.83402\n",
      "[242]\tvalid_0's tweedie: 1.83399\n",
      "[243]\tvalid_0's tweedie: 1.83399\n",
      "[244]\tvalid_0's tweedie: 1.83395\n",
      "[245]\tvalid_0's tweedie: 1.83391\n",
      "[246]\tvalid_0's tweedie: 1.83387\n",
      "[247]\tvalid_0's tweedie: 1.83386\n",
      "[248]\tvalid_0's tweedie: 1.83382\n",
      "[249]\tvalid_0's tweedie: 1.83379\n",
      "[250]\tvalid_0's tweedie: 1.83376\n",
      "[251]\tvalid_0's tweedie: 1.8337\n",
      "[252]\tvalid_0's tweedie: 1.83367\n",
      "[253]\tvalid_0's tweedie: 1.83367\n",
      "[254]\tvalid_0's tweedie: 1.83363\n",
      "[255]\tvalid_0's tweedie: 1.8336\n",
      "[256]\tvalid_0's tweedie: 1.83356\n",
      "[257]\tvalid_0's tweedie: 1.83354\n",
      "[258]\tvalid_0's tweedie: 1.83351\n",
      "[259]\tvalid_0's tweedie: 1.83348\n"
     ]
    },
    {
     "name": "stdout",
     "output_type": "stream",
     "text": [
      "[260]\tvalid_0's tweedie: 1.83347\n",
      "[261]\tvalid_0's tweedie: 1.83344\n",
      "[262]\tvalid_0's tweedie: 1.83341\n",
      "[263]\tvalid_0's tweedie: 1.83339\n",
      "[264]\tvalid_0's tweedie: 1.83336\n",
      "[265]\tvalid_0's tweedie: 1.83333\n",
      "[266]\tvalid_0's tweedie: 1.83331\n",
      "[267]\tvalid_0's tweedie: 1.83329\n",
      "[268]\tvalid_0's tweedie: 1.83327\n",
      "[269]\tvalid_0's tweedie: 1.83325\n",
      "[270]\tvalid_0's tweedie: 1.83323\n",
      "[271]\tvalid_0's tweedie: 1.8332\n",
      "[272]\tvalid_0's tweedie: 1.83318\n",
      "[273]\tvalid_0's tweedie: 1.83315\n",
      "[274]\tvalid_0's tweedie: 1.83316\n",
      "[275]\tvalid_0's tweedie: 1.83313\n",
      "[276]\tvalid_0's tweedie: 1.83311\n",
      "[277]\tvalid_0's tweedie: 1.8331\n",
      "[278]\tvalid_0's tweedie: 1.83307\n",
      "[279]\tvalid_0's tweedie: 1.83305\n",
      "[280]\tvalid_0's tweedie: 1.83303\n",
      "[281]\tvalid_0's tweedie: 1.83301\n",
      "[282]\tvalid_0's tweedie: 1.83303\n",
      "[283]\tvalid_0's tweedie: 1.83301\n",
      "[284]\tvalid_0's tweedie: 1.83298\n",
      "[285]\tvalid_0's tweedie: 1.83297\n",
      "[286]\tvalid_0's tweedie: 1.83295\n",
      "[287]\tvalid_0's tweedie: 1.83293\n",
      "[288]\tvalid_0's tweedie: 1.83291\n",
      "[289]\tvalid_0's tweedie: 1.83289\n",
      "[290]\tvalid_0's tweedie: 1.83287\n",
      "[291]\tvalid_0's tweedie: 1.83285\n",
      "[292]\tvalid_0's tweedie: 1.83283\n",
      "[293]\tvalid_0's tweedie: 1.83282\n",
      "[294]\tvalid_0's tweedie: 1.8328\n",
      "[295]\tvalid_0's tweedie: 1.83278\n",
      "[296]\tvalid_0's tweedie: 1.83277\n",
      "[297]\tvalid_0's tweedie: 1.83275\n",
      "[298]\tvalid_0's tweedie: 1.83273\n",
      "[299]\tvalid_0's tweedie: 1.83272\n",
      "[300]\tvalid_0's tweedie: 1.83271\n",
      "[301]\tvalid_0's tweedie: 1.83269\n",
      "[302]\tvalid_0's tweedie: 1.83267\n",
      "[303]\tvalid_0's tweedie: 1.83266\n",
      "[304]\tvalid_0's tweedie: 1.83265\n",
      "[305]\tvalid_0's tweedie: 1.83263\n",
      "[306]\tvalid_0's tweedie: 1.83262\n",
      "[307]\tvalid_0's tweedie: 1.83261\n",
      "[308]\tvalid_0's tweedie: 1.83259\n",
      "[309]\tvalid_0's tweedie: 1.83259\n",
      "[310]\tvalid_0's tweedie: 1.83258\n",
      "[311]\tvalid_0's tweedie: 1.83257\n",
      "[312]\tvalid_0's tweedie: 1.83255\n",
      "[313]\tvalid_0's tweedie: 1.83254\n",
      "[314]\tvalid_0's tweedie: 1.83253\n",
      "[315]\tvalid_0's tweedie: 1.83251\n",
      "[316]\tvalid_0's tweedie: 1.8325\n",
      "[317]\tvalid_0's tweedie: 1.83249\n",
      "[318]\tvalid_0's tweedie: 1.83248\n",
      "[319]\tvalid_0's tweedie: 1.83247\n",
      "[320]\tvalid_0's tweedie: 1.83245\n",
      "[321]\tvalid_0's tweedie: 1.83244\n",
      "[322]\tvalid_0's tweedie: 1.83243\n",
      "[323]\tvalid_0's tweedie: 1.83242\n",
      "[324]\tvalid_0's tweedie: 1.83241\n",
      "[325]\tvalid_0's tweedie: 1.83243\n",
      "[326]\tvalid_0's tweedie: 1.83242\n",
      "[327]\tvalid_0's tweedie: 1.83241\n",
      "[328]\tvalid_0's tweedie: 1.8324\n",
      "[329]\tvalid_0's tweedie: 1.83239\n",
      "[330]\tvalid_0's tweedie: 1.83237\n",
      "[331]\tvalid_0's tweedie: 1.83237\n",
      "[332]\tvalid_0's tweedie: 1.83235\n",
      "[333]\tvalid_0's tweedie: 1.83234\n",
      "[334]\tvalid_0's tweedie: 1.83233\n",
      "[335]\tvalid_0's tweedie: 1.83232\n",
      "[336]\tvalid_0's tweedie: 1.83231\n",
      "[337]\tvalid_0's tweedie: 1.8323\n",
      "[338]\tvalid_0's tweedie: 1.83228\n",
      "[339]\tvalid_0's tweedie: 1.83227\n",
      "[340]\tvalid_0's tweedie: 1.83226\n",
      "[341]\tvalid_0's tweedie: 1.83226\n",
      "[342]\tvalid_0's tweedie: 1.83225\n",
      "[343]\tvalid_0's tweedie: 1.83224\n",
      "[344]\tvalid_0's tweedie: 1.83224\n",
      "[345]\tvalid_0's tweedie: 1.83223\n",
      "[346]\tvalid_0's tweedie: 1.83223\n",
      "[347]\tvalid_0's tweedie: 1.83222\n",
      "[348]\tvalid_0's tweedie: 1.83221\n",
      "[349]\tvalid_0's tweedie: 1.8322\n",
      "[350]\tvalid_0's tweedie: 1.83219\n",
      "[351]\tvalid_0's tweedie: 1.83219\n",
      "[352]\tvalid_0's tweedie: 1.83218\n",
      "[353]\tvalid_0's tweedie: 1.83217\n",
      "[354]\tvalid_0's tweedie: 1.83217\n",
      "[355]\tvalid_0's tweedie: 1.83216\n",
      "[356]\tvalid_0's tweedie: 1.83216\n",
      "[357]\tvalid_0's tweedie: 1.83215\n",
      "[358]\tvalid_0's tweedie: 1.83214\n",
      "[359]\tvalid_0's tweedie: 1.83214\n",
      "[360]\tvalid_0's tweedie: 1.83213\n",
      "[361]\tvalid_0's tweedie: 1.83212\n",
      "[362]\tvalid_0's tweedie: 1.83211\n",
      "[363]\tvalid_0's tweedie: 1.83211\n",
      "[364]\tvalid_0's tweedie: 1.8321\n",
      "[365]\tvalid_0's tweedie: 1.8321\n",
      "[366]\tvalid_0's tweedie: 1.83209\n",
      "[367]\tvalid_0's tweedie: 1.83208\n",
      "[368]\tvalid_0's tweedie: 1.83208\n",
      "[369]\tvalid_0's tweedie: 1.83207\n",
      "[370]\tvalid_0's tweedie: 1.83207\n",
      "[371]\tvalid_0's tweedie: 1.83206\n",
      "[372]\tvalid_0's tweedie: 1.83206\n",
      "[373]\tvalid_0's tweedie: 1.83206\n",
      "[374]\tvalid_0's tweedie: 1.83205\n",
      "[375]\tvalid_0's tweedie: 1.83205\n",
      "[376]\tvalid_0's tweedie: 1.83205\n",
      "[377]\tvalid_0's tweedie: 1.83204\n",
      "[378]\tvalid_0's tweedie: 1.83203\n",
      "[379]\tvalid_0's tweedie: 1.83203\n",
      "[380]\tvalid_0's tweedie: 1.83201\n",
      "[381]\tvalid_0's tweedie: 1.83201\n",
      "[382]\tvalid_0's tweedie: 1.832\n",
      "[383]\tvalid_0's tweedie: 1.832\n",
      "[384]\tvalid_0's tweedie: 1.832\n",
      "[385]\tvalid_0's tweedie: 1.83199\n",
      "[386]\tvalid_0's tweedie: 1.83199\n",
      "[387]\tvalid_0's tweedie: 1.83199\n",
      "[388]\tvalid_0's tweedie: 1.83198\n",
      "[389]\tvalid_0's tweedie: 1.83198\n",
      "[390]\tvalid_0's tweedie: 1.83197\n",
      "[391]\tvalid_0's tweedie: 1.83197\n",
      "[392]\tvalid_0's tweedie: 1.83197\n",
      "[393]\tvalid_0's tweedie: 1.83197\n",
      "[394]\tvalid_0's tweedie: 1.83196\n",
      "[395]\tvalid_0's tweedie: 1.83196\n",
      "[396]\tvalid_0's tweedie: 1.83195\n",
      "[397]\tvalid_0's tweedie: 1.83195\n",
      "[398]\tvalid_0's tweedie: 1.83195\n",
      "[399]\tvalid_0's tweedie: 1.83194\n",
      "[400]\tvalid_0's tweedie: 1.83194\n",
      "[401]\tvalid_0's tweedie: 1.83194\n",
      "[402]\tvalid_0's tweedie: 1.83194\n",
      "[403]\tvalid_0's tweedie: 1.83193\n",
      "[404]\tvalid_0's tweedie: 1.83193\n",
      "[405]\tvalid_0's tweedie: 1.83192\n",
      "[406]\tvalid_0's tweedie: 1.83192\n",
      "[407]\tvalid_0's tweedie: 1.83192\n",
      "[408]\tvalid_0's tweedie: 1.83192\n",
      "[409]\tvalid_0's tweedie: 1.83191\n",
      "[410]\tvalid_0's tweedie: 1.83191\n",
      "[411]\tvalid_0's tweedie: 1.83191\n",
      "[412]\tvalid_0's tweedie: 1.8319\n",
      "[413]\tvalid_0's tweedie: 1.8319\n",
      "[414]\tvalid_0's tweedie: 1.8319\n",
      "[415]\tvalid_0's tweedie: 1.8319\n",
      "[416]\tvalid_0's tweedie: 1.83189\n",
      "[417]\tvalid_0's tweedie: 1.83189\n",
      "[418]\tvalid_0's tweedie: 1.83189\n",
      "[419]\tvalid_0's tweedie: 1.83185\n",
      "[420]\tvalid_0's tweedie: 1.83185\n",
      "[421]\tvalid_0's tweedie: 1.83184\n",
      "[422]\tvalid_0's tweedie: 1.83184\n",
      "[423]\tvalid_0's tweedie: 1.83184\n",
      "[424]\tvalid_0's tweedie: 1.83184\n",
      "[425]\tvalid_0's tweedie: 1.83183\n",
      "[426]\tvalid_0's tweedie: 1.83183\n",
      "[427]\tvalid_0's tweedie: 1.83183\n",
      "[428]\tvalid_0's tweedie: 1.83183\n",
      "[429]\tvalid_0's tweedie: 1.83183\n",
      "[430]\tvalid_0's tweedie: 1.83182\n",
      "[431]\tvalid_0's tweedie: 1.83182\n",
      "[432]\tvalid_0's tweedie: 1.83182\n",
      "[433]\tvalid_0's tweedie: 1.83182\n",
      "[434]\tvalid_0's tweedie: 1.83181\n",
      "[435]\tvalid_0's tweedie: 1.83181\n",
      "[436]\tvalid_0's tweedie: 1.83181\n",
      "[437]\tvalid_0's tweedie: 1.83181\n",
      "[438]\tvalid_0's tweedie: 1.83181\n",
      "[439]\tvalid_0's tweedie: 1.83181\n",
      "[440]\tvalid_0's tweedie: 1.83181\n",
      "[441]\tvalid_0's tweedie: 1.8318\n",
      "[442]\tvalid_0's tweedie: 1.8318\n",
      "[443]\tvalid_0's tweedie: 1.8318\n",
      "[444]\tvalid_0's tweedie: 1.8318\n",
      "[445]\tvalid_0's tweedie: 1.8318\n",
      "[446]\tvalid_0's tweedie: 1.8318\n",
      "[447]\tvalid_0's tweedie: 1.8318\n",
      "[448]\tvalid_0's tweedie: 1.83179\n",
      "[449]\tvalid_0's tweedie: 1.83179\n",
      "[450]\tvalid_0's tweedie: 1.83179\n",
      "[451]\tvalid_0's tweedie: 1.83179\n",
      "[452]\tvalid_0's tweedie: 1.83179\n",
      "[453]\tvalid_0's tweedie: 1.83179\n",
      "[454]\tvalid_0's tweedie: 1.83179\n",
      "[455]\tvalid_0's tweedie: 1.83179\n",
      "[456]\tvalid_0's tweedie: 1.83179\n",
      "[457]\tvalid_0's tweedie: 1.83178\n",
      "[458]\tvalid_0's tweedie: 1.83178\n",
      "[459]\tvalid_0's tweedie: 1.83178\n",
      "[460]\tvalid_0's tweedie: 1.83178\n",
      "[461]\tvalid_0's tweedie: 1.83178\n",
      "[462]\tvalid_0's tweedie: 1.83178\n",
      "[463]\tvalid_0's tweedie: 1.83178\n",
      "[464]\tvalid_0's tweedie: 1.83178\n",
      "[465]\tvalid_0's tweedie: 1.83177\n",
      "[466]\tvalid_0's tweedie: 1.83177\n",
      "[467]\tvalid_0's tweedie: 1.83177\n",
      "[468]\tvalid_0's tweedie: 1.83177\n",
      "[469]\tvalid_0's tweedie: 1.83177\n",
      "[470]\tvalid_0's tweedie: 1.83177\n",
      "[471]\tvalid_0's tweedie: 1.83177\n",
      "[472]\tvalid_0's tweedie: 1.83177\n",
      "[473]\tvalid_0's tweedie: 1.83177\n",
      "[474]\tvalid_0's tweedie: 1.83177\n",
      "[475]\tvalid_0's tweedie: 1.83177\n",
      "[476]\tvalid_0's tweedie: 1.83177\n",
      "[477]\tvalid_0's tweedie: 1.83177\n",
      "[478]\tvalid_0's tweedie: 1.83176\n",
      "[479]\tvalid_0's tweedie: 1.83176\n",
      "[480]\tvalid_0's tweedie: 1.83176\n",
      "[481]\tvalid_0's tweedie: 1.83176\n",
      "[482]\tvalid_0's tweedie: 1.83176\n",
      "[483]\tvalid_0's tweedie: 1.83176\n",
      "[484]\tvalid_0's tweedie: 1.83176\n",
      "[485]\tvalid_0's tweedie: 1.83176\n",
      "[486]\tvalid_0's tweedie: 1.83176\n",
      "[487]\tvalid_0's tweedie: 1.83176\n",
      "[488]\tvalid_0's tweedie: 1.83176\n",
      "[489]\tvalid_0's tweedie: 1.83176\n",
      "[490]\tvalid_0's tweedie: 1.83176\n",
      "[491]\tvalid_0's tweedie: 1.83176\n",
      "[492]\tvalid_0's tweedie: 1.83176\n",
      "[493]\tvalid_0's tweedie: 1.83176\n",
      "[494]\tvalid_0's tweedie: 1.83175\n",
      "[495]\tvalid_0's tweedie: 1.83175\n",
      "[496]\tvalid_0's tweedie: 1.83175\n",
      "[497]\tvalid_0's tweedie: 1.83175\n",
      "[498]\tvalid_0's tweedie: 1.83175\n",
      "[499]\tvalid_0's tweedie: 1.83175\n",
      "[500]\tvalid_0's tweedie: 1.83175\n",
      "[501]\tvalid_0's tweedie: 1.83175\n",
      "[502]\tvalid_0's tweedie: 1.83175\n",
      "[503]\tvalid_0's tweedie: 1.83175\n",
      "[504]\tvalid_0's tweedie: 1.83175\n",
      "[505]\tvalid_0's tweedie: 1.83175\n",
      "[506]\tvalid_0's tweedie: 1.83175\n",
      "[507]\tvalid_0's tweedie: 1.83175\n",
      "[508]\tvalid_0's tweedie: 1.83175\n",
      "[509]\tvalid_0's tweedie: 1.83175\n",
      "[510]\tvalid_0's tweedie: 1.83175\n",
      "[511]\tvalid_0's tweedie: 1.83175\n",
      "[512]\tvalid_0's tweedie: 1.83174\n",
      "[513]\tvalid_0's tweedie: 1.83174\n",
      "[514]\tvalid_0's tweedie: 1.83174\n",
      "[515]\tvalid_0's tweedie: 1.83174\n",
      "[516]\tvalid_0's tweedie: 1.83174\n",
      "[517]\tvalid_0's tweedie: 1.83174\n",
      "[518]\tvalid_0's tweedie: 1.83174\n",
      "[519]\tvalid_0's tweedie: 1.83174\n"
     ]
    },
    {
     "name": "stdout",
     "output_type": "stream",
     "text": [
      "[520]\tvalid_0's tweedie: 1.83174\n",
      "[521]\tvalid_0's tweedie: 1.83174\n",
      "[522]\tvalid_0's tweedie: 1.83174\n",
      "[523]\tvalid_0's tweedie: 1.83174\n",
      "[524]\tvalid_0's tweedie: 1.83174\n",
      "[525]\tvalid_0's tweedie: 1.83174\n",
      "[526]\tvalid_0's tweedie: 1.83174\n",
      "[527]\tvalid_0's tweedie: 1.83174\n",
      "[528]\tvalid_0's tweedie: 1.83174\n",
      "[529]\tvalid_0's tweedie: 1.83174\n",
      "[530]\tvalid_0's tweedie: 1.83173\n",
      "[531]\tvalid_0's tweedie: 1.83173\n",
      "[532]\tvalid_0's tweedie: 1.83173\n",
      "[533]\tvalid_0's tweedie: 1.83173\n",
      "[534]\tvalid_0's tweedie: 1.83173\n",
      "[535]\tvalid_0's tweedie: 1.83173\n",
      "[536]\tvalid_0's tweedie: 1.83173\n",
      "[537]\tvalid_0's tweedie: 1.83173\n",
      "[538]\tvalid_0's tweedie: 1.83173\n",
      "[539]\tvalid_0's tweedie: 1.83173\n",
      "[540]\tvalid_0's tweedie: 1.83173\n",
      "[541]\tvalid_0's tweedie: 1.83173\n",
      "[542]\tvalid_0's tweedie: 1.83173\n",
      "[543]\tvalid_0's tweedie: 1.83173\n",
      "[544]\tvalid_0's tweedie: 1.83173\n",
      "[545]\tvalid_0's tweedie: 1.83173\n",
      "[546]\tvalid_0's tweedie: 1.83173\n",
      "[547]\tvalid_0's tweedie: 1.83173\n",
      "[548]\tvalid_0's tweedie: 1.83173\n",
      "[549]\tvalid_0's tweedie: 1.83173\n",
      "[550]\tvalid_0's tweedie: 1.83173\n",
      "[551]\tvalid_0's tweedie: 1.83173\n",
      "[552]\tvalid_0's tweedie: 1.83173\n",
      "[553]\tvalid_0's tweedie: 1.83173\n",
      "[554]\tvalid_0's tweedie: 1.83173\n",
      "[555]\tvalid_0's tweedie: 1.83173\n",
      "[556]\tvalid_0's tweedie: 1.83173\n",
      "[557]\tvalid_0's tweedie: 1.83173\n",
      "[558]\tvalid_0's tweedie: 1.83173\n",
      "[559]\tvalid_0's tweedie: 1.83173\n",
      "[560]\tvalid_0's tweedie: 1.83173\n",
      "[561]\tvalid_0's tweedie: 1.83172\n",
      "[562]\tvalid_0's tweedie: 1.83172\n",
      "[563]\tvalid_0's tweedie: 1.83172\n",
      "[564]\tvalid_0's tweedie: 1.83172\n",
      "[565]\tvalid_0's tweedie: 1.83172\n",
      "[566]\tvalid_0's tweedie: 1.83172\n",
      "[567]\tvalid_0's tweedie: 1.83172\n",
      "[568]\tvalid_0's tweedie: 1.83172\n",
      "[569]\tvalid_0's tweedie: 1.83172\n",
      "[570]\tvalid_0's tweedie: 1.83172\n",
      "[571]\tvalid_0's tweedie: 1.83172\n",
      "[572]\tvalid_0's tweedie: 1.83172\n",
      "[573]\tvalid_0's tweedie: 1.83172\n",
      "[574]\tvalid_0's tweedie: 1.83172\n",
      "[575]\tvalid_0's tweedie: 1.83172\n",
      "[576]\tvalid_0's tweedie: 1.83172\n",
      "[577]\tvalid_0's tweedie: 1.83172\n",
      "[578]\tvalid_0's tweedie: 1.83172\n",
      "[579]\tvalid_0's tweedie: 1.83172\n",
      "[580]\tvalid_0's tweedie: 1.83172\n",
      "[581]\tvalid_0's tweedie: 1.83172\n",
      "[582]\tvalid_0's tweedie: 1.83172\n",
      "[583]\tvalid_0's tweedie: 1.83172\n",
      "[584]\tvalid_0's tweedie: 1.83172\n",
      "[585]\tvalid_0's tweedie: 1.83172\n",
      "[586]\tvalid_0's tweedie: 1.83172\n",
      "[587]\tvalid_0's tweedie: 1.83172\n",
      "[588]\tvalid_0's tweedie: 1.83173\n",
      "[589]\tvalid_0's tweedie: 1.83173\n",
      "[590]\tvalid_0's tweedie: 1.83173\n",
      "[591]\tvalid_0's tweedie: 1.83173\n",
      "[592]\tvalid_0's tweedie: 1.83173\n",
      "[593]\tvalid_0's tweedie: 1.83172\n",
      "[594]\tvalid_0's tweedie: 1.83172\n",
      "[595]\tvalid_0's tweedie: 1.83172\n",
      "[596]\tvalid_0's tweedie: 1.83172\n",
      "[597]\tvalid_0's tweedie: 1.83172\n",
      "[598]\tvalid_0's tweedie: 1.83172\n",
      "[599]\tvalid_0's tweedie: 1.83172\n",
      "[600]\tvalid_0's tweedie: 1.83172\n",
      "[601]\tvalid_0's tweedie: 1.83172\n",
      "[602]\tvalid_0's tweedie: 1.83172\n",
      "[603]\tvalid_0's tweedie: 1.83172\n",
      "[604]\tvalid_0's tweedie: 1.83172\n",
      "[605]\tvalid_0's tweedie: 1.83172\n",
      "[606]\tvalid_0's tweedie: 1.83172\n",
      "[607]\tvalid_0's tweedie: 1.83172\n",
      "[608]\tvalid_0's tweedie: 1.83172\n",
      "[609]\tvalid_0's tweedie: 1.83172\n",
      "[610]\tvalid_0's tweedie: 1.83172\n",
      "[611]\tvalid_0's tweedie: 1.83172\n",
      "[612]\tvalid_0's tweedie: 1.83172\n",
      "[613]\tvalid_0's tweedie: 1.83172\n",
      "[614]\tvalid_0's tweedie: 1.83172\n",
      "[615]\tvalid_0's tweedie: 1.83172\n",
      "[616]\tvalid_0's tweedie: 1.83172\n",
      "[617]\tvalid_0's tweedie: 1.83172\n"
     ]
    },
    {
     "data": {
      "text/html": [
       "<style>#sk-container-id-47 {color: black;background-color: white;}#sk-container-id-47 pre{padding: 0;}#sk-container-id-47 div.sk-toggleable {background-color: white;}#sk-container-id-47 label.sk-toggleable__label {cursor: pointer;display: block;width: 100%;margin-bottom: 0;padding: 0.3em;box-sizing: border-box;text-align: center;}#sk-container-id-47 label.sk-toggleable__label-arrow:before {content: \"▸\";float: left;margin-right: 0.25em;color: #696969;}#sk-container-id-47 label.sk-toggleable__label-arrow:hover:before {color: black;}#sk-container-id-47 div.sk-estimator:hover label.sk-toggleable__label-arrow:before {color: black;}#sk-container-id-47 div.sk-toggleable__content {max-height: 0;max-width: 0;overflow: hidden;text-align: left;background-color: #f0f8ff;}#sk-container-id-47 div.sk-toggleable__content pre {margin: 0.2em;color: black;border-radius: 0.25em;background-color: #f0f8ff;}#sk-container-id-47 input.sk-toggleable__control:checked~div.sk-toggleable__content {max-height: 200px;max-width: 100%;overflow: auto;}#sk-container-id-47 input.sk-toggleable__control:checked~label.sk-toggleable__label-arrow:before {content: \"▾\";}#sk-container-id-47 div.sk-estimator input.sk-toggleable__control:checked~label.sk-toggleable__label {background-color: #d4ebff;}#sk-container-id-47 div.sk-label input.sk-toggleable__control:checked~label.sk-toggleable__label {background-color: #d4ebff;}#sk-container-id-47 input.sk-hidden--visually {border: 0;clip: rect(1px 1px 1px 1px);clip: rect(1px, 1px, 1px, 1px);height: 1px;margin: -1px;overflow: hidden;padding: 0;position: absolute;width: 1px;}#sk-container-id-47 div.sk-estimator {font-family: monospace;background-color: #f0f8ff;border: 1px dotted black;border-radius: 0.25em;box-sizing: border-box;margin-bottom: 0.5em;}#sk-container-id-47 div.sk-estimator:hover {background-color: #d4ebff;}#sk-container-id-47 div.sk-parallel-item::after {content: \"\";width: 100%;border-bottom: 1px solid gray;flex-grow: 1;}#sk-container-id-47 div.sk-label:hover label.sk-toggleable__label {background-color: #d4ebff;}#sk-container-id-47 div.sk-serial::before {content: \"\";position: absolute;border-left: 1px solid gray;box-sizing: border-box;top: 0;bottom: 0;left: 50%;z-index: 0;}#sk-container-id-47 div.sk-serial {display: flex;flex-direction: column;align-items: center;background-color: white;padding-right: 0.2em;padding-left: 0.2em;position: relative;}#sk-container-id-47 div.sk-item {position: relative;z-index: 1;}#sk-container-id-47 div.sk-parallel {display: flex;align-items: stretch;justify-content: center;background-color: white;position: relative;}#sk-container-id-47 div.sk-item::before, #sk-container-id-47 div.sk-parallel-item::before {content: \"\";position: absolute;border-left: 1px solid gray;box-sizing: border-box;top: 0;bottom: 0;left: 50%;z-index: -1;}#sk-container-id-47 div.sk-parallel-item {display: flex;flex-direction: column;z-index: 1;position: relative;background-color: white;}#sk-container-id-47 div.sk-parallel-item:first-child::after {align-self: flex-end;width: 50%;}#sk-container-id-47 div.sk-parallel-item:last-child::after {align-self: flex-start;width: 50%;}#sk-container-id-47 div.sk-parallel-item:only-child::after {width: 0;}#sk-container-id-47 div.sk-dashed-wrapped {border: 1px dashed gray;margin: 0 0.4em 0.5em 0.4em;box-sizing: border-box;padding-bottom: 0.4em;background-color: white;}#sk-container-id-47 div.sk-label label {font-family: monospace;font-weight: bold;display: inline-block;line-height: 1.2em;}#sk-container-id-47 div.sk-label-container {text-align: center;}#sk-container-id-47 div.sk-container {/* jupyter's `normalize.less` sets `[hidden] { display: none; }` but bootstrap.min.css set `[hidden] { display: none !important; }` so we also need the `!important` here to be able to override the default hidden behavior on the sphinx rendered scikit-learn.org. See: https://github.com/scikit-learn/scikit-learn/issues/21755 */display: inline-block !important;position: relative;}#sk-container-id-47 div.sk-text-repr-fallback {display: none;}</style><div id=\"sk-container-id-47\" class=\"sk-top-container\"><div class=\"sk-text-repr-fallback\"><pre>LGBMRegressor(early_stopping_round=30, learning_rate=0.01, linear_tree=True,\n",
       "              max_depth=2, num_iterations=10000, objective=&#x27;tweedie&#x27;,\n",
       "              random_state=42)</pre><b>In a Jupyter environment, please rerun this cell to show the HTML representation or trust the notebook. <br />On GitHub, the HTML representation is unable to render, please try loading this page with nbviewer.org.</b></div><div class=\"sk-container\" hidden><div class=\"sk-item\"><div class=\"sk-estimator sk-toggleable\"><input class=\"sk-toggleable__control sk-hidden--visually\" id=\"sk-estimator-id-47\" type=\"checkbox\" checked><label for=\"sk-estimator-id-47\" class=\"sk-toggleable__label sk-toggleable__label-arrow\">LGBMRegressor</label><div class=\"sk-toggleable__content\"><pre>LGBMRegressor(early_stopping_round=30, learning_rate=0.01, linear_tree=True,\n",
       "              max_depth=2, num_iterations=10000, objective=&#x27;tweedie&#x27;,\n",
       "              random_state=42)</pre></div></div></div></div></div>"
      ],
      "text/plain": [
       "LGBMRegressor(early_stopping_round=30, learning_rate=0.01, linear_tree=True,\n",
       "              max_depth=2, num_iterations=10000, objective='tweedie',\n",
       "              random_state=42)"
      ]
     },
     "execution_count": 842,
     "metadata": {},
     "output_type": "execute_result"
    }
   ],
   "source": [
    "model.fit(X,y,eval_set= [(X_valid,y_valid)])"
   ]
  },
  {
   "cell_type": "code",
   "execution_count": 843,
   "id": "dc5bb411",
   "metadata": {
    "ExecuteTime": {
     "end_time": "2022-08-14T22:21:44.918567Z",
     "start_time": "2022-08-14T22:21:44.891574Z"
    },
    "scrolled": false
   },
   "outputs": [
    {
     "data": {
      "text/plain": [
       "array([0.29207831, 0.29207831, 0.29207831, 0.29207831, 0.29207831,\n",
       "       0.29207831, 0.29207831, 0.29207831, 0.29207831, 0.29207831,\n",
       "       0.29207831, 0.29207831, 0.29207831, 0.29207831, 0.29207831,\n",
       "       0.29207831, 0.29207831, 0.29207831, 0.29207831, 0.29207831,\n",
       "       0.29207831, 0.29207831, 0.29207831, 0.29207831, 0.29207831,\n",
       "       0.29207831, 0.29207831, 0.29207831, 0.29207831, 0.29207831,\n",
       "       0.29207831, 0.29207831, 0.29207831, 0.29207831, 0.29207831,\n",
       "       0.29207831, 0.29207831, 0.29207831, 0.29207831, 0.29207831,\n",
       "       0.29207831, 0.29207831, 0.29207831, 0.29207831, 0.29207831,\n",
       "       0.29207831, 0.29207831, 0.29207831, 0.29207831, 0.29207831,\n",
       "       0.29207831, 0.29207831, 0.29207831, 0.29207831, 0.29207831,\n",
       "       0.29207831, 0.29207831, 0.29207831, 0.29207831, 0.29207831,\n",
       "       0.29207831, 0.29207831, 0.29207831, 0.29207831, 0.29207831,\n",
       "       0.29207831])"
      ]
     },
     "execution_count": 843,
     "metadata": {},
     "output_type": "execute_result"
    }
   ],
   "source": [
    "model.predict(test_df[[\"Dev\",\"AY\"]])"
   ]
  },
  {
   "cell_type": "code",
   "execution_count": 844,
   "id": "88acaf45",
   "metadata": {
    "ExecuteTime": {
     "end_time": "2022-08-14T22:21:44.934570Z",
     "start_time": "2022-08-14T22:21:44.922569Z"
    },
    "scrolled": true
   },
   "outputs": [
    {
     "data": {
      "text/plain": [
       "array([0.29207831, 0.29207831, 0.29207831, 0.29207831, 0.29207831,\n",
       "       0.29207831, 0.29207831, 0.29207831, 0.29207831, 0.29207831,\n",
       "       0.29207831, 0.29207831, 0.29207831, 0.29207831, 0.29207831,\n",
       "       0.29207831, 0.29207831, 0.29207831, 0.29207831, 0.29207831,\n",
       "       0.29207831, 0.29207831, 0.29207831, 0.29207831, 0.29207831,\n",
       "       0.29207831, 0.29207831, 0.29207831, 0.29207831, 0.29207831,\n",
       "       0.29207831, 0.29207831, 0.29207831, 0.29207831, 0.29207831,\n",
       "       0.29207831, 0.29207831, 0.29207831, 0.29207831, 0.29207831,\n",
       "       0.29207831, 0.29207831, 0.29207831, 0.29207831, 0.29207831,\n",
       "       0.29207831, 0.29207831, 0.29207831, 0.29207831, 0.29207831,\n",
       "       0.29207831, 0.29207831, 0.29207831, 0.29207831, 0.29207831,\n",
       "       0.29207831, 0.29207831, 0.29207831, 0.29207831, 0.29207831,\n",
       "       0.29207831, 0.29207831, 0.29207831, 0.29207831, 0.29207831,\n",
       "       0.29207831])"
      ]
     },
     "execution_count": 844,
     "metadata": {},
     "output_type": "execute_result"
    }
   ],
   "source": [
    "model.predict(test_df[[\"Dev\",\"AY\"]])"
   ]
  },
  {
   "cell_type": "markdown",
   "id": "3ae42b5d",
   "metadata": {},
   "source": [
    "### Extrapolation v2 dev"
   ]
  },
  {
   "cell_type": "code",
   "execution_count": 845,
   "id": "a063eee9",
   "metadata": {
    "ExecuteTime": {
     "end_time": "2022-08-14T22:21:44.966570Z",
     "start_time": "2022-08-14T22:21:44.941575Z"
    },
    "scrolled": false
   },
   "outputs": [
    {
     "data": {
      "text/html": [
       "<div>\n",
       "<style scoped>\n",
       "    .dataframe tbody tr th:only-of-type {\n",
       "        vertical-align: middle;\n",
       "    }\n",
       "\n",
       "    .dataframe tbody tr th {\n",
       "        vertical-align: top;\n",
       "    }\n",
       "\n",
       "    .dataframe thead th {\n",
       "        text-align: right;\n",
       "    }\n",
       "</style>\n",
       "<table border=\"1\" class=\"dataframe\">\n",
       "  <thead>\n",
       "    <tr style=\"text-align: right;\">\n",
       "      <th></th>\n",
       "      <th>Dev</th>\n",
       "    </tr>\n",
       "  </thead>\n",
       "  <tbody>\n",
       "    <tr>\n",
       "      <th>0</th>\n",
       "      <td>1.0</td>\n",
       "    </tr>\n",
       "    <tr>\n",
       "      <th>1</th>\n",
       "      <td>2.0</td>\n",
       "    </tr>\n",
       "    <tr>\n",
       "      <th>2</th>\n",
       "      <td>3.0</td>\n",
       "    </tr>\n",
       "    <tr>\n",
       "      <th>3</th>\n",
       "      <td>4.0</td>\n",
       "    </tr>\n",
       "    <tr>\n",
       "      <th>4</th>\n",
       "      <td>5.0</td>\n",
       "    </tr>\n",
       "    <tr>\n",
       "      <th>5</th>\n",
       "      <td>6.0</td>\n",
       "    </tr>\n",
       "    <tr>\n",
       "      <th>6</th>\n",
       "      <td>7.0</td>\n",
       "    </tr>\n",
       "    <tr>\n",
       "      <th>7</th>\n",
       "      <td>8.0</td>\n",
       "    </tr>\n",
       "    <tr>\n",
       "      <th>8</th>\n",
       "      <td>9.0</td>\n",
       "    </tr>\n",
       "    <tr>\n",
       "      <th>9</th>\n",
       "      <td>10.0</td>\n",
       "    </tr>\n",
       "  </tbody>\n",
       "</table>\n",
       "</div>"
      ],
      "text/plain": [
       "    Dev\n",
       "0   1.0\n",
       "1   2.0\n",
       "2   3.0\n",
       "3   4.0\n",
       "4   5.0\n",
       "5   6.0\n",
       "6   7.0\n",
       "7   8.0\n",
       "8   9.0\n",
       "9  10.0"
      ]
     },
     "execution_count": 845,
     "metadata": {},
     "output_type": "execute_result"
    }
   ],
   "source": [
    "X_later"
   ]
  },
  {
   "cell_type": "code",
   "execution_count": 846,
   "id": "e6dfae90",
   "metadata": {
    "ExecuteTime": {
     "end_time": "2022-08-14T22:21:44.982566Z",
     "start_time": "2022-08-14T22:21:44.971570Z"
    }
   },
   "outputs": [],
   "source": [
    "X_later = pd.DataFrame({\"Dev\":np.linspace(1,10,10),\"AY\": np.ones(10)*2002})\n",
    "\n",
    "res2_df = X_later.copy(deep=True)\n",
    "\n",
    "res2_df[\"Loss_pred\"] = model.predict(X_later)\n"
   ]
  },
  {
   "cell_type": "code",
   "execution_count": 847,
   "id": "c7412aeb",
   "metadata": {
    "ExecuteTime": {
     "end_time": "2022-08-14T22:21:45.014582Z",
     "start_time": "2022-08-14T22:21:44.986568Z"
    },
    "scrolled": false
   },
   "outputs": [
    {
     "data": {
      "text/html": [
       "<div>\n",
       "<style scoped>\n",
       "    .dataframe tbody tr th:only-of-type {\n",
       "        vertical-align: middle;\n",
       "    }\n",
       "\n",
       "    .dataframe tbody tr th {\n",
       "        vertical-align: top;\n",
       "    }\n",
       "\n",
       "    .dataframe thead th {\n",
       "        text-align: right;\n",
       "    }\n",
       "</style>\n",
       "<table border=\"1\" class=\"dataframe\">\n",
       "  <thead>\n",
       "    <tr style=\"text-align: right;\">\n",
       "      <th></th>\n",
       "      <th>Dev</th>\n",
       "      <th>AY</th>\n",
       "      <th>Loss_pred</th>\n",
       "    </tr>\n",
       "  </thead>\n",
       "  <tbody>\n",
       "    <tr>\n",
       "      <th>0</th>\n",
       "      <td>1.0</td>\n",
       "      <td>2002.0</td>\n",
       "      <td>0.000003</td>\n",
       "    </tr>\n",
       "    <tr>\n",
       "      <th>1</th>\n",
       "      <td>2.0</td>\n",
       "      <td>2002.0</td>\n",
       "      <td>0.139954</td>\n",
       "    </tr>\n",
       "    <tr>\n",
       "      <th>2</th>\n",
       "      <td>3.0</td>\n",
       "      <td>2002.0</td>\n",
       "      <td>0.169605</td>\n",
       "    </tr>\n",
       "    <tr>\n",
       "      <th>3</th>\n",
       "      <td>4.0</td>\n",
       "      <td>2002.0</td>\n",
       "      <td>0.179381</td>\n",
       "    </tr>\n",
       "    <tr>\n",
       "      <th>4</th>\n",
       "      <td>5.0</td>\n",
       "      <td>2002.0</td>\n",
       "      <td>0.189720</td>\n",
       "    </tr>\n",
       "    <tr>\n",
       "      <th>5</th>\n",
       "      <td>6.0</td>\n",
       "      <td>2002.0</td>\n",
       "      <td>0.200655</td>\n",
       "    </tr>\n",
       "    <tr>\n",
       "      <th>6</th>\n",
       "      <td>7.0</td>\n",
       "      <td>2002.0</td>\n",
       "      <td>0.212220</td>\n",
       "    </tr>\n",
       "    <tr>\n",
       "      <th>7</th>\n",
       "      <td>8.0</td>\n",
       "      <td>2002.0</td>\n",
       "      <td>0.224452</td>\n",
       "    </tr>\n",
       "    <tr>\n",
       "      <th>8</th>\n",
       "      <td>9.0</td>\n",
       "      <td>2002.0</td>\n",
       "      <td>0.237388</td>\n",
       "    </tr>\n",
       "    <tr>\n",
       "      <th>9</th>\n",
       "      <td>10.0</td>\n",
       "      <td>2002.0</td>\n",
       "      <td>0.251071</td>\n",
       "    </tr>\n",
       "  </tbody>\n",
       "</table>\n",
       "</div>"
      ],
      "text/plain": [
       "    Dev      AY  Loss_pred\n",
       "0   1.0  2002.0   0.000003\n",
       "1   2.0  2002.0   0.139954\n",
       "2   3.0  2002.0   0.169605\n",
       "3   4.0  2002.0   0.179381\n",
       "4   5.0  2002.0   0.189720\n",
       "5   6.0  2002.0   0.200655\n",
       "6   7.0  2002.0   0.212220\n",
       "7   8.0  2002.0   0.224452\n",
       "8   9.0  2002.0   0.237388\n",
       "9  10.0  2002.0   0.251071"
      ]
     },
     "execution_count": 847,
     "metadata": {},
     "output_type": "execute_result"
    }
   ],
   "source": [
    "res2_df"
   ]
  },
  {
   "cell_type": "markdown",
   "id": "f39f1b29",
   "metadata": {},
   "source": [
    "**Successful extrapolation**"
   ]
  },
  {
   "cell_type": "code",
   "execution_count": 848,
   "id": "c9626c77",
   "metadata": {
    "ExecuteTime": {
     "end_time": "2022-08-14T22:21:45.315565Z",
     "start_time": "2022-08-14T22:21:45.021570Z"
    },
    "scrolled": false
   },
   "outputs": [
    {
     "data": {
      "text/plain": [
       "[<matplotlib.lines.Line2D at 0x186f1502bb0>]"
      ]
     },
     "execution_count": 848,
     "metadata": {},
     "output_type": "execute_result"
    },
    {
     "data": {
      "image/png": "[encoded data removed]",
      "text/plain": [
       "<Figure size 432x288 with 1 Axes>"
      ]
     },
     "metadata": {
      "needs_background": "light"
     },
     "output_type": "display_data"
    }
   ],
   "source": [
    "plt.plot(res2_df['Dev'],res2_df['Loss_pred'])"
   ]
  },
  {
   "cell_type": "markdown",
   "id": "cc86d952",
   "metadata": {},
   "source": [
    "### Extrapolation v3 ay"
   ]
  },
  {
   "cell_type": "code",
   "execution_count": 849,
   "id": "ce393712",
   "metadata": {
    "ExecuteTime": {
     "end_time": "2022-08-14T22:21:45.347567Z",
     "start_time": "2022-08-14T22:21:45.323567Z"
    }
   },
   "outputs": [],
   "source": [
    "X_later = pd.DataFrame([[6,2000],[6,2001],[6,2002],[6,2003],[6,2004],[6,2005],[6,2007]],columns=['Dev',\"AY\"])\n",
    "\n",
    "res2_df = X_later.copy(deep=True)\n",
    "\n",
    "res2_df[\"Loss_pred\"] = model.predict(X_later)\n"
   ]
  },
  {
   "cell_type": "code",
   "execution_count": 850,
   "id": "3d817468",
   "metadata": {
    "ExecuteTime": {
     "end_time": "2022-08-14T22:21:45.378568Z",
     "start_time": "2022-08-14T22:21:45.356582Z"
    },
    "scrolled": false
   },
   "outputs": [
    {
     "data": {
      "text/html": [
       "<div>\n",
       "<style scoped>\n",
       "    .dataframe tbody tr th:only-of-type {\n",
       "        vertical-align: middle;\n",
       "    }\n",
       "\n",
       "    .dataframe tbody tr th {\n",
       "        vertical-align: top;\n",
       "    }\n",
       "\n",
       "    .dataframe thead th {\n",
       "        text-align: right;\n",
       "    }\n",
       "</style>\n",
       "<table border=\"1\" class=\"dataframe\">\n",
       "  <thead>\n",
       "    <tr style=\"text-align: right;\">\n",
       "      <th></th>\n",
       "      <th>Dev</th>\n",
       "      <th>AY</th>\n",
       "      <th>Loss_pred</th>\n",
       "    </tr>\n",
       "  </thead>\n",
       "  <tbody>\n",
       "    <tr>\n",
       "      <th>0</th>\n",
       "      <td>6</td>\n",
       "      <td>2000</td>\n",
       "      <td>0.074800</td>\n",
       "    </tr>\n",
       "    <tr>\n",
       "      <th>1</th>\n",
       "      <td>6</td>\n",
       "      <td>2001</td>\n",
       "      <td>0.136240</td>\n",
       "    </tr>\n",
       "    <tr>\n",
       "      <th>2</th>\n",
       "      <td>6</td>\n",
       "      <td>2002</td>\n",
       "      <td>0.200655</td>\n",
       "    </tr>\n",
       "    <tr>\n",
       "      <th>3</th>\n",
       "      <td>6</td>\n",
       "      <td>2003</td>\n",
       "      <td>0.292078</td>\n",
       "    </tr>\n",
       "    <tr>\n",
       "      <th>4</th>\n",
       "      <td>6</td>\n",
       "      <td>2004</td>\n",
       "      <td>0.309820</td>\n",
       "    </tr>\n",
       "    <tr>\n",
       "      <th>5</th>\n",
       "      <td>6</td>\n",
       "      <td>2005</td>\n",
       "      <td>0.328639</td>\n",
       "    </tr>\n",
       "    <tr>\n",
       "      <th>6</th>\n",
       "      <td>6</td>\n",
       "      <td>2007</td>\n",
       "      <td>0.369777</td>\n",
       "    </tr>\n",
       "  </tbody>\n",
       "</table>\n",
       "</div>"
      ],
      "text/plain": [
       "   Dev    AY  Loss_pred\n",
       "0    6  2000   0.074800\n",
       "1    6  2001   0.136240\n",
       "2    6  2002   0.200655\n",
       "3    6  2003   0.292078\n",
       "4    6  2004   0.309820\n",
       "5    6  2005   0.328639\n",
       "6    6  2007   0.369777"
      ]
     },
     "execution_count": 850,
     "metadata": {},
     "output_type": "execute_result"
    }
   ],
   "source": [
    "res2_df"
   ]
  },
  {
   "cell_type": "markdown",
   "id": "b0bcfe32",
   "metadata": {},
   "source": [
    "**Successful extrapolation of dev**"
   ]
  },
  {
   "cell_type": "code",
   "execution_count": 851,
   "id": "655ee5cd",
   "metadata": {
    "ExecuteTime": {
     "end_time": "2022-08-14T22:21:45.627567Z",
     "start_time": "2022-08-14T22:21:45.388571Z"
    },
    "scrolled": true
   },
   "outputs": [
    {
     "data": {
      "text/plain": [
       "[<matplotlib.lines.Line2D at 0x186f15690a0>]"
      ]
     },
     "execution_count": 851,
     "metadata": {},
     "output_type": "execute_result"
    },
    {
     "data": {
      "image/png": "[encoded data removed]",
      "text/plain": [
       "<Figure size 432x288 with 1 Axes>"
      ]
     },
     "metadata": {
      "needs_background": "light"
     },
     "output_type": "display_data"
    }
   ],
   "source": [
    "plt.plot(res2_df['AY'],res2_df['Loss_pred'])"
   ]
  },
  {
   "cell_type": "markdown",
   "id": "53476bc9",
   "metadata": {},
   "source": [
    "**Successful extrapolation of AY trend**"
   ]
  },
  {
   "cell_type": "code",
   "execution_count": null,
   "id": "cb5c04ca",
   "metadata": {},
   "outputs": [],
   "source": []
  }
 ],
 "metadata": {
  "jupytext": {
   "formats": "ipynb,auto:percent"
  },
  "kernelspec": {
   "display_name": "casestudy1",
   "language": "python",
   "name": "casestudy1"
  },
  "language_info": {
   "codemirror_mode": {
    "name": "ipython",
    "version": 3
   },
   "file_extension": ".py",
   "mimetype": "text/x-python",
   "name": "python",
   "nbconvert_exporter": "python",
   "pygments_lexer": "ipython3",
   "version": "3.9.10"
  },
  "toc": {
   "base_numbering": 1,
   "nav_menu": {},
   "number_sections": true,
   "sideBar": true,
   "skip_h1_title": false,
   "title_cell": "Table of Contents",
   "title_sidebar": "Contents",
   "toc_cell": false,
   "toc_position": {},
   "toc_section_display": true,
   "toc_window_display": true
  },
  "varInspector": {
   "cols": {
    "lenName": 16,
    "lenType": 16,
    "lenVar": 40
   },
   "kernels_config": {
    "python": {
     "delete_cmd_postfix": "",
     "delete_cmd_prefix": "del ",
     "library": "var_list.py",
     "varRefreshCmd": "print(var_dic_list())"
    },
    "r": {
     "delete_cmd_postfix": ") ",
     "delete_cmd_prefix": "rm(",
     "library": "var_list.r",
     "varRefreshCmd": "cat(var_dic_list()) "
    }
   },
   "position": {
    "height": "741.844px",
    "left": "1549px",
    "right": "20px",
    "top": "120px",
    "width": "361px"
   },
   "types_to_exclude": [
    "module",
    "function",
    "builtin_function_or_method",
    "instance",
    "_Feature"
   ],
   "window_display": true
  }
 },
 "nbformat": 4,
 "nbformat_minor": 5
}
